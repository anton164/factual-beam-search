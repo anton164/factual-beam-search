{
 "cells": [
  {
   "cell_type": "code",
   "execution_count": 46,
   "metadata": {},
   "outputs": [
    {
     "name": "stderr",
     "output_type": "stream",
     "text": [
      "Using custom data configuration default\n",
      "Reusing dataset xsum (/Users/anton164/.cache/huggingface/datasets/xsum/default/1.2.0/32c23220eadddb1149b16ed2e9430a05293768cfffbdfd151058697d4c11f934)\n"
     ]
    },
    {
     "data": {
      "application/vnd.jupyter.widget-view+json": {
       "model_id": "0cf165005eb84297b1d5ded94b7d66b6",
       "version_major": 2,
       "version_minor": 0
      },
      "text/plain": [
       "  0%|          | 0/3 [00:00<?, ?it/s]"
      ]
     },
     "metadata": {},
     "output_type": "display_data"
    },
    {
     "name": "stdout",
     "output_type": "stream",
     "text": [
      "6823 0.6019940003529204\n",
      "6988 0.6165519675313217\n"
     ]
    }
   ],
   "source": [
    "from src.data_utils import load_xsum_dict, load_shuffled_test_split\n",
    "\n",
    "xsum_test = load_xsum_dict(\"test\")\n",
    "bart_test_extrinsic = load_shuffled_test_split(xsum_test, \"bart-test-extrinsic\", len(xsum_test))\n",
    "print(\n",
    "    len(bart_test_extrinsic),\n",
    "    len(bart_test_extrinsic) / len(xsum_test)\n",
    ")\n",
    "pegasus_test_extrinsic = load_shuffled_test_split(xsum_test, \"pegasus-test-extrinsic\", len(xsum_test))\n",
    "print(\n",
    "    len(pegasus_test_extrinsic),\n",
    "    len(pegasus_test_extrinsic) / len(xsum_test)\n",
    ")"
   ]
  },
  {
   "cell_type": "code",
   "execution_count": 61,
   "metadata": {},
   "outputs": [
    {
     "name": "stdout",
     "output_type": "stream",
     "text": [
      "total gens 20901\n"
     ]
    },
    {
     "data": {
      "text/html": [
       "<div>\n",
       "<style scoped>\n",
       "    .dataframe tbody tr th:only-of-type {\n",
       "        vertical-align: middle;\n",
       "    }\n",
       "\n",
       "    .dataframe tbody tr th {\n",
       "        vertical-align: top;\n",
       "    }\n",
       "\n",
       "    .dataframe thead th {\n",
       "        text-align: right;\n",
       "    }\n",
       "</style>\n",
       "<table border=\"1\" class=\"dataframe\">\n",
       "  <thead>\n",
       "    <tr style=\"text-align: right;\">\n",
       "      <th></th>\n",
       "      <th>summary_factual</th>\n",
       "      <th>summary_non_factual</th>\n",
       "      <th>summary_unknown</th>\n",
       "      <th>summary_failed</th>\n",
       "      <th>mean_edit_distance_token</th>\n",
       "    </tr>\n",
       "    <tr>\n",
       "      <th>iteration</th>\n",
       "      <th></th>\n",
       "      <th></th>\n",
       "      <th></th>\n",
       "      <th></th>\n",
       "      <th></th>\n",
       "    </tr>\n",
       "  </thead>\n",
       "  <tbody>\n",
       "    <tr>\n",
       "      <th>0</th>\n",
       "      <td>0.074996</td>\n",
       "      <td>0.015264</td>\n",
       "      <td>0.909741</td>\n",
       "      <td>0</td>\n",
       "      <td>0.000000</td>\n",
       "    </tr>\n",
       "    <tr>\n",
       "      <th>1</th>\n",
       "      <td>0.079495</td>\n",
       "      <td>0.015970</td>\n",
       "      <td>0.904535</td>\n",
       "      <td>53</td>\n",
       "      <td>1.946974</td>\n",
       "    </tr>\n",
       "    <tr>\n",
       "      <th>2</th>\n",
       "      <td>0.081260</td>\n",
       "      <td>0.031233</td>\n",
       "      <td>0.887507</td>\n",
       "      <td>244</td>\n",
       "      <td>2.192871</td>\n",
       "    </tr>\n",
       "    <tr>\n",
       "      <th>3</th>\n",
       "      <td>0.082936</td>\n",
       "      <td>0.045350</td>\n",
       "      <td>0.871713</td>\n",
       "      <td>413</td>\n",
       "      <td>2.315246</td>\n",
       "    </tr>\n",
       "    <tr>\n",
       "      <th>4</th>\n",
       "      <td>0.083113</td>\n",
       "      <td>0.086201</td>\n",
       "      <td>0.830686</td>\n",
       "      <td>889</td>\n",
       "      <td>2.331833</td>\n",
       "    </tr>\n",
       "    <tr>\n",
       "      <th>5</th>\n",
       "      <td>0.083201</td>\n",
       "      <td>0.096083</td>\n",
       "      <td>0.820716</td>\n",
       "      <td>1008</td>\n",
       "      <td>2.338804</td>\n",
       "    </tr>\n",
       "    <tr>\n",
       "      <th>6</th>\n",
       "      <td>0.083377</td>\n",
       "      <td>0.101112</td>\n",
       "      <td>0.815511</td>\n",
       "      <td>1066</td>\n",
       "      <td>2.335627</td>\n",
       "    </tr>\n",
       "    <tr>\n",
       "      <th>7</th>\n",
       "      <td>0.083377</td>\n",
       "      <td>0.102965</td>\n",
       "      <td>0.813658</td>\n",
       "      <td>1087</td>\n",
       "      <td>2.333774</td>\n",
       "    </tr>\n",
       "    <tr>\n",
       "      <th>8</th>\n",
       "      <td>0.083377</td>\n",
       "      <td>0.103759</td>\n",
       "      <td>0.812864</td>\n",
       "      <td>1095</td>\n",
       "      <td>2.334127</td>\n",
       "    </tr>\n",
       "    <tr>\n",
       "      <th>9</th>\n",
       "      <td>0.083377</td>\n",
       "      <td>0.103935</td>\n",
       "      <td>0.812687</td>\n",
       "      <td>1098</td>\n",
       "      <td>2.335098</td>\n",
       "    </tr>\n",
       "    <tr>\n",
       "      <th>10</th>\n",
       "      <td>0.083377</td>\n",
       "      <td>0.104464</td>\n",
       "      <td>0.812158</td>\n",
       "      <td>1104</td>\n",
       "      <td>2.335274</td>\n",
       "    </tr>\n",
       "    <tr>\n",
       "      <th>11</th>\n",
       "      <td>0.083377</td>\n",
       "      <td>0.104464</td>\n",
       "      <td>0.812158</td>\n",
       "      <td>1105</td>\n",
       "      <td>2.335098</td>\n",
       "    </tr>\n",
       "    <tr>\n",
       "      <th>12</th>\n",
       "      <td>0.083377</td>\n",
       "      <td>0.104553</td>\n",
       "      <td>0.812070</td>\n",
       "      <td>1106</td>\n",
       "      <td>2.335098</td>\n",
       "    </tr>\n",
       "  </tbody>\n",
       "</table>\n",
       "</div>"
      ],
      "text/plain": [
       "           summary_factual  summary_non_factual  summary_unknown  \\\n",
       "iteration                                                          \n",
       "0                 0.074996             0.015264         0.909741   \n",
       "1                 0.079495             0.015970         0.904535   \n",
       "2                 0.081260             0.031233         0.887507   \n",
       "3                 0.082936             0.045350         0.871713   \n",
       "4                 0.083113             0.086201         0.830686   \n",
       "5                 0.083201             0.096083         0.820716   \n",
       "6                 0.083377             0.101112         0.815511   \n",
       "7                 0.083377             0.102965         0.813658   \n",
       "8                 0.083377             0.103759         0.812864   \n",
       "9                 0.083377             0.103935         0.812687   \n",
       "10                0.083377             0.104464         0.812158   \n",
       "11                0.083377             0.104464         0.812158   \n",
       "12                0.083377             0.104553         0.812070   \n",
       "\n",
       "           summary_failed  mean_edit_distance_token  \n",
       "iteration                                            \n",
       "0                       0                  0.000000  \n",
       "1                      53                  1.946974  \n",
       "2                     244                  2.192871  \n",
       "3                     413                  2.315246  \n",
       "4                     889                  2.331833  \n",
       "5                    1008                  2.338804  \n",
       "6                    1066                  2.335627  \n",
       "7                    1087                  2.333774  \n",
       "8                    1095                  2.334127  \n",
       "9                    1098                  2.335098  \n",
       "10                   1104                  2.335274  \n",
       "11                   1105                  2.335098  \n",
       "12                   1106                  2.335098  "
      ]
     },
     "execution_count": 61,
     "metadata": {},
     "output_type": "execute_result"
    }
   ],
   "source": [
    "import pandas as pd\n",
    "import json\n",
    "import numpy as np\n",
    "\n",
    "\n",
    "def read_logs(path):\n",
    "    with open(\n",
    "        path,\n",
    "        \"r\"\n",
    "    ) as f:\n",
    "        iteration_logs = json.load(f)\n",
    "\n",
    "    data = []\n",
    "    edits_by_sum_id = {}\n",
    "    total_gens = 0\n",
    "    for iteration in iteration_logs:\n",
    "        total_gens += iteration[\"summary_generated\"]\n",
    "        for sum_id, sum_data in iteration[\"summary\"].items():\n",
    "            if \"edit_stats\" in sum_data and sum_id in xsum_test:\n",
    "                if sum_id not in edits_by_sum_id:\n",
    "                    edits_by_sum_id[sum_id] = {}\n",
    "                edits_by_sum_id[sum_id][\"token\"] = sum_data[\"edit_stats\"][\"edit_distance_token\"]\n",
    "                # edits_by_sum_id[sum_id][\"rouge1\"] = sum_data[\"edit_stats\"][\"rouge1\"]\n",
    "                # edits_by_sum_id[sum_id][\"rouge2\"] = sum_data[\"edit_stats\"][\"rouge2\"]\n",
    "                # edits_by_sum_id[sum_id][\"rougeL\"] = sum_data[\"edit_stats\"][\"rougeL\"]\n",
    "\n",
    "        if iteration[\"iteration\"] == 0 and \"full\" in path:\n",
    "            for sum_id in xsum_test.keys():\n",
    "                if sum_id not in edits_by_sum_id:\n",
    "                    edits_by_sum_id[sum_id] = {}\n",
    "                    edits_by_sum_id[sum_id][\"token\"] = 0\n",
    "\n",
    "        result_obj = {\n",
    "            \"iteration\": iteration[\"iteration\"],\n",
    "            \"summary_factual\": iteration[\"factuality_summary\"][\"factual\"],\n",
    "            \"summary_non_factual\": iteration[\"factuality_summary\"][\"non_factual\"],\n",
    "            \"summary_unknown\": iteration[\"factuality_summary\"][\"unknown\"],\n",
    "            \"summary_failed\": iteration[\"factuality_summary\"][\"failed\"],\n",
    "            \"mean_edit_distance_token\": np.mean(\n",
    "                [x[\"token\"] for x in edits_by_sum_id.values()]\n",
    "            ),\n",
    "            # \"mean_edit_distance_rouge1\": np.mean(\n",
    "            #     [x[\"rouge1\"] for x in edits_by_sum_id.values()]\n",
    "            # ),\n",
    "            # \"mean_edit_distance_rouge2\": np.mean(\n",
    "            #     [x[\"rouge2\"] for x in edits_by_sum_id.values()]\n",
    "            # ),\n",
    "            # \"mean_edit_distance_rougeL\": np.mean(\n",
    "            #     [x[\"rougeL\"] for x in edits_by_sum_id.values()]\n",
    "            # )\n",
    "        }\n",
    "        data.append(result_obj)\n",
    "    print(\"total gens\", total_gens)\n",
    "    return pd.DataFrame(data).set_index(\"iteration\"), iteration_logs, edits_by_sum_id\n",
    "\n",
    "dataset = \"bart-full\"\n",
    "df_clf, logs_clf, edits_clf = read_logs(\n",
    "    f\"results/iteration-changes/{dataset}-classifier-knnv1.json\"\n",
    ")\n",
    "\n",
    "df_clf"
   ]
  },
  {
   "cell_type": "code",
   "execution_count": 48,
   "metadata": {},
   "outputs": [
    {
     "name": "stdout",
     "output_type": "stream",
     "text": [
      "3568\n"
     ]
    }
   ],
   "source": [
    "edit_distances = []\n",
    "for x in edits_clf.values():\n",
    "    if x[\"token\"] != 0:\n",
    "        edit_distances.append(x[\"token\"])\n",
    "edit_distance_weights = np.ones_like(edit_distances)/float(len(edit_distances))\n",
    "edit_distance_weights\n",
    "\n",
    "\n",
    "print(len(edit_distances))"
   ]
  },
  {
   "cell_type": "code",
   "execution_count": 49,
   "metadata": {},
   "outputs": [
    {
     "data": {
      "text/plain": [
       "(array([ 1,  2,  3,  4,  5,  6,  7,  8,  9, 10, 11, 12, 13, 14, 15, 16, 17,\n",
       "        18, 19, 20, 21, 22, 23, 24, 25, 26, 27, 28, 29, 30, 32, 33, 35, 36]),\n",
       " array([502, 340, 331, 275, 237, 236, 224, 192, 152, 120, 145, 127, 102,\n",
       "         83,  92,  62,  63,  64,  62,  52,  31,  25,  12,  18,   5,   5,\n",
       "          2,   2,   2,   1,   1,   1,   1,   1]))"
      ]
     },
     "execution_count": 49,
     "metadata": {},
     "output_type": "execute_result"
    }
   ],
   "source": [
    "np.unique(edit_distances, return_counts=True)"
   ]
  },
  {
   "cell_type": "code",
   "execution_count": 50,
   "metadata": {},
   "outputs": [
    {
     "data": {
      "text/plain": [
       "0.538396860986547"
      ]
     },
     "execution_count": 50,
     "metadata": {},
     "output_type": "execute_result"
    }
   ],
   "source": [
    "sum(\n",
    "    np.unique(edit_distances, return_counts=True)[1][:6] / sum(np.unique(edit_distances, return_counts=True)[1])\n",
    ")"
   ]
  },
  {
   "cell_type": "code",
   "execution_count": 51,
   "metadata": {},
   "outputs": [
    {
     "data": {
      "text/plain": [
       "0.14069506726457398"
      ]
     },
     "execution_count": 51,
     "metadata": {},
     "output_type": "execute_result"
    }
   ],
   "source": [
    "(np.unique(edit_distances, return_counts=True)[1] / len(edit_distances))[0]"
   ]
  },
  {
   "cell_type": "code",
   "execution_count": 63,
   "metadata": {},
   "outputs": [],
   "source": [
    "from plot_styling import set_plot_styling\n",
    "set_plot_styling()"
   ]
  },
  {
   "cell_type": "code",
   "execution_count": 68,
   "metadata": {},
   "outputs": [
    {
     "name": "stdout",
     "output_type": "stream",
     "text": [
      "3568 0.3148050114699135\n"
     ]
    },
    {
     "data": {
      "text/plain": [
       "<AxesSubplot:xlabel='Word Edit Distance', ylabel='Fraction of\\nXSum Test'>"
      ]
     },
     "execution_count": 68,
     "metadata": {},
     "output_type": "execute_result"
    },
    {
     "data": {
      "image/png": "[encoded data removed]",
      "text/plain": [
       "<Figure size 504x180 with 1 Axes>"
      ]
     },
     "metadata": {},
     "output_type": "display_data"
    }
   ],
   "source": [
    "import matplotlib.pyplot as plt\n",
    "import matplotlib as mpl\n",
    "import matplotlib.ticker as ticker\n",
    "\n",
    "plt.figure(figsize = (7, 2.5))\n",
    "ax = sns.histplot(\n",
    "    edit_distances,\n",
    "    bins=np.arange(1, 23) - 0.5,\n",
    "    #bins=np.array([0, 1, 2, 3, 4, 5, 6, 11, 16, 21, 22]) - 0.5,\n",
    "    stat=\"density\",\n",
    "    # discrete=True,\n",
    "    # kde=True,\n",
    "    # kde_kws={'clip': (1.5, 40)}\n",
    ")\n",
    "# plt.hlines(0.152, -0.5, 0.5, color='lightgray', linewidth=33.5)\n",
    "#rect = ax.patches.Rectangle((10, 10), , linewidth=1, edgecolor='r', facecolor='none')\n",
    "#ax.add_patch(rect)\n",
    "ax.set_xticks(range(1, 22, 2))\n",
    "ax.set_xlabel(\"Word Edit Distance\", fontsize=20, labelpad=20)\n",
    "ax.set_ylabel(\"Fraction of\\nXSum Test\", fontsize=20, labelpad=20)\n",
    "#ax.set_yscale('log')\n",
    "ax.yaxis.set_ticks([0.01, 0.05, 0.1, 0.15])\n",
    "# ax.set_ylim(0, 0.2)\n",
    "# ax.yaxis.set_major_formatter(ticker.FuncFormatter(lambda y, _: '{:g}'.format(y)))\n",
    "\n",
    "\n",
    "plt.tick_params(axis='both', which='major', labelsize=20)\n",
    "plt.tight_layout()\n",
    "plt.savefig(\"plots/word_distance.pdf\")\n",
    "print(len(edit_distances), len(edit_distances) / len(xsum_test))\n",
    "ax"
   ]
  },
  {
   "cell_type": "code",
   "execution_count": 54,
   "metadata": {},
   "outputs": [
    {
     "data": {
      "text/plain": [
       "array([ 0,  1,  2,  3,  4,  5,  6,  7,  8,  9, 10, 11, 12, 13, 14, 15, 16,\n",
       "       17, 18, 19, 20, 21, 22])"
      ]
     },
     "execution_count": 54,
     "metadata": {},
     "output_type": "execute_result"
    }
   ],
   "source": [
    "np.arange(0, 23)"
   ]
  },
  {
   "cell_type": "code",
   "execution_count": 55,
   "metadata": {},
   "outputs": [
    {
     "data": {
      "text/plain": [
       "Text(0.5, 0, 'Word edit distance')"
      ]
     },
     "execution_count": 55,
     "metadata": {},
     "output_type": "execute_result"
    },
    {
     "data": {
      "image/png": "[encoded data removed]",
      "text/plain": [
       "<Figure size 460.8x316.8 with 1 Axes>"
      ]
     },
     "metadata": {},
     "output_type": "display_data"
    }
   ],
   "source": [
    "import matplotlib as mpl\n",
    "mpl.style.use([\"seaborn-white\", \"seaborn-paper\"])\n",
    "#define style\n",
    "#sns.set_theme()\n",
    "fig, ax = plt.subplots()\n",
    "ax.hist(\n",
    "    edit_distances, \n",
    "    weights=edit_distance_weights\n",
    ")\n",
    "ax.set_title(\"Word edit distance from baseline to corrected summary (N=100)\")\n",
    "ax.set_ylabel(\"Frequency\")\n",
    "ax.set_xlabel(\"Word edit distance\")"
   ]
  },
  {
   "cell_type": "code",
   "execution_count": 57,
   "metadata": {},
   "outputs": [
    {
     "ename": "NameError",
     "evalue": "name 'df_oracle' is not defined",
     "output_type": "error",
     "traceback": [
      "\u001b[0;31m---------------------------------------------------------------------------\u001b[0m",
      "\u001b[0;31mNameError\u001b[0m                                 Traceback (most recent call last)",
      "\u001b[1;32m/Users/anton164/git/factual-beam-search/iteration_changes.ipynb Cell 11'\u001b[0m in \u001b[0;36m<cell line: 15>\u001b[0;34m()\u001b[0m\n\u001b[1;32m      <a href='vscode-notebook-cell:/Users/anton164/git/factual-beam-search/iteration_changes.ipynb#ch0000009?line=7'>8</a>\u001b[0m     axis\u001b[39m.\u001b[39mset_major_locator(ticker\u001b[39m.\u001b[39mMaxNLocator(integer\u001b[39m=\u001b[39m\u001b[39mTrue\u001b[39;00m))\n\u001b[1;32m     <a href='vscode-notebook-cell:/Users/anton164/git/factual-beam-search/iteration_changes.ipynb#ch0000009?line=9'>10</a>\u001b[0m ax\u001b[39m.\u001b[39mplot(\n\u001b[1;32m     <a href='vscode-notebook-cell:/Users/anton164/git/factual-beam-search/iteration_changes.ipynb#ch0000009?line=10'>11</a>\u001b[0m     df_clf\u001b[39m.\u001b[39mindex,\n\u001b[1;32m     <a href='vscode-notebook-cell:/Users/anton164/git/factual-beam-search/iteration_changes.ipynb#ch0000009?line=11'>12</a>\u001b[0m     df_clf\u001b[39m.\u001b[39msummary_factual,\n\u001b[1;32m     <a href='vscode-notebook-cell:/Users/anton164/git/factual-beam-search/iteration_changes.ipynb#ch0000009?line=12'>13</a>\u001b[0m     label\u001b[39m=\u001b[39m\u001b[39m\"\u001b[39m\u001b[39mBART + GEF\u001b[39m\u001b[39m\"\u001b[39m\n\u001b[1;32m     <a href='vscode-notebook-cell:/Users/anton164/git/factual-beam-search/iteration_changes.ipynb#ch0000009?line=13'>14</a>\u001b[0m )\n\u001b[1;32m     <a href='vscode-notebook-cell:/Users/anton164/git/factual-beam-search/iteration_changes.ipynb#ch0000009?line=14'>15</a>\u001b[0m ax\u001b[39m.\u001b[39mplot(\n\u001b[0;32m---> <a href='vscode-notebook-cell:/Users/anton164/git/factual-beam-search/iteration_changes.ipynb#ch0000009?line=15'>16</a>\u001b[0m     df_oracle\u001b[39m.\u001b[39mindex,\n\u001b[1;32m     <a href='vscode-notebook-cell:/Users/anton164/git/factual-beam-search/iteration_changes.ipynb#ch0000009?line=16'>17</a>\u001b[0m     df_oracle\u001b[39m.\u001b[39msummary_factual,\n\u001b[1;32m     <a href='vscode-notebook-cell:/Users/anton164/git/factual-beam-search/iteration_changes.ipynb#ch0000009?line=17'>18</a>\u001b[0m     label\u001b[39m=\u001b[39m\u001b[39m\"\u001b[39m\u001b[39mBART + GEF Oracle\u001b[39m\u001b[39m\"\u001b[39m\n\u001b[1;32m     <a href='vscode-notebook-cell:/Users/anton164/git/factual-beam-search/iteration_changes.ipynb#ch0000009?line=18'>19</a>\u001b[0m )\n\u001b[1;32m     <a href='vscode-notebook-cell:/Users/anton164/git/factual-beam-search/iteration_changes.ipynb#ch0000009?line=19'>20</a>\u001b[0m ax\u001b[39m.\u001b[39mmargins(\u001b[39m0.05\u001b[39m)\n\u001b[1;32m     <a href='vscode-notebook-cell:/Users/anton164/git/factual-beam-search/iteration_changes.ipynb#ch0000009?line=20'>21</a>\u001b[0m ax\u001b[39m.\u001b[39maxis(\u001b[39m'\u001b[39m\u001b[39mtight\u001b[39m\u001b[39m'\u001b[39m)\n",
      "\u001b[0;31mNameError\u001b[0m: name 'df_oracle' is not defined"
     ]
    },
    {
     "data": {
      "image/png": "[encoded data removed]",
      "text/plain": [
       "<Figure size 460.8x316.8 with 1 Axes>"
      ]
     },
     "metadata": {},
     "output_type": "display_data"
    }
   ],
   "source": [
    "import matplotlib.pyplot as plt\n",
    "import matplotlib.ticker as ticker\n",
    "\n",
    "fig, ax = plt.subplots()\n",
    "\n",
    "# Be sure to only pick integer tick locations.\n",
    "for axis in [ax.xaxis, ax.yaxis]:\n",
    "    axis.set_major_locator(ticker.MaxNLocator(integer=True))\n",
    "\n",
    "ax.plot(\n",
    "    df_clf.index,\n",
    "    df_clf.summary_factual,\n",
    "    label=\"BART + GEF\"\n",
    ")\n",
    "ax.plot(\n",
    "    df_oracle.index,\n",
    "    df_oracle.summary_factual,\n",
    "    label=\"BART + GEF Oracle\"\n",
    ")\n",
    "ax.margins(0.05)\n",
    "ax.axis('tight')\n",
    "fig.tight_layout()\n",
    "plt.ylabel(\"Factual Summaries\")\n",
    "plt.xlabel(\"Max number of Iterations\")\n",
    "plt.legend()\n",
    "# TODO change to histogram to show how many iterations it takes on average\n",
    "# Seaborn paper mode"
   ]
  }
 ],
 "metadata": {
  "interpreter": {
   "hash": "3f3fe5eacab954956417c9014984aac9d559687fff881692b0d4e46fa0e895bd"
  },
  "kernelspec": {
   "display_name": "Python 3.8.13 ('factual-beam-search')",
   "language": "python",
   "name": "python3"
  },
  "language_info": {
   "codemirror_mode": {
    "name": "ipython",
    "version": 3
   },
   "file_extension": ".py",
   "mimetype": "text/x-python",
   "name": "python",
   "nbconvert_exporter": "python",
   "pygments_lexer": "ipython3",
   "version": "3.8.13"
  },
  "orig_nbformat": 4
 },
 "nbformat": 4,
 "nbformat_minor": 2
}
