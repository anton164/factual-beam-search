{
 "cells": [
  {
   "cell_type": "code",
   "execution_count": 338,
   "metadata": {},
   "outputs": [
    {
     "name": "stderr",
     "output_type": "stream",
     "text": [
      "Using custom data configuration default\n",
      "Reusing dataset xsum (/Users/anton164/.cache/huggingface/datasets/xsum/default/1.2.0/32c23220eadddb1149b16ed2e9430a05293768cfffbdfd151058697d4c11f934)\n"
     ]
    },
    {
     "data": {
      "application/vnd.jupyter.widget-view+json": {
       "model_id": "995d81df24554fc0a21c1d79ada8bbc2",
       "version_major": 2,
       "version_minor": 0
      },
      "text/plain": [
       "  0%|          | 0/3 [00:00<?, ?it/s]"
      ]
     },
     "metadata": {},
     "output_type": "display_data"
    },
    {
     "data": {
      "text/html": [
       "<div>\n",
       "<style scoped>\n",
       "    .dataframe tbody tr th:only-of-type {\n",
       "        vertical-align: middle;\n",
       "    }\n",
       "\n",
       "    .dataframe tbody tr th {\n",
       "        vertical-align: top;\n",
       "    }\n",
       "\n",
       "    .dataframe thead th {\n",
       "        text-align: right;\n",
       "    }\n",
       "</style>\n",
       "<table border=\"1\" class=\"dataframe\">\n",
       "  <thead>\n",
       "    <tr style=\"text-align: right;\">\n",
       "      <th></th>\n",
       "      <th>summary_factual</th>\n",
       "      <th>summary_non_factual</th>\n",
       "      <th>summary_unknown</th>\n",
       "      <th>summary_failed</th>\n",
       "      <th>mean_edit_distance_token</th>\n",
       "    </tr>\n",
       "    <tr>\n",
       "      <th>iteration</th>\n",
       "      <th></th>\n",
       "      <th></th>\n",
       "      <th></th>\n",
       "      <th></th>\n",
       "      <th></th>\n",
       "    </tr>\n",
       "  </thead>\n",
       "  <tbody>\n",
       "    <tr>\n",
       "      <th>0</th>\n",
       "      <td>0.394124</td>\n",
       "      <td>0.022234</td>\n",
       "      <td>0.583642</td>\n",
       "      <td>0</td>\n",
       "      <td>0.000000</td>\n",
       "    </tr>\n",
       "    <tr>\n",
       "      <th>1</th>\n",
       "      <td>0.431975</td>\n",
       "      <td>0.020999</td>\n",
       "      <td>0.547027</td>\n",
       "      <td>53</td>\n",
       "      <td>1.942209</td>\n",
       "    </tr>\n",
       "    <tr>\n",
       "      <th>2</th>\n",
       "      <td>0.446003</td>\n",
       "      <td>0.035821</td>\n",
       "      <td>0.518175</td>\n",
       "      <td>243</td>\n",
       "      <td>2.186783</td>\n",
       "    </tr>\n",
       "    <tr>\n",
       "      <th>3</th>\n",
       "      <td>0.453503</td>\n",
       "      <td>0.049674</td>\n",
       "      <td>0.496824</td>\n",
       "      <td>413</td>\n",
       "      <td>2.308276</td>\n",
       "    </tr>\n",
       "    <tr>\n",
       "      <th>4</th>\n",
       "      <td>0.455267</td>\n",
       "      <td>0.090524</td>\n",
       "      <td>0.454209</td>\n",
       "      <td>891</td>\n",
       "      <td>2.325746</td>\n",
       "    </tr>\n",
       "    <tr>\n",
       "      <th>5</th>\n",
       "      <td>0.455797</td>\n",
       "      <td>0.100141</td>\n",
       "      <td>0.444062</td>\n",
       "      <td>1009</td>\n",
       "      <td>2.333333</td>\n",
       "    </tr>\n",
       "    <tr>\n",
       "      <th>6</th>\n",
       "      <td>0.456326</td>\n",
       "      <td>0.105259</td>\n",
       "      <td>0.438415</td>\n",
       "      <td>1068</td>\n",
       "      <td>2.330157</td>\n",
       "    </tr>\n",
       "    <tr>\n",
       "      <th>7</th>\n",
       "      <td>0.456326</td>\n",
       "      <td>0.107023</td>\n",
       "      <td>0.436651</td>\n",
       "      <td>1089</td>\n",
       "      <td>2.328304</td>\n",
       "    </tr>\n",
       "    <tr>\n",
       "      <th>8</th>\n",
       "      <td>0.456414</td>\n",
       "      <td>0.107817</td>\n",
       "      <td>0.435768</td>\n",
       "      <td>1097</td>\n",
       "      <td>2.328657</td>\n",
       "    </tr>\n",
       "    <tr>\n",
       "      <th>9</th>\n",
       "      <td>0.456591</td>\n",
       "      <td>0.107994</td>\n",
       "      <td>0.435416</td>\n",
       "      <td>1100</td>\n",
       "      <td>2.329628</td>\n",
       "    </tr>\n",
       "  </tbody>\n",
       "</table>\n",
       "</div>"
      ],
      "text/plain": [
       "           summary_factual  summary_non_factual  summary_unknown  \\\n",
       "iteration                                                          \n",
       "0                 0.394124             0.022234         0.583642   \n",
       "1                 0.431975             0.020999         0.547027   \n",
       "2                 0.446003             0.035821         0.518175   \n",
       "3                 0.453503             0.049674         0.496824   \n",
       "4                 0.455267             0.090524         0.454209   \n",
       "5                 0.455797             0.100141         0.444062   \n",
       "6                 0.456326             0.105259         0.438415   \n",
       "7                 0.456326             0.107023         0.436651   \n",
       "8                 0.456414             0.107817         0.435768   \n",
       "9                 0.456591             0.107994         0.435416   \n",
       "\n",
       "           summary_failed  mean_edit_distance_token  \n",
       "iteration                                            \n",
       "0                       0                  0.000000  \n",
       "1                      53                  1.942209  \n",
       "2                     243                  2.186783  \n",
       "3                     413                  2.308276  \n",
       "4                     891                  2.325746  \n",
       "5                    1009                  2.333333  \n",
       "6                    1068                  2.330157  \n",
       "7                    1089                  2.328304  \n",
       "8                    1097                  2.328657  \n",
       "9                    1100                  2.329628  "
      ]
     },
     "execution_count": 338,
     "metadata": {},
     "output_type": "execute_result"
    }
   ],
   "source": [
    "import pandas as pd\n",
    "import json\n",
    "import numpy as np\n",
    "from src.generation_utils import SUMMARY_FAILED_GENERATION\n",
    "from src.data_utils import load_xsum_dict\n",
    "\n",
    "\n",
    "xsum_test = load_xsum_dict(\"test\")\n",
    "\n",
    "def read_logs(path):\n",
    "    with open(\n",
    "        path,\n",
    "        \"r\"\n",
    "    ) as f:\n",
    "        iteration_logs = json.load(f)\n",
    "\n",
    "    data = []\n",
    "    edits_by_sum_id = {}\n",
    "    for iteration in iteration_logs:\n",
    "        for sum_id, sum_data in iteration[\"summary\"].items():\n",
    "            if \"edit_stats\" in sum_data:\n",
    "                if sum_id not in edits_by_sum_id:\n",
    "                    edits_by_sum_id[sum_id] = {}\n",
    "                edits_by_sum_id[sum_id][\"token\"] = sum_data[\"edit_stats\"][\"edit_distance_token\"]\n",
    "                # edits_by_sum_id[sum_id][\"rouge1\"] = sum_data[\"edit_stats\"][\"rouge1\"]\n",
    "                # edits_by_sum_id[sum_id][\"rouge2\"] = sum_data[\"edit_stats\"][\"rouge2\"]\n",
    "                # edits_by_sum_id[sum_id][\"rougeL\"] = sum_data[\"edit_stats\"][\"rougeL\"]\n",
    "\n",
    "        if iteration[\"iteration\"] == 0 and \"full\" in path:\n",
    "            for sum_id in xsum_test.keys():\n",
    "                if sum_id not in edits_by_sum_id:\n",
    "                    edits_by_sum_id[sum_id] = {}\n",
    "                    edits_by_sum_id[sum_id][\"token\"] = 0\n",
    "\n",
    "        result_obj = {\n",
    "            \"iteration\": iteration[\"iteration\"],\n",
    "            \"summary_factual\": iteration[\"factuality_summary\"][\"factual\"],\n",
    "            \"summary_non_factual\": iteration[\"factuality_summary\"][\"non_factual\"],\n",
    "            \"summary_unknown\": iteration[\"factuality_summary\"][\"unknown\"],\n",
    "            \"summary_failed\": iteration[\"factuality_summary\"][\"failed\"],\n",
    "            \"mean_edit_distance_token\": np.mean(\n",
    "                [x[\"token\"] for x in edits_by_sum_id.values()]\n",
    "            ),\n",
    "            # \"mean_edit_distance_rouge1\": np.mean(\n",
    "            #     [x[\"rouge1\"] for x in edits_by_sum_id.values()]\n",
    "            # ),\n",
    "            # \"mean_edit_distance_rouge2\": np.mean(\n",
    "            #     [x[\"rouge2\"] for x in edits_by_sum_id.values()]\n",
    "            # ),\n",
    "            # \"mean_edit_distance_rougeL\": np.mean(\n",
    "            #     [x[\"rougeL\"] for x in edits_by_sum_id.values()]\n",
    "            # )\n",
    "        }\n",
    "        data.append(result_obj)\n",
    "    \n",
    "    return pd.DataFrame(data).set_index(\"iteration\"), iteration_logs, edits_by_sum_id\n",
    "\n",
    "# dataset = \"pegasus\"\n",
    "# dataset = \"bart-test-extrinsic-100\"\n",
    "dataset = \"bart-full\"\n",
    "num_beams = 4\n",
    "beam_suffix = \"\" if num_beams == 4 else f\"-beams-{num_beams}\"\n",
    "\n",
    "df_clf, logs_clf, edits_clf = read_logs(\n",
    "    f\"results/iteration-changes/{dataset}-classifier-knnv1{beam_suffix}.json\"\n",
    ")\n",
    "\n",
    "df_clf"
   ]
  },
  {
   "cell_type": "code",
   "execution_count": 307,
   "metadata": {},
   "outputs": [
    {
     "name": "stdout",
     "output_type": "stream",
     "text": [
      "3565\n"
     ]
    }
   ],
   "source": [
    "edit_distances = []\n",
    "for x in edits_clf.values():\n",
    "    if x[\"token\"] != 0:\n",
    "        edit_distances.append(x[\"token\"])\n",
    "edit_distance_weights = np.ones_like(edit_distances)/float(len(edit_distances))\n",
    "edit_distance_weights\n",
    "\n",
    "\n",
    "print(len(edit_distances))"
   ]
  },
  {
   "cell_type": "code",
   "execution_count": 308,
   "metadata": {},
   "outputs": [
    {
     "data": {
      "text/plain": [
       "Text(0.5, 126.70666666666672, 'Word Edit Distance')"
      ]
     },
     "execution_count": 308,
     "metadata": {},
     "output_type": "execute_result"
    },
    {
     "data": {
      "image/png": "[encoded data removed]",
      "text/plain": [
       "<Figure size 640x440 with 2 Axes>"
      ]
     },
     "metadata": {},
     "output_type": "display_data"
    }
   ],
   "source": [
    "import seaborn as sns\n",
    "ax = sns.heatmap(\n",
    "    np.unique(edit_distances, return_counts=True)[1].reshape(1, -1) / np.sum(edit_distances),\n",
    "    cbar_kws={\"orientation\": \"horizontal\"},\n",
    "    square=True\n",
    ")\n",
    "ax.set_xlabel(\"Word Edit Distance\")\n",
    "# ax.xaxis.tick_top()\n",
    "# ax.xaxis.set_label_position('top')\n",
    "# ax.spines['bottom'].set_visible(False)\n",
    "# ax.spines['top'].set_visible(True)"
   ]
  },
  {
   "cell_type": "code",
   "execution_count": 309,
   "metadata": {},
   "outputs": [
    {
     "data": {
      "text/plain": [
       "<AxesSubplot:ylabel='Count'>"
      ]
     },
     "execution_count": 309,
     "metadata": {},
     "output_type": "execute_result"
    },
    {
     "data": {
      "image/png": "[encoded data removed]",
      "text/plain": [
       "<Figure size 400x400 with 3 Axes>"
      ]
     },
     "metadata": {},
     "output_type": "display_data"
    }
   ],
   "source": [
    "normed_edits = np.unique(edit_distances, return_counts=True)[1].reshape(1, -1) / np.sum(edit_distances)\n",
    "g = sns.JointGrid(height=4, space=1)\n",
    "ax = sns.heatmap(\n",
    "    np.unique(edit_distances, return_counts=True)[1].reshape(1, -1) / np.sum(edit_distances),\n",
    "    cbar=False,\n",
    "    #cbar_kws={\"orientation\": \"horizontal\"},\n",
    "    square=True,\n",
    "    ax=g.ax_joint\n",
    ")\n",
    "ax.set_xlabel(\"Word Edit Distance\")\n",
    "#sns.kdeplot(edit_distances, linewidth=2, ax=g.ax_marg_x)\n",
    "sns.histplot(\n",
    "    edit_distances,\n",
    "    #fit=norm,\n",
    "    kde=True,\n",
    "    ax=g.ax_marg_x\n",
    ")"
   ]
  },
  {
   "cell_type": "code",
   "execution_count": 339,
   "metadata": {},
   "outputs": [
    {
     "name": "stdout",
     "output_type": "stream",
     "text": [
      "3565 0.31454032115757896\n"
     ]
    },
    {
     "data": {
      "text/plain": [
       "<AxesSubplot:xlabel='Word Edit Distance', ylabel='Density'>"
      ]
     },
     "execution_count": 339,
     "metadata": {},
     "output_type": "execute_result"
    },
    {
     "data": {
      "image/png": "[encoded data removed]",
      "text/plain": [
       "<Figure size 600x200 with 1 Axes>"
      ]
     },
     "metadata": {},
     "output_type": "display_data"
    }
   ],
   "source": [
    "import matplotlib as mpl\n",
    "sns.set_theme()\n",
    "sns.set_context(\"paper\")\n",
    "mpl.style.use([\"seaborn-white\", \"seaborn-paper\"])\n",
    "# sns.set_style(\"white\")\n",
    "plt.figure(figsize = (6,2))\n",
    "ax = sns.histplot(\n",
    "    edit_distances,\n",
    "    bins=np.arange(1, 23) - 0.5,\n",
    "    #bins=np.array([0, 1, 2, 3, 4, 5, 6, 11, 16, 21, 22]) - 0.5,\n",
    "    stat=\"density\",\n",
    "    # kde=True,\n",
    "    # kde_kws={'clip': (1.5, 40)}\n",
    ")\n",
    "ax.set_xticks(range(1, 22, 2))\n",
    "ax.set_xlabel(\"Word Edit Distance\", fontsize=12)\n",
    "ax.set_ylabel(\"Density\", fontsize=12)\n",
    "plt.tick_params(axis='both', which='major', labelsize=10)\n",
    "plt.tight_layout()\n",
    "plt.savefig(\"plots/word_distance.pdf\")\n",
    "print(len(edit_distances), len(edit_distances) / len(xsum_test))\n",
    "ax"
   ]
  },
  {
   "cell_type": "code",
   "execution_count": 255,
   "metadata": {},
   "outputs": [
    {
     "data": {
      "text/plain": [
       "Text(0.5, 0, 'Word edit distance')"
      ]
     },
     "execution_count": 255,
     "metadata": {},
     "output_type": "execute_result"
    },
    {
     "data": {
      "image/png": "[encoded data removed]",
      "text/plain": [
       "<Figure size 640x440 with 1 Axes>"
      ]
     },
     "metadata": {},
     "output_type": "display_data"
    }
   ],
   "source": [
    "import matplotlib as mpl\n",
    "mpl.style.use([\"seaborn-white\", \"seaborn-paper\"])\n",
    "#define style\n",
    "#sns.set_theme()\n",
    "fig, ax = plt.subplots()\n",
    "ax.hist(\n",
    "    edit_distances, \n",
    "    weights=edit_distance_weights\n",
    ")\n",
    "ax.set_title(\"Word edit distance from baseline to corrected summary (N=100)\")\n",
    "ax.set_ylabel(\"Frequency\")\n",
    "ax.set_xlabel(\"Word edit distance\")"
   ]
  },
  {
   "cell_type": "code",
   "execution_count": 212,
   "metadata": {},
   "outputs": [],
   "source": [
    "# Paper plots\n",
    "import matplotlib as mpl\n",
    "mpl.style.use([\"seaborn-white\", \"seaborn-paper\"])\n",
    "#define style\n",
    "mpl.style.use('default')\n",
    "style = {\n",
    "        \"pgf.rcfonts\":False,\n",
    "        # \"pgf.texsystem\": \"pdflatex\",   \n",
    "        \"text.usetex\": False,                \n",
    "        \"font.family\": \"serif\",\n",
    "        \"font.serif\": \"Times\"\n",
    "        }\n",
    "#set\n",
    "mpl.rcParams.update(style)"
   ]
  },
  {
   "cell_type": "code",
   "execution_count": 209,
   "metadata": {},
   "outputs": [
    {
     "ename": "FileNotFoundError",
     "evalue": "missing font metrics file: ptmr7t",
     "output_type": "error",
     "traceback": [
      "\u001b[0;31m---------------------------------------------------------------------------\u001b[0m",
      "\u001b[0;31mFileNotFoundError\u001b[0m                         Traceback (most recent call last)",
      "\u001b[1;32m/Users/anton164/git/factual-beam-search/iteration_changes.ipynb Cell 11'\u001b[0m in \u001b[0;36m<cell line: 22>\u001b[0;34m()\u001b[0m\n\u001b[1;32m     <a href='vscode-notebook-cell:/Users/anton164/git/factual-beam-search/iteration_changes.ipynb#ch0000002?line=19'>20</a>\u001b[0m ax\u001b[39m.\u001b[39mmargins(\u001b[39m0.05\u001b[39m)\n\u001b[1;32m     <a href='vscode-notebook-cell:/Users/anton164/git/factual-beam-search/iteration_changes.ipynb#ch0000002?line=20'>21</a>\u001b[0m ax\u001b[39m.\u001b[39maxis(\u001b[39m'\u001b[39m\u001b[39mtight\u001b[39m\u001b[39m'\u001b[39m)\n\u001b[0;32m---> <a href='vscode-notebook-cell:/Users/anton164/git/factual-beam-search/iteration_changes.ipynb#ch0000002?line=21'>22</a>\u001b[0m fig\u001b[39m.\u001b[39;49mtight_layout()\n\u001b[1;32m     <a href='vscode-notebook-cell:/Users/anton164/git/factual-beam-search/iteration_changes.ipynb#ch0000002?line=22'>23</a>\u001b[0m plt\u001b[39m.\u001b[39mylabel(\u001b[39m\"\u001b[39m\u001b[39mFactual Summaries\u001b[39m\u001b[39m\"\u001b[39m)\n\u001b[1;32m     <a href='vscode-notebook-cell:/Users/anton164/git/factual-beam-search/iteration_changes.ipynb#ch0000002?line=23'>24</a>\u001b[0m plt\u001b[39m.\u001b[39mxlabel(\u001b[39m\"\u001b[39m\u001b[39mMax number of Iterations\u001b[39m\u001b[39m\"\u001b[39m)\n",
      "File \u001b[0;32m/usr/local/anaconda3/envs/factual-beam-search/lib/python3.8/site-packages/matplotlib/figure.py:3224\u001b[0m, in \u001b[0;36mFigure.tight_layout\u001b[0;34m(self, pad, h_pad, w_pad, rect)\u001b[0m\n\u001b[1;32m   <a href='file:///usr/local/anaconda3/envs/factual-beam-search/lib/python3.8/site-packages/matplotlib/figure.py?line=3221'>3222</a>\u001b[0m renderer \u001b[39m=\u001b[39m get_renderer(\u001b[39mself\u001b[39m)\n\u001b[1;32m   <a href='file:///usr/local/anaconda3/envs/factual-beam-search/lib/python3.8/site-packages/matplotlib/figure.py?line=3222'>3223</a>\u001b[0m \u001b[39mwith\u001b[39;00m \u001b[39mgetattr\u001b[39m(renderer, \u001b[39m\"\u001b[39m\u001b[39m_draw_disabled\u001b[39m\u001b[39m\"\u001b[39m, nullcontext)():\n\u001b[0;32m-> <a href='file:///usr/local/anaconda3/envs/factual-beam-search/lib/python3.8/site-packages/matplotlib/figure.py?line=3223'>3224</a>\u001b[0m     kwargs \u001b[39m=\u001b[39m get_tight_layout_figure(\n\u001b[1;32m   <a href='file:///usr/local/anaconda3/envs/factual-beam-search/lib/python3.8/site-packages/matplotlib/figure.py?line=3224'>3225</a>\u001b[0m         \u001b[39mself\u001b[39;49m, \u001b[39mself\u001b[39;49m\u001b[39m.\u001b[39;49maxes, subplotspec_list, renderer,\n\u001b[1;32m   <a href='file:///usr/local/anaconda3/envs/factual-beam-search/lib/python3.8/site-packages/matplotlib/figure.py?line=3225'>3226</a>\u001b[0m         pad\u001b[39m=\u001b[39;49mpad, h_pad\u001b[39m=\u001b[39;49mh_pad, w_pad\u001b[39m=\u001b[39;49mw_pad, rect\u001b[39m=\u001b[39;49mrect)\n\u001b[1;32m   <a href='file:///usr/local/anaconda3/envs/factual-beam-search/lib/python3.8/site-packages/matplotlib/figure.py?line=3226'>3227</a>\u001b[0m \u001b[39mif\u001b[39;00m kwargs:\n\u001b[1;32m   <a href='file:///usr/local/anaconda3/envs/factual-beam-search/lib/python3.8/site-packages/matplotlib/figure.py?line=3227'>3228</a>\u001b[0m     \u001b[39mself\u001b[39m\u001b[39m.\u001b[39msubplots_adjust(\u001b[39m*\u001b[39m\u001b[39m*\u001b[39mkwargs)\n",
      "File \u001b[0;32m/usr/local/anaconda3/envs/factual-beam-search/lib/python3.8/site-packages/matplotlib/tight_layout.py:320\u001b[0m, in \u001b[0;36mget_tight_layout_figure\u001b[0;34m(fig, axes_list, subplotspec_list, renderer, pad, h_pad, w_pad, rect)\u001b[0m\n\u001b[1;32m    <a href='file:///usr/local/anaconda3/envs/factual-beam-search/lib/python3.8/site-packages/matplotlib/tight_layout.py?line=314'>315</a>\u001b[0m         \u001b[39mreturn\u001b[39;00m {}\n\u001b[1;32m    <a href='file:///usr/local/anaconda3/envs/factual-beam-search/lib/python3.8/site-packages/matplotlib/tight_layout.py?line=315'>316</a>\u001b[0m     span_pairs\u001b[39m.\u001b[39mappend((\n\u001b[1;32m    <a href='file:///usr/local/anaconda3/envs/factual-beam-search/lib/python3.8/site-packages/matplotlib/tight_layout.py?line=316'>317</a>\u001b[0m         \u001b[39mslice\u001b[39m(ss\u001b[39m.\u001b[39mrowspan\u001b[39m.\u001b[39mstart \u001b[39m*\u001b[39m div_row, ss\u001b[39m.\u001b[39mrowspan\u001b[39m.\u001b[39mstop \u001b[39m*\u001b[39m div_row),\n\u001b[1;32m    <a href='file:///usr/local/anaconda3/envs/factual-beam-search/lib/python3.8/site-packages/matplotlib/tight_layout.py?line=317'>318</a>\u001b[0m         \u001b[39mslice\u001b[39m(ss\u001b[39m.\u001b[39mcolspan\u001b[39m.\u001b[39mstart \u001b[39m*\u001b[39m div_col, ss\u001b[39m.\u001b[39mcolspan\u001b[39m.\u001b[39mstop \u001b[39m*\u001b[39m div_col)))\n\u001b[0;32m--> <a href='file:///usr/local/anaconda3/envs/factual-beam-search/lib/python3.8/site-packages/matplotlib/tight_layout.py?line=319'>320</a>\u001b[0m kwargs \u001b[39m=\u001b[39m _auto_adjust_subplotpars(fig, renderer,\n\u001b[1;32m    <a href='file:///usr/local/anaconda3/envs/factual-beam-search/lib/python3.8/site-packages/matplotlib/tight_layout.py?line=320'>321</a>\u001b[0m                                   shape\u001b[39m=\u001b[39;49m(max_nrows, max_ncols),\n\u001b[1;32m    <a href='file:///usr/local/anaconda3/envs/factual-beam-search/lib/python3.8/site-packages/matplotlib/tight_layout.py?line=321'>322</a>\u001b[0m                                   span_pairs\u001b[39m=\u001b[39;49mspan_pairs,\n\u001b[1;32m    <a href='file:///usr/local/anaconda3/envs/factual-beam-search/lib/python3.8/site-packages/matplotlib/tight_layout.py?line=322'>323</a>\u001b[0m                                   subplot_list\u001b[39m=\u001b[39;49msubplot_list,\n\u001b[1;32m    <a href='file:///usr/local/anaconda3/envs/factual-beam-search/lib/python3.8/site-packages/matplotlib/tight_layout.py?line=323'>324</a>\u001b[0m                                   ax_bbox_list\u001b[39m=\u001b[39;49max_bbox_list,\n\u001b[1;32m    <a href='file:///usr/local/anaconda3/envs/factual-beam-search/lib/python3.8/site-packages/matplotlib/tight_layout.py?line=324'>325</a>\u001b[0m                                   pad\u001b[39m=\u001b[39;49mpad, h_pad\u001b[39m=\u001b[39;49mh_pad, w_pad\u001b[39m=\u001b[39;49mw_pad)\n\u001b[1;32m    <a href='file:///usr/local/anaconda3/envs/factual-beam-search/lib/python3.8/site-packages/matplotlib/tight_layout.py?line=326'>327</a>\u001b[0m \u001b[39m# kwargs can be none if tight_layout fails...\u001b[39;00m\n\u001b[1;32m    <a href='file:///usr/local/anaconda3/envs/factual-beam-search/lib/python3.8/site-packages/matplotlib/tight_layout.py?line=327'>328</a>\u001b[0m \u001b[39mif\u001b[39;00m rect \u001b[39mis\u001b[39;00m \u001b[39mnot\u001b[39;00m \u001b[39mNone\u001b[39;00m \u001b[39mand\u001b[39;00m kwargs \u001b[39mis\u001b[39;00m \u001b[39mnot\u001b[39;00m \u001b[39mNone\u001b[39;00m:\n\u001b[1;32m    <a href='file:///usr/local/anaconda3/envs/factual-beam-search/lib/python3.8/site-packages/matplotlib/tight_layout.py?line=328'>329</a>\u001b[0m     \u001b[39m# if rect is given, the whole subplots area (including\u001b[39;00m\n\u001b[1;32m    <a href='file:///usr/local/anaconda3/envs/factual-beam-search/lib/python3.8/site-packages/matplotlib/tight_layout.py?line=329'>330</a>\u001b[0m     \u001b[39m# labels) will fit into the rect instead of the\u001b[39;00m\n\u001b[0;32m   (...)\u001b[0m\n\u001b[1;32m    <a href='file:///usr/local/anaconda3/envs/factual-beam-search/lib/python3.8/site-packages/matplotlib/tight_layout.py?line=333'>334</a>\u001b[0m     \u001b[39m# auto_adjust_subplotpars twice, where the second run\u001b[39;00m\n\u001b[1;32m    <a href='file:///usr/local/anaconda3/envs/factual-beam-search/lib/python3.8/site-packages/matplotlib/tight_layout.py?line=334'>335</a>\u001b[0m     \u001b[39m# with adjusted rect parameters.\u001b[39;00m\n",
      "File \u001b[0;32m/usr/local/anaconda3/envs/factual-beam-search/lib/python3.8/site-packages/matplotlib/tight_layout.py:82\u001b[0m, in \u001b[0;36m_auto_adjust_subplotpars\u001b[0;34m(fig, renderer, shape, span_pairs, subplot_list, ax_bbox_list, pad, h_pad, w_pad, rect)\u001b[0m\n\u001b[1;32m     <a href='file:///usr/local/anaconda3/envs/factual-beam-search/lib/python3.8/site-packages/matplotlib/tight_layout.py?line=79'>80</a>\u001b[0m \u001b[39mif\u001b[39;00m ax\u001b[39m.\u001b[39mget_visible():\n\u001b[1;32m     <a href='file:///usr/local/anaconda3/envs/factual-beam-search/lib/python3.8/site-packages/matplotlib/tight_layout.py?line=80'>81</a>\u001b[0m     \u001b[39mtry\u001b[39;00m:\n\u001b[0;32m---> <a href='file:///usr/local/anaconda3/envs/factual-beam-search/lib/python3.8/site-packages/matplotlib/tight_layout.py?line=81'>82</a>\u001b[0m         bb \u001b[39m+\u001b[39m\u001b[39m=\u001b[39m [ax\u001b[39m.\u001b[39;49mget_tightbbox(renderer, for_layout_only\u001b[39m=\u001b[39;49m\u001b[39mTrue\u001b[39;49;00m)]\n\u001b[1;32m     <a href='file:///usr/local/anaconda3/envs/factual-beam-search/lib/python3.8/site-packages/matplotlib/tight_layout.py?line=82'>83</a>\u001b[0m     \u001b[39mexcept\u001b[39;00m \u001b[39mTypeError\u001b[39;00m:\n\u001b[1;32m     <a href='file:///usr/local/anaconda3/envs/factual-beam-search/lib/python3.8/site-packages/matplotlib/tight_layout.py?line=83'>84</a>\u001b[0m         bb \u001b[39m+\u001b[39m\u001b[39m=\u001b[39m [ax\u001b[39m.\u001b[39mget_tightbbox(renderer)]\n",
      "File \u001b[0;32m/usr/local/anaconda3/envs/factual-beam-search/lib/python3.8/site-packages/matplotlib/axes/_base.py:4628\u001b[0m, in \u001b[0;36m_AxesBase.get_tightbbox\u001b[0;34m(self, renderer, call_axes_locator, bbox_extra_artists, for_layout_only)\u001b[0m\n\u001b[1;32m   <a href='file:///usr/local/anaconda3/envs/factual-beam-search/lib/python3.8/site-packages/matplotlib/axes/_base.py?line=4625'>4626</a>\u001b[0m \u001b[39mif\u001b[39;00m \u001b[39mself\u001b[39m\u001b[39m.\u001b[39mxaxis\u001b[39m.\u001b[39mget_visible():\n\u001b[1;32m   <a href='file:///usr/local/anaconda3/envs/factual-beam-search/lib/python3.8/site-packages/matplotlib/axes/_base.py?line=4626'>4627</a>\u001b[0m     \u001b[39mtry\u001b[39;00m:\n\u001b[0;32m-> <a href='file:///usr/local/anaconda3/envs/factual-beam-search/lib/python3.8/site-packages/matplotlib/axes/_base.py?line=4627'>4628</a>\u001b[0m         bb_xaxis \u001b[39m=\u001b[39m \u001b[39mself\u001b[39;49m\u001b[39m.\u001b[39;49mxaxis\u001b[39m.\u001b[39;49mget_tightbbox(\n\u001b[1;32m   <a href='file:///usr/local/anaconda3/envs/factual-beam-search/lib/python3.8/site-packages/matplotlib/axes/_base.py?line=4628'>4629</a>\u001b[0m             renderer, for_layout_only\u001b[39m=\u001b[39;49mfor_layout_only)\n\u001b[1;32m   <a href='file:///usr/local/anaconda3/envs/factual-beam-search/lib/python3.8/site-packages/matplotlib/axes/_base.py?line=4629'>4630</a>\u001b[0m     \u001b[39mexcept\u001b[39;00m \u001b[39mTypeError\u001b[39;00m:\n\u001b[1;32m   <a href='file:///usr/local/anaconda3/envs/factual-beam-search/lib/python3.8/site-packages/matplotlib/axes/_base.py?line=4630'>4631</a>\u001b[0m         \u001b[39m# in case downstream library has redefined axis:\u001b[39;00m\n\u001b[1;32m   <a href='file:///usr/local/anaconda3/envs/factual-beam-search/lib/python3.8/site-packages/matplotlib/axes/_base.py?line=4631'>4632</a>\u001b[0m         bb_xaxis \u001b[39m=\u001b[39m \u001b[39mself\u001b[39m\u001b[39m.\u001b[39mxaxis\u001b[39m.\u001b[39mget_tightbbox(renderer)\n",
      "File \u001b[0;32m/usr/local/anaconda3/envs/factual-beam-search/lib/python3.8/site-packages/matplotlib/axis.py:1105\u001b[0m, in \u001b[0;36mAxis.get_tightbbox\u001b[0;34m(self, renderer, for_layout_only)\u001b[0m\n\u001b[1;32m   <a href='file:///usr/local/anaconda3/envs/factual-beam-search/lib/python3.8/site-packages/matplotlib/axis.py?line=1100'>1101</a>\u001b[0m     \u001b[39mreturn\u001b[39;00m\n\u001b[1;32m   <a href='file:///usr/local/anaconda3/envs/factual-beam-search/lib/python3.8/site-packages/matplotlib/axis.py?line=1102'>1103</a>\u001b[0m ticks_to_draw \u001b[39m=\u001b[39m \u001b[39mself\u001b[39m\u001b[39m.\u001b[39m_update_ticks()\n\u001b[0;32m-> <a href='file:///usr/local/anaconda3/envs/factual-beam-search/lib/python3.8/site-packages/matplotlib/axis.py?line=1104'>1105</a>\u001b[0m \u001b[39mself\u001b[39;49m\u001b[39m.\u001b[39;49m_update_label_position(renderer)\n\u001b[1;32m   <a href='file:///usr/local/anaconda3/envs/factual-beam-search/lib/python3.8/site-packages/matplotlib/axis.py?line=1106'>1107</a>\u001b[0m \u001b[39m# go back to just this axis's tick labels\u001b[39;00m\n\u001b[1;32m   <a href='file:///usr/local/anaconda3/envs/factual-beam-search/lib/python3.8/site-packages/matplotlib/axis.py?line=1107'>1108</a>\u001b[0m ticklabelBoxes, ticklabelBoxes2 \u001b[39m=\u001b[39m \u001b[39mself\u001b[39m\u001b[39m.\u001b[39m_get_tick_bboxes(\n\u001b[1;32m   <a href='file:///usr/local/anaconda3/envs/factual-beam-search/lib/python3.8/site-packages/matplotlib/axis.py?line=1108'>1109</a>\u001b[0m             ticks_to_draw, renderer)\n",
      "File \u001b[0;32m/usr/local/anaconda3/envs/factual-beam-search/lib/python3.8/site-packages/matplotlib/axis.py:2083\u001b[0m, in \u001b[0;36mXAxis._update_label_position\u001b[0;34m(self, renderer)\u001b[0m\n\u001b[1;32m   <a href='file:///usr/local/anaconda3/envs/factual-beam-search/lib/python3.8/site-packages/matplotlib/axis.py?line=2078'>2079</a>\u001b[0m     \u001b[39mreturn\u001b[39;00m\n\u001b[1;32m   <a href='file:///usr/local/anaconda3/envs/factual-beam-search/lib/python3.8/site-packages/matplotlib/axis.py?line=2080'>2081</a>\u001b[0m \u001b[39m# get bounding boxes for this axis and any siblings\u001b[39;00m\n\u001b[1;32m   <a href='file:///usr/local/anaconda3/envs/factual-beam-search/lib/python3.8/site-packages/matplotlib/axis.py?line=2081'>2082</a>\u001b[0m \u001b[39m# that have been set by `fig.align_xlabels()`\u001b[39;00m\n\u001b[0;32m-> <a href='file:///usr/local/anaconda3/envs/factual-beam-search/lib/python3.8/site-packages/matplotlib/axis.py?line=2082'>2083</a>\u001b[0m bboxes, bboxes2 \u001b[39m=\u001b[39m \u001b[39mself\u001b[39;49m\u001b[39m.\u001b[39;49m_get_tick_boxes_siblings(renderer\u001b[39m=\u001b[39;49mrenderer)\n\u001b[1;32m   <a href='file:///usr/local/anaconda3/envs/factual-beam-search/lib/python3.8/site-packages/matplotlib/axis.py?line=2084'>2085</a>\u001b[0m x, y \u001b[39m=\u001b[39m \u001b[39mself\u001b[39m\u001b[39m.\u001b[39mlabel\u001b[39m.\u001b[39mget_position()\n\u001b[1;32m   <a href='file:///usr/local/anaconda3/envs/factual-beam-search/lib/python3.8/site-packages/matplotlib/axis.py?line=2085'>2086</a>\u001b[0m \u001b[39mif\u001b[39;00m \u001b[39mself\u001b[39m\u001b[39m.\u001b[39mlabel_position \u001b[39m==\u001b[39m \u001b[39m'\u001b[39m\u001b[39mbottom\u001b[39m\u001b[39m'\u001b[39m:\n",
      "File \u001b[0;32m/usr/local/anaconda3/envs/factual-beam-search/lib/python3.8/site-packages/matplotlib/axis.py:1881\u001b[0m, in \u001b[0;36mAxis._get_tick_boxes_siblings\u001b[0;34m(self, renderer)\u001b[0m\n\u001b[1;32m   <a href='file:///usr/local/anaconda3/envs/factual-beam-search/lib/python3.8/site-packages/matplotlib/axis.py?line=1878'>1879</a>\u001b[0m axis \u001b[39m=\u001b[39m \u001b[39mgetattr\u001b[39m(ax, \u001b[39mf\u001b[39m\u001b[39m\"\u001b[39m\u001b[39m{\u001b[39;00maxis_name\u001b[39m}\u001b[39;00m\u001b[39maxis\u001b[39m\u001b[39m\"\u001b[39m)\n\u001b[1;32m   <a href='file:///usr/local/anaconda3/envs/factual-beam-search/lib/python3.8/site-packages/matplotlib/axis.py?line=1879'>1880</a>\u001b[0m ticks_to_draw \u001b[39m=\u001b[39m axis\u001b[39m.\u001b[39m_update_ticks()\n\u001b[0;32m-> <a href='file:///usr/local/anaconda3/envs/factual-beam-search/lib/python3.8/site-packages/matplotlib/axis.py?line=1880'>1881</a>\u001b[0m tlb, tlb2 \u001b[39m=\u001b[39m axis\u001b[39m.\u001b[39;49m_get_tick_bboxes(ticks_to_draw, renderer)\n\u001b[1;32m   <a href='file:///usr/local/anaconda3/envs/factual-beam-search/lib/python3.8/site-packages/matplotlib/axis.py?line=1881'>1882</a>\u001b[0m bboxes\u001b[39m.\u001b[39mextend(tlb)\n\u001b[1;32m   <a href='file:///usr/local/anaconda3/envs/factual-beam-search/lib/python3.8/site-packages/matplotlib/axis.py?line=1882'>1883</a>\u001b[0m bboxes2\u001b[39m.\u001b[39mextend(tlb2)\n",
      "File \u001b[0;32m/usr/local/anaconda3/envs/factual-beam-search/lib/python3.8/site-packages/matplotlib/axis.py:1085\u001b[0m, in \u001b[0;36mAxis._get_tick_bboxes\u001b[0;34m(self, ticks, renderer)\u001b[0m\n\u001b[1;32m   <a href='file:///usr/local/anaconda3/envs/factual-beam-search/lib/python3.8/site-packages/matplotlib/axis.py?line=1082'>1083</a>\u001b[0m \u001b[39mdef\u001b[39;00m \u001b[39m_get_tick_bboxes\u001b[39m(\u001b[39mself\u001b[39m, ticks, renderer):\n\u001b[1;32m   <a href='file:///usr/local/anaconda3/envs/factual-beam-search/lib/python3.8/site-packages/matplotlib/axis.py?line=1083'>1084</a>\u001b[0m     \u001b[39m\"\"\"Return lists of bboxes for ticks' label1's and label2's.\"\"\"\u001b[39;00m\n\u001b[0;32m-> <a href='file:///usr/local/anaconda3/envs/factual-beam-search/lib/python3.8/site-packages/matplotlib/axis.py?line=1084'>1085</a>\u001b[0m     \u001b[39mreturn\u001b[39;00m ([tick\u001b[39m.\u001b[39mlabel1\u001b[39m.\u001b[39mget_window_extent(renderer)\n\u001b[1;32m   <a href='file:///usr/local/anaconda3/envs/factual-beam-search/lib/python3.8/site-packages/matplotlib/axis.py?line=1085'>1086</a>\u001b[0m              \u001b[39mfor\u001b[39;00m tick \u001b[39min\u001b[39;00m ticks \u001b[39mif\u001b[39;00m tick\u001b[39m.\u001b[39mlabel1\u001b[39m.\u001b[39mget_visible()],\n\u001b[1;32m   <a href='file:///usr/local/anaconda3/envs/factual-beam-search/lib/python3.8/site-packages/matplotlib/axis.py?line=1086'>1087</a>\u001b[0m             [tick\u001b[39m.\u001b[39mlabel2\u001b[39m.\u001b[39mget_window_extent(renderer)\n\u001b[1;32m   <a href='file:///usr/local/anaconda3/envs/factual-beam-search/lib/python3.8/site-packages/matplotlib/axis.py?line=1087'>1088</a>\u001b[0m              \u001b[39mfor\u001b[39;00m tick \u001b[39min\u001b[39;00m ticks \u001b[39mif\u001b[39;00m tick\u001b[39m.\u001b[39mlabel2\u001b[39m.\u001b[39mget_visible()])\n",
      "File \u001b[0;32m/usr/local/anaconda3/envs/factual-beam-search/lib/python3.8/site-packages/matplotlib/axis.py:1085\u001b[0m, in \u001b[0;36m<listcomp>\u001b[0;34m(.0)\u001b[0m\n\u001b[1;32m   <a href='file:///usr/local/anaconda3/envs/factual-beam-search/lib/python3.8/site-packages/matplotlib/axis.py?line=1082'>1083</a>\u001b[0m \u001b[39mdef\u001b[39;00m \u001b[39m_get_tick_bboxes\u001b[39m(\u001b[39mself\u001b[39m, ticks, renderer):\n\u001b[1;32m   <a href='file:///usr/local/anaconda3/envs/factual-beam-search/lib/python3.8/site-packages/matplotlib/axis.py?line=1083'>1084</a>\u001b[0m     \u001b[39m\"\"\"Return lists of bboxes for ticks' label1's and label2's.\"\"\"\u001b[39;00m\n\u001b[0;32m-> <a href='file:///usr/local/anaconda3/envs/factual-beam-search/lib/python3.8/site-packages/matplotlib/axis.py?line=1084'>1085</a>\u001b[0m     \u001b[39mreturn\u001b[39;00m ([tick\u001b[39m.\u001b[39;49mlabel1\u001b[39m.\u001b[39;49mget_window_extent(renderer)\n\u001b[1;32m   <a href='file:///usr/local/anaconda3/envs/factual-beam-search/lib/python3.8/site-packages/matplotlib/axis.py?line=1085'>1086</a>\u001b[0m              \u001b[39mfor\u001b[39;00m tick \u001b[39min\u001b[39;00m ticks \u001b[39mif\u001b[39;00m tick\u001b[39m.\u001b[39mlabel1\u001b[39m.\u001b[39mget_visible()],\n\u001b[1;32m   <a href='file:///usr/local/anaconda3/envs/factual-beam-search/lib/python3.8/site-packages/matplotlib/axis.py?line=1086'>1087</a>\u001b[0m             [tick\u001b[39m.\u001b[39mlabel2\u001b[39m.\u001b[39mget_window_extent(renderer)\n\u001b[1;32m   <a href='file:///usr/local/anaconda3/envs/factual-beam-search/lib/python3.8/site-packages/matplotlib/axis.py?line=1087'>1088</a>\u001b[0m              \u001b[39mfor\u001b[39;00m tick \u001b[39min\u001b[39;00m ticks \u001b[39mif\u001b[39;00m tick\u001b[39m.\u001b[39mlabel2\u001b[39m.\u001b[39mget_visible()])\n",
      "File \u001b[0;32m/usr/local/anaconda3/envs/factual-beam-search/lib/python3.8/site-packages/matplotlib/text.py:910\u001b[0m, in \u001b[0;36mText.get_window_extent\u001b[0;34m(self, renderer, dpi)\u001b[0m\n\u001b[1;32m    <a href='file:///usr/local/anaconda3/envs/factual-beam-search/lib/python3.8/site-packages/matplotlib/text.py?line=906'>907</a>\u001b[0m     \u001b[39mraise\u001b[39;00m \u001b[39mRuntimeError\u001b[39;00m(\u001b[39m'\u001b[39m\u001b[39mCannot get window extent w/o renderer\u001b[39m\u001b[39m'\u001b[39m)\n\u001b[1;32m    <a href='file:///usr/local/anaconda3/envs/factual-beam-search/lib/python3.8/site-packages/matplotlib/text.py?line=908'>909</a>\u001b[0m \u001b[39mwith\u001b[39;00m cbook\u001b[39m.\u001b[39m_setattr_cm(\u001b[39mself\u001b[39m\u001b[39m.\u001b[39mfigure, dpi\u001b[39m=\u001b[39mdpi):\n\u001b[0;32m--> <a href='file:///usr/local/anaconda3/envs/factual-beam-search/lib/python3.8/site-packages/matplotlib/text.py?line=909'>910</a>\u001b[0m     bbox, info, descent \u001b[39m=\u001b[39m \u001b[39mself\u001b[39;49m\u001b[39m.\u001b[39;49m_get_layout(\u001b[39mself\u001b[39;49m\u001b[39m.\u001b[39;49m_renderer)\n\u001b[1;32m    <a href='file:///usr/local/anaconda3/envs/factual-beam-search/lib/python3.8/site-packages/matplotlib/text.py?line=910'>911</a>\u001b[0m     x, y \u001b[39m=\u001b[39m \u001b[39mself\u001b[39m\u001b[39m.\u001b[39mget_unitless_position()\n\u001b[1;32m    <a href='file:///usr/local/anaconda3/envs/factual-beam-search/lib/python3.8/site-packages/matplotlib/text.py?line=911'>912</a>\u001b[0m     x, y \u001b[39m=\u001b[39m \u001b[39mself\u001b[39m\u001b[39m.\u001b[39mget_transform()\u001b[39m.\u001b[39mtransform((x, y))\n",
      "File \u001b[0;32m/usr/local/anaconda3/envs/factual-beam-search/lib/python3.8/site-packages/matplotlib/text.py:309\u001b[0m, in \u001b[0;36mText._get_layout\u001b[0;34m(self, renderer)\u001b[0m\n\u001b[1;32m    <a href='file:///usr/local/anaconda3/envs/factual-beam-search/lib/python3.8/site-packages/matplotlib/text.py?line=305'>306</a>\u001b[0m ys \u001b[39m=\u001b[39m []\n\u001b[1;32m    <a href='file:///usr/local/anaconda3/envs/factual-beam-search/lib/python3.8/site-packages/matplotlib/text.py?line=307'>308</a>\u001b[0m \u001b[39m# Full vertical extent of font, including ascenders and descenders:\u001b[39;00m\n\u001b[0;32m--> <a href='file:///usr/local/anaconda3/envs/factual-beam-search/lib/python3.8/site-packages/matplotlib/text.py?line=308'>309</a>\u001b[0m _, lp_h, lp_d \u001b[39m=\u001b[39m renderer\u001b[39m.\u001b[39;49mget_text_width_height_descent(\n\u001b[1;32m    <a href='file:///usr/local/anaconda3/envs/factual-beam-search/lib/python3.8/site-packages/matplotlib/text.py?line=309'>310</a>\u001b[0m     \u001b[39m\"\u001b[39;49m\u001b[39mlp\u001b[39;49m\u001b[39m\"\u001b[39;49m, \u001b[39mself\u001b[39;49m\u001b[39m.\u001b[39;49m_fontproperties,\n\u001b[1;32m    <a href='file:///usr/local/anaconda3/envs/factual-beam-search/lib/python3.8/site-packages/matplotlib/text.py?line=310'>311</a>\u001b[0m     ismath\u001b[39m=\u001b[39;49m\u001b[39m\"\u001b[39;49m\u001b[39mTeX\u001b[39;49m\u001b[39m\"\u001b[39;49m \u001b[39mif\u001b[39;49;00m \u001b[39mself\u001b[39;49m\u001b[39m.\u001b[39;49mget_usetex() \u001b[39melse\u001b[39;49;00m \u001b[39mFalse\u001b[39;49;00m)\n\u001b[1;32m    <a href='file:///usr/local/anaconda3/envs/factual-beam-search/lib/python3.8/site-packages/matplotlib/text.py?line=311'>312</a>\u001b[0m min_dy \u001b[39m=\u001b[39m (lp_h \u001b[39m-\u001b[39m lp_d) \u001b[39m*\u001b[39m \u001b[39mself\u001b[39m\u001b[39m.\u001b[39m_linespacing\n\u001b[1;32m    <a href='file:///usr/local/anaconda3/envs/factual-beam-search/lib/python3.8/site-packages/matplotlib/text.py?line=313'>314</a>\u001b[0m \u001b[39mfor\u001b[39;00m i, line \u001b[39min\u001b[39;00m \u001b[39menumerate\u001b[39m(lines):\n",
      "File \u001b[0;32m/usr/local/anaconda3/envs/factual-beam-search/lib/python3.8/site-packages/matplotlib/backends/backend_agg.py:259\u001b[0m, in \u001b[0;36mRendererAgg.get_text_width_height_descent\u001b[0;34m(self, s, prop, ismath)\u001b[0m\n\u001b[1;32m    <a href='file:///usr/local/anaconda3/envs/factual-beam-search/lib/python3.8/site-packages/matplotlib/backends/backend_agg.py?line=256'>257</a>\u001b[0m     texmanager \u001b[39m=\u001b[39m \u001b[39mself\u001b[39m\u001b[39m.\u001b[39mget_texmanager()\n\u001b[1;32m    <a href='file:///usr/local/anaconda3/envs/factual-beam-search/lib/python3.8/site-packages/matplotlib/backends/backend_agg.py?line=257'>258</a>\u001b[0m     fontsize \u001b[39m=\u001b[39m prop\u001b[39m.\u001b[39mget_size_in_points()\n\u001b[0;32m--> <a href='file:///usr/local/anaconda3/envs/factual-beam-search/lib/python3.8/site-packages/matplotlib/backends/backend_agg.py?line=258'>259</a>\u001b[0m     w, h, d \u001b[39m=\u001b[39m texmanager\u001b[39m.\u001b[39;49mget_text_width_height_descent(\n\u001b[1;32m    <a href='file:///usr/local/anaconda3/envs/factual-beam-search/lib/python3.8/site-packages/matplotlib/backends/backend_agg.py?line=259'>260</a>\u001b[0m         s, fontsize, renderer\u001b[39m=\u001b[39;49m\u001b[39mself\u001b[39;49m)\n\u001b[1;32m    <a href='file:///usr/local/anaconda3/envs/factual-beam-search/lib/python3.8/site-packages/matplotlib/backends/backend_agg.py?line=260'>261</a>\u001b[0m     \u001b[39mreturn\u001b[39;00m w, h, d\n\u001b[1;32m    <a href='file:///usr/local/anaconda3/envs/factual-beam-search/lib/python3.8/site-packages/matplotlib/backends/backend_agg.py?line=262'>263</a>\u001b[0m \u001b[39mif\u001b[39;00m ismath:\n",
      "File \u001b[0;32m/usr/local/anaconda3/envs/factual-beam-search/lib/python3.8/site-packages/matplotlib/texmanager.py:338\u001b[0m, in \u001b[0;36mTexManager.get_text_width_height_descent\u001b[0;34m(self, tex, fontsize, renderer)\u001b[0m\n\u001b[1;32m    <a href='file:///usr/local/anaconda3/envs/factual-beam-search/lib/python3.8/site-packages/matplotlib/texmanager.py?line=335'>336</a>\u001b[0m dpi_fraction \u001b[39m=\u001b[39m renderer\u001b[39m.\u001b[39mpoints_to_pixels(\u001b[39m1.\u001b[39m) \u001b[39mif\u001b[39;00m renderer \u001b[39melse\u001b[39;00m \u001b[39m1\u001b[39m\n\u001b[1;32m    <a href='file:///usr/local/anaconda3/envs/factual-beam-search/lib/python3.8/site-packages/matplotlib/texmanager.py?line=336'>337</a>\u001b[0m \u001b[39mwith\u001b[39;00m dviread\u001b[39m.\u001b[39mDvi(dvifile, \u001b[39m72\u001b[39m \u001b[39m*\u001b[39m dpi_fraction) \u001b[39mas\u001b[39;00m dvi:\n\u001b[0;32m--> <a href='file:///usr/local/anaconda3/envs/factual-beam-search/lib/python3.8/site-packages/matplotlib/texmanager.py?line=337'>338</a>\u001b[0m     page, \u001b[39m=\u001b[39m dvi\n\u001b[1;32m    <a href='file:///usr/local/anaconda3/envs/factual-beam-search/lib/python3.8/site-packages/matplotlib/texmanager.py?line=338'>339</a>\u001b[0m \u001b[39m# A total height (including the descent) needs to be returned.\u001b[39;00m\n\u001b[1;32m    <a href='file:///usr/local/anaconda3/envs/factual-beam-search/lib/python3.8/site-packages/matplotlib/texmanager.py?line=339'>340</a>\u001b[0m \u001b[39mreturn\u001b[39;00m page\u001b[39m.\u001b[39mwidth, page\u001b[39m.\u001b[39mheight \u001b[39m+\u001b[39m page\u001b[39m.\u001b[39mdescent, page\u001b[39m.\u001b[39mdescent\n",
      "File \u001b[0;32m/usr/local/anaconda3/envs/factual-beam-search/lib/python3.8/site-packages/matplotlib/dviread.py:237\u001b[0m, in \u001b[0;36mDvi.__iter__\u001b[0;34m(self)\u001b[0m\n\u001b[1;32m    <a href='file:///usr/local/anaconda3/envs/factual-beam-search/lib/python3.8/site-packages/matplotlib/dviread.py?line=220'>221</a>\u001b[0m \u001b[39mdef\u001b[39;00m \u001b[39m__iter__\u001b[39m(\u001b[39mself\u001b[39m):\n\u001b[1;32m    <a href='file:///usr/local/anaconda3/envs/factual-beam-search/lib/python3.8/site-packages/matplotlib/dviread.py?line=221'>222</a>\u001b[0m     \u001b[39m\"\"\"\u001b[39;00m\n\u001b[1;32m    <a href='file:///usr/local/anaconda3/envs/factual-beam-search/lib/python3.8/site-packages/matplotlib/dviread.py?line=222'>223</a>\u001b[0m \u001b[39m    Iterate through the pages of the file.\u001b[39;00m\n\u001b[1;32m    <a href='file:///usr/local/anaconda3/envs/factual-beam-search/lib/python3.8/site-packages/matplotlib/dviread.py?line=223'>224</a>\u001b[0m \n\u001b[0;32m   (...)\u001b[0m\n\u001b[1;32m    <a href='file:///usr/local/anaconda3/envs/factual-beam-search/lib/python3.8/site-packages/matplotlib/dviread.py?line=234'>235</a>\u001b[0m \u001b[39m        integers.\u001b[39;00m\n\u001b[1;32m    <a href='file:///usr/local/anaconda3/envs/factual-beam-search/lib/python3.8/site-packages/matplotlib/dviread.py?line=235'>236</a>\u001b[0m \u001b[39m    \"\"\"\u001b[39;00m\n\u001b[0;32m--> <a href='file:///usr/local/anaconda3/envs/factual-beam-search/lib/python3.8/site-packages/matplotlib/dviread.py?line=236'>237</a>\u001b[0m     \u001b[39mwhile\u001b[39;00m \u001b[39mself\u001b[39;49m\u001b[39m.\u001b[39;49m_read():\n\u001b[1;32m    <a href='file:///usr/local/anaconda3/envs/factual-beam-search/lib/python3.8/site-packages/matplotlib/dviread.py?line=237'>238</a>\u001b[0m         \u001b[39myield\u001b[39;00m \u001b[39mself\u001b[39m\u001b[39m.\u001b[39m_output()\n",
      "File \u001b[0;32m/usr/local/anaconda3/envs/factual-beam-search/lib/python3.8/site-packages/matplotlib/dviread.py:316\u001b[0m, in \u001b[0;36mDvi._read\u001b[0;34m(self)\u001b[0m\n\u001b[1;32m    <a href='file:///usr/local/anaconda3/envs/factual-beam-search/lib/python3.8/site-packages/matplotlib/dviread.py?line=313'>314</a>\u001b[0m \u001b[39mwhile\u001b[39;00m \u001b[39mTrue\u001b[39;00m:\n\u001b[1;32m    <a href='file:///usr/local/anaconda3/envs/factual-beam-search/lib/python3.8/site-packages/matplotlib/dviread.py?line=314'>315</a>\u001b[0m     byte \u001b[39m=\u001b[39m \u001b[39mself\u001b[39m\u001b[39m.\u001b[39mfile\u001b[39m.\u001b[39mread(\u001b[39m1\u001b[39m)[\u001b[39m0\u001b[39m]\n\u001b[0;32m--> <a href='file:///usr/local/anaconda3/envs/factual-beam-search/lib/python3.8/site-packages/matplotlib/dviread.py?line=315'>316</a>\u001b[0m     \u001b[39mself\u001b[39;49m\u001b[39m.\u001b[39;49m_dtable[byte](\u001b[39mself\u001b[39;49m, byte)\n\u001b[1;32m    <a href='file:///usr/local/anaconda3/envs/factual-beam-search/lib/python3.8/site-packages/matplotlib/dviread.py?line=316'>317</a>\u001b[0m     name \u001b[39m=\u001b[39m \u001b[39mself\u001b[39m\u001b[39m.\u001b[39m_dtable[byte]\u001b[39m.\u001b[39m\u001b[39m__name__\u001b[39m\n\u001b[1;32m    <a href='file:///usr/local/anaconda3/envs/factual-beam-search/lib/python3.8/site-packages/matplotlib/dviread.py?line=317'>318</a>\u001b[0m     \u001b[39mif\u001b[39;00m name \u001b[39m==\u001b[39m \u001b[39m\"\u001b[39m\u001b[39m_push\u001b[39m\u001b[39m\"\u001b[39m:\n",
      "File \u001b[0;32m/usr/local/anaconda3/envs/factual-beam-search/lib/python3.8/site-packages/matplotlib/dviread.py:166\u001b[0m, in \u001b[0;36m_dispatch.<locals>.decorate.<locals>.wrapper\u001b[0;34m(self, byte)\u001b[0m\n\u001b[1;32m    <a href='file:///usr/local/anaconda3/envs/factual-beam-search/lib/python3.8/site-packages/matplotlib/dviread.py?line=163'>164</a>\u001b[0m \u001b[39mif\u001b[39;00m state \u001b[39mis\u001b[39;00m \u001b[39mnot\u001b[39;00m \u001b[39mNone\u001b[39;00m \u001b[39mand\u001b[39;00m \u001b[39mself\u001b[39m\u001b[39m.\u001b[39mstate \u001b[39m!=\u001b[39m state:\n\u001b[1;32m    <a href='file:///usr/local/anaconda3/envs/factual-beam-search/lib/python3.8/site-packages/matplotlib/dviread.py?line=164'>165</a>\u001b[0m     \u001b[39mraise\u001b[39;00m \u001b[39mValueError\u001b[39;00m(\u001b[39m\"\u001b[39m\u001b[39mstate precondition failed\u001b[39m\u001b[39m\"\u001b[39m)\n\u001b[0;32m--> <a href='file:///usr/local/anaconda3/envs/factual-beam-search/lib/python3.8/site-packages/matplotlib/dviread.py?line=165'>166</a>\u001b[0m \u001b[39mreturn\u001b[39;00m method(\u001b[39mself\u001b[39;49m, \u001b[39m*\u001b[39;49m[f(\u001b[39mself\u001b[39;49m, byte\u001b[39m-\u001b[39;49m\u001b[39mmin\u001b[39;49m) \u001b[39mfor\u001b[39;49;00m f \u001b[39min\u001b[39;49;00m get_args])\n",
      "File \u001b[0;32m/usr/local/anaconda3/envs/factual-beam-search/lib/python3.8/site-packages/matplotlib/dviread.py:467\u001b[0m, in \u001b[0;36mDvi._fnt_def\u001b[0;34m(self, k, c, s, d, a, l)\u001b[0m\n\u001b[1;32m    <a href='file:///usr/local/anaconda3/envs/factual-beam-search/lib/python3.8/site-packages/matplotlib/dviread.py?line=464'>465</a>\u001b[0m \u001b[39m@_dispatch\u001b[39m(\u001b[39mmin\u001b[39m\u001b[39m=\u001b[39m\u001b[39m243\u001b[39m, \u001b[39mmax\u001b[39m\u001b[39m=\u001b[39m\u001b[39m246\u001b[39m, args\u001b[39m=\u001b[39m(\u001b[39m'\u001b[39m\u001b[39molen1\u001b[39m\u001b[39m'\u001b[39m, \u001b[39m'\u001b[39m\u001b[39mu4\u001b[39m\u001b[39m'\u001b[39m, \u001b[39m'\u001b[39m\u001b[39mu4\u001b[39m\u001b[39m'\u001b[39m, \u001b[39m'\u001b[39m\u001b[39mu4\u001b[39m\u001b[39m'\u001b[39m, \u001b[39m'\u001b[39m\u001b[39mu1\u001b[39m\u001b[39m'\u001b[39m, \u001b[39m'\u001b[39m\u001b[39mu1\u001b[39m\u001b[39m'\u001b[39m))\n\u001b[1;32m    <a href='file:///usr/local/anaconda3/envs/factual-beam-search/lib/python3.8/site-packages/matplotlib/dviread.py?line=465'>466</a>\u001b[0m \u001b[39mdef\u001b[39;00m \u001b[39m_fnt_def\u001b[39m(\u001b[39mself\u001b[39m, k, c, s, d, a, l):\n\u001b[0;32m--> <a href='file:///usr/local/anaconda3/envs/factual-beam-search/lib/python3.8/site-packages/matplotlib/dviread.py?line=466'>467</a>\u001b[0m     \u001b[39mself\u001b[39;49m\u001b[39m.\u001b[39;49m_fnt_def_real(k, c, s, d, a, l)\n",
      "File \u001b[0;32m/usr/local/anaconda3/envs/factual-beam-search/lib/python3.8/site-packages/matplotlib/dviread.py:474\u001b[0m, in \u001b[0;36mDvi._fnt_def_real\u001b[0;34m(self, k, c, s, d, a, l)\u001b[0m\n\u001b[1;32m    <a href='file:///usr/local/anaconda3/envs/factual-beam-search/lib/python3.8/site-packages/matplotlib/dviread.py?line=471'>472</a>\u001b[0m tfm \u001b[39m=\u001b[39m _tfmfile(fontname)\n\u001b[1;32m    <a href='file:///usr/local/anaconda3/envs/factual-beam-search/lib/python3.8/site-packages/matplotlib/dviread.py?line=472'>473</a>\u001b[0m \u001b[39mif\u001b[39;00m tfm \u001b[39mis\u001b[39;00m \u001b[39mNone\u001b[39;00m:\n\u001b[0;32m--> <a href='file:///usr/local/anaconda3/envs/factual-beam-search/lib/python3.8/site-packages/matplotlib/dviread.py?line=473'>474</a>\u001b[0m     \u001b[39mraise\u001b[39;00m \u001b[39mFileNotFoundError\u001b[39;00m(\u001b[39m\"\u001b[39m\u001b[39mmissing font metrics file: \u001b[39m\u001b[39m%s\u001b[39;00m\u001b[39m\"\u001b[39m \u001b[39m%\u001b[39m fontname)\n\u001b[1;32m    <a href='file:///usr/local/anaconda3/envs/factual-beam-search/lib/python3.8/site-packages/matplotlib/dviread.py?line=474'>475</a>\u001b[0m \u001b[39mif\u001b[39;00m c \u001b[39m!=\u001b[39m \u001b[39m0\u001b[39m \u001b[39mand\u001b[39;00m tfm\u001b[39m.\u001b[39mchecksum \u001b[39m!=\u001b[39m \u001b[39m0\u001b[39m \u001b[39mand\u001b[39;00m c \u001b[39m!=\u001b[39m tfm\u001b[39m.\u001b[39mchecksum:\n\u001b[1;32m    <a href='file:///usr/local/anaconda3/envs/factual-beam-search/lib/python3.8/site-packages/matplotlib/dviread.py?line=475'>476</a>\u001b[0m     \u001b[39mraise\u001b[39;00m \u001b[39mValueError\u001b[39;00m(\u001b[39m'\u001b[39m\u001b[39mtfm checksum mismatch: \u001b[39m\u001b[39m%s\u001b[39;00m\u001b[39m'\u001b[39m \u001b[39m%\u001b[39m n)\n",
      "\u001b[0;31mFileNotFoundError\u001b[0m: missing font metrics file: ptmr7t"
     ]
    },
    {
     "ename": "FileNotFoundError",
     "evalue": "missing font metrics file: ptmr7t",
     "output_type": "error",
     "traceback": [
      "\u001b[0;31m---------------------------------------------------------------------------\u001b[0m",
      "\u001b[0;31mFileNotFoundError\u001b[0m                         Traceback (most recent call last)",
      "File \u001b[0;32m/usr/local/anaconda3/envs/factual-beam-search/lib/python3.8/site-packages/IPython/core/formatters.py:339\u001b[0m, in \u001b[0;36mBaseFormatter.__call__\u001b[0;34m(self, obj)\u001b[0m\n\u001b[1;32m    <a href='file:///usr/local/anaconda3/envs/factual-beam-search/lib/python3.8/site-packages/IPython/core/formatters.py?line=336'>337</a>\u001b[0m     \u001b[39mpass\u001b[39;00m\n\u001b[1;32m    <a href='file:///usr/local/anaconda3/envs/factual-beam-search/lib/python3.8/site-packages/IPython/core/formatters.py?line=337'>338</a>\u001b[0m \u001b[39melse\u001b[39;00m:\n\u001b[0;32m--> <a href='file:///usr/local/anaconda3/envs/factual-beam-search/lib/python3.8/site-packages/IPython/core/formatters.py?line=338'>339</a>\u001b[0m     \u001b[39mreturn\u001b[39;00m printer(obj)\n\u001b[1;32m    <a href='file:///usr/local/anaconda3/envs/factual-beam-search/lib/python3.8/site-packages/IPython/core/formatters.py?line=339'>340</a>\u001b[0m \u001b[39m# Finally look for special method names\u001b[39;00m\n\u001b[1;32m    <a href='file:///usr/local/anaconda3/envs/factual-beam-search/lib/python3.8/site-packages/IPython/core/formatters.py?line=340'>341</a>\u001b[0m method \u001b[39m=\u001b[39m get_real_method(obj, \u001b[39mself\u001b[39m\u001b[39m.\u001b[39mprint_method)\n",
      "File \u001b[0;32m/usr/local/anaconda3/envs/factual-beam-search/lib/python3.8/site-packages/IPython/core/pylabtools.py:151\u001b[0m, in \u001b[0;36mprint_figure\u001b[0;34m(fig, fmt, bbox_inches, base64, **kwargs)\u001b[0m\n\u001b[1;32m    <a href='file:///usr/local/anaconda3/envs/factual-beam-search/lib/python3.8/site-packages/IPython/core/pylabtools.py?line=147'>148</a>\u001b[0m     \u001b[39mfrom\u001b[39;00m \u001b[39mmatplotlib\u001b[39;00m\u001b[39m.\u001b[39;00m\u001b[39mbackend_bases\u001b[39;00m \u001b[39mimport\u001b[39;00m FigureCanvasBase\n\u001b[1;32m    <a href='file:///usr/local/anaconda3/envs/factual-beam-search/lib/python3.8/site-packages/IPython/core/pylabtools.py?line=148'>149</a>\u001b[0m     FigureCanvasBase(fig)\n\u001b[0;32m--> <a href='file:///usr/local/anaconda3/envs/factual-beam-search/lib/python3.8/site-packages/IPython/core/pylabtools.py?line=150'>151</a>\u001b[0m fig\u001b[39m.\u001b[39;49mcanvas\u001b[39m.\u001b[39;49mprint_figure(bytes_io, \u001b[39m*\u001b[39;49m\u001b[39m*\u001b[39;49mkw)\n\u001b[1;32m    <a href='file:///usr/local/anaconda3/envs/factual-beam-search/lib/python3.8/site-packages/IPython/core/pylabtools.py?line=151'>152</a>\u001b[0m data \u001b[39m=\u001b[39m bytes_io\u001b[39m.\u001b[39mgetvalue()\n\u001b[1;32m    <a href='file:///usr/local/anaconda3/envs/factual-beam-search/lib/python3.8/site-packages/IPython/core/pylabtools.py?line=152'>153</a>\u001b[0m \u001b[39mif\u001b[39;00m fmt \u001b[39m==\u001b[39m \u001b[39m'\u001b[39m\u001b[39msvg\u001b[39m\u001b[39m'\u001b[39m:\n",
      "File \u001b[0;32m/usr/local/anaconda3/envs/factual-beam-search/lib/python3.8/site-packages/matplotlib/backend_bases.py:2295\u001b[0m, in \u001b[0;36mFigureCanvasBase.print_figure\u001b[0;34m(self, filename, dpi, facecolor, edgecolor, orientation, format, bbox_inches, pad_inches, bbox_extra_artists, backend, **kwargs)\u001b[0m\n\u001b[1;32m   <a href='file:///usr/local/anaconda3/envs/factual-beam-search/lib/python3.8/site-packages/matplotlib/backend_bases.py?line=2288'>2289</a>\u001b[0m     renderer \u001b[39m=\u001b[39m _get_renderer(\n\u001b[1;32m   <a href='file:///usr/local/anaconda3/envs/factual-beam-search/lib/python3.8/site-packages/matplotlib/backend_bases.py?line=2289'>2290</a>\u001b[0m         \u001b[39mself\u001b[39m\u001b[39m.\u001b[39mfigure,\n\u001b[1;32m   <a href='file:///usr/local/anaconda3/envs/factual-beam-search/lib/python3.8/site-packages/matplotlib/backend_bases.py?line=2290'>2291</a>\u001b[0m         functools\u001b[39m.\u001b[39mpartial(\n\u001b[1;32m   <a href='file:///usr/local/anaconda3/envs/factual-beam-search/lib/python3.8/site-packages/matplotlib/backend_bases.py?line=2291'>2292</a>\u001b[0m             print_method, orientation\u001b[39m=\u001b[39morientation)\n\u001b[1;32m   <a href='file:///usr/local/anaconda3/envs/factual-beam-search/lib/python3.8/site-packages/matplotlib/backend_bases.py?line=2292'>2293</a>\u001b[0m     )\n\u001b[1;32m   <a href='file:///usr/local/anaconda3/envs/factual-beam-search/lib/python3.8/site-packages/matplotlib/backend_bases.py?line=2293'>2294</a>\u001b[0m     \u001b[39mwith\u001b[39;00m \u001b[39mgetattr\u001b[39m(renderer, \u001b[39m\"\u001b[39m\u001b[39m_draw_disabled\u001b[39m\u001b[39m\"\u001b[39m, nullcontext)():\n\u001b[0;32m-> <a href='file:///usr/local/anaconda3/envs/factual-beam-search/lib/python3.8/site-packages/matplotlib/backend_bases.py?line=2294'>2295</a>\u001b[0m         \u001b[39mself\u001b[39;49m\u001b[39m.\u001b[39;49mfigure\u001b[39m.\u001b[39;49mdraw(renderer)\n\u001b[1;32m   <a href='file:///usr/local/anaconda3/envs/factual-beam-search/lib/python3.8/site-packages/matplotlib/backend_bases.py?line=2296'>2297</a>\u001b[0m \u001b[39mif\u001b[39;00m bbox_inches:\n\u001b[1;32m   <a href='file:///usr/local/anaconda3/envs/factual-beam-search/lib/python3.8/site-packages/matplotlib/backend_bases.py?line=2297'>2298</a>\u001b[0m     \u001b[39mif\u001b[39;00m bbox_inches \u001b[39m==\u001b[39m \u001b[39m\"\u001b[39m\u001b[39mtight\u001b[39m\u001b[39m\"\u001b[39m:\n",
      "File \u001b[0;32m/usr/local/anaconda3/envs/factual-beam-search/lib/python3.8/site-packages/matplotlib/artist.py:73\u001b[0m, in \u001b[0;36m_finalize_rasterization.<locals>.draw_wrapper\u001b[0;34m(artist, renderer, *args, **kwargs)\u001b[0m\n\u001b[1;32m     <a href='file:///usr/local/anaconda3/envs/factual-beam-search/lib/python3.8/site-packages/matplotlib/artist.py?line=70'>71</a>\u001b[0m \u001b[39m@wraps\u001b[39m(draw)\n\u001b[1;32m     <a href='file:///usr/local/anaconda3/envs/factual-beam-search/lib/python3.8/site-packages/matplotlib/artist.py?line=71'>72</a>\u001b[0m \u001b[39mdef\u001b[39;00m \u001b[39mdraw_wrapper\u001b[39m(artist, renderer, \u001b[39m*\u001b[39margs, \u001b[39m*\u001b[39m\u001b[39m*\u001b[39mkwargs):\n\u001b[0;32m---> <a href='file:///usr/local/anaconda3/envs/factual-beam-search/lib/python3.8/site-packages/matplotlib/artist.py?line=72'>73</a>\u001b[0m     result \u001b[39m=\u001b[39m draw(artist, renderer, \u001b[39m*\u001b[39;49margs, \u001b[39m*\u001b[39;49m\u001b[39m*\u001b[39;49mkwargs)\n\u001b[1;32m     <a href='file:///usr/local/anaconda3/envs/factual-beam-search/lib/python3.8/site-packages/matplotlib/artist.py?line=73'>74</a>\u001b[0m     \u001b[39mif\u001b[39;00m renderer\u001b[39m.\u001b[39m_rasterizing:\n\u001b[1;32m     <a href='file:///usr/local/anaconda3/envs/factual-beam-search/lib/python3.8/site-packages/matplotlib/artist.py?line=74'>75</a>\u001b[0m         renderer\u001b[39m.\u001b[39mstop_rasterizing()\n",
      "File \u001b[0;32m/usr/local/anaconda3/envs/factual-beam-search/lib/python3.8/site-packages/matplotlib/artist.py:50\u001b[0m, in \u001b[0;36mallow_rasterization.<locals>.draw_wrapper\u001b[0;34m(artist, renderer)\u001b[0m\n\u001b[1;32m     <a href='file:///usr/local/anaconda3/envs/factual-beam-search/lib/python3.8/site-packages/matplotlib/artist.py?line=46'>47</a>\u001b[0m     \u001b[39mif\u001b[39;00m artist\u001b[39m.\u001b[39mget_agg_filter() \u001b[39mis\u001b[39;00m \u001b[39mnot\u001b[39;00m \u001b[39mNone\u001b[39;00m:\n\u001b[1;32m     <a href='file:///usr/local/anaconda3/envs/factual-beam-search/lib/python3.8/site-packages/matplotlib/artist.py?line=47'>48</a>\u001b[0m         renderer\u001b[39m.\u001b[39mstart_filter()\n\u001b[0;32m---> <a href='file:///usr/local/anaconda3/envs/factual-beam-search/lib/python3.8/site-packages/matplotlib/artist.py?line=49'>50</a>\u001b[0m     \u001b[39mreturn\u001b[39;00m draw(artist, renderer)\n\u001b[1;32m     <a href='file:///usr/local/anaconda3/envs/factual-beam-search/lib/python3.8/site-packages/matplotlib/artist.py?line=50'>51</a>\u001b[0m \u001b[39mfinally\u001b[39;00m:\n\u001b[1;32m     <a href='file:///usr/local/anaconda3/envs/factual-beam-search/lib/python3.8/site-packages/matplotlib/artist.py?line=51'>52</a>\u001b[0m     \u001b[39mif\u001b[39;00m artist\u001b[39m.\u001b[39mget_agg_filter() \u001b[39mis\u001b[39;00m \u001b[39mnot\u001b[39;00m \u001b[39mNone\u001b[39;00m:\n",
      "File \u001b[0;32m/usr/local/anaconda3/envs/factual-beam-search/lib/python3.8/site-packages/matplotlib/figure.py:2837\u001b[0m, in \u001b[0;36mFigure.draw\u001b[0;34m(self, renderer)\u001b[0m\n\u001b[1;32m   <a href='file:///usr/local/anaconda3/envs/factual-beam-search/lib/python3.8/site-packages/matplotlib/figure.py?line=2833'>2834</a>\u001b[0m         \u001b[39m# ValueError can occur when resizing a window.\u001b[39;00m\n\u001b[1;32m   <a href='file:///usr/local/anaconda3/envs/factual-beam-search/lib/python3.8/site-packages/matplotlib/figure.py?line=2835'>2836</a>\u001b[0m \u001b[39mself\u001b[39m\u001b[39m.\u001b[39mpatch\u001b[39m.\u001b[39mdraw(renderer)\n\u001b[0;32m-> <a href='file:///usr/local/anaconda3/envs/factual-beam-search/lib/python3.8/site-packages/matplotlib/figure.py?line=2836'>2837</a>\u001b[0m mimage\u001b[39m.\u001b[39;49m_draw_list_compositing_images(\n\u001b[1;32m   <a href='file:///usr/local/anaconda3/envs/factual-beam-search/lib/python3.8/site-packages/matplotlib/figure.py?line=2837'>2838</a>\u001b[0m     renderer, \u001b[39mself\u001b[39;49m, artists, \u001b[39mself\u001b[39;49m\u001b[39m.\u001b[39;49msuppressComposite)\n\u001b[1;32m   <a href='file:///usr/local/anaconda3/envs/factual-beam-search/lib/python3.8/site-packages/matplotlib/figure.py?line=2839'>2840</a>\u001b[0m \u001b[39mfor\u001b[39;00m sfig \u001b[39min\u001b[39;00m \u001b[39mself\u001b[39m\u001b[39m.\u001b[39msubfigs:\n\u001b[1;32m   <a href='file:///usr/local/anaconda3/envs/factual-beam-search/lib/python3.8/site-packages/matplotlib/figure.py?line=2840'>2841</a>\u001b[0m     sfig\u001b[39m.\u001b[39mdraw(renderer)\n",
      "File \u001b[0;32m/usr/local/anaconda3/envs/factual-beam-search/lib/python3.8/site-packages/matplotlib/image.py:132\u001b[0m, in \u001b[0;36m_draw_list_compositing_images\u001b[0;34m(renderer, parent, artists, suppress_composite)\u001b[0m\n\u001b[1;32m    <a href='file:///usr/local/anaconda3/envs/factual-beam-search/lib/python3.8/site-packages/matplotlib/image.py?line=129'>130</a>\u001b[0m \u001b[39mif\u001b[39;00m not_composite \u001b[39mor\u001b[39;00m \u001b[39mnot\u001b[39;00m has_images:\n\u001b[1;32m    <a href='file:///usr/local/anaconda3/envs/factual-beam-search/lib/python3.8/site-packages/matplotlib/image.py?line=130'>131</a>\u001b[0m     \u001b[39mfor\u001b[39;00m a \u001b[39min\u001b[39;00m artists:\n\u001b[0;32m--> <a href='file:///usr/local/anaconda3/envs/factual-beam-search/lib/python3.8/site-packages/matplotlib/image.py?line=131'>132</a>\u001b[0m         a\u001b[39m.\u001b[39;49mdraw(renderer)\n\u001b[1;32m    <a href='file:///usr/local/anaconda3/envs/factual-beam-search/lib/python3.8/site-packages/matplotlib/image.py?line=132'>133</a>\u001b[0m \u001b[39melse\u001b[39;00m:\n\u001b[1;32m    <a href='file:///usr/local/anaconda3/envs/factual-beam-search/lib/python3.8/site-packages/matplotlib/image.py?line=133'>134</a>\u001b[0m     \u001b[39m# Composite any adjacent images together\u001b[39;00m\n\u001b[1;32m    <a href='file:///usr/local/anaconda3/envs/factual-beam-search/lib/python3.8/site-packages/matplotlib/image.py?line=134'>135</a>\u001b[0m     image_group \u001b[39m=\u001b[39m []\n",
      "File \u001b[0;32m/usr/local/anaconda3/envs/factual-beam-search/lib/python3.8/site-packages/matplotlib/artist.py:50\u001b[0m, in \u001b[0;36mallow_rasterization.<locals>.draw_wrapper\u001b[0;34m(artist, renderer)\u001b[0m\n\u001b[1;32m     <a href='file:///usr/local/anaconda3/envs/factual-beam-search/lib/python3.8/site-packages/matplotlib/artist.py?line=46'>47</a>\u001b[0m     \u001b[39mif\u001b[39;00m artist\u001b[39m.\u001b[39mget_agg_filter() \u001b[39mis\u001b[39;00m \u001b[39mnot\u001b[39;00m \u001b[39mNone\u001b[39;00m:\n\u001b[1;32m     <a href='file:///usr/local/anaconda3/envs/factual-beam-search/lib/python3.8/site-packages/matplotlib/artist.py?line=47'>48</a>\u001b[0m         renderer\u001b[39m.\u001b[39mstart_filter()\n\u001b[0;32m---> <a href='file:///usr/local/anaconda3/envs/factual-beam-search/lib/python3.8/site-packages/matplotlib/artist.py?line=49'>50</a>\u001b[0m     \u001b[39mreturn\u001b[39;00m draw(artist, renderer)\n\u001b[1;32m     <a href='file:///usr/local/anaconda3/envs/factual-beam-search/lib/python3.8/site-packages/matplotlib/artist.py?line=50'>51</a>\u001b[0m \u001b[39mfinally\u001b[39;00m:\n\u001b[1;32m     <a href='file:///usr/local/anaconda3/envs/factual-beam-search/lib/python3.8/site-packages/matplotlib/artist.py?line=51'>52</a>\u001b[0m     \u001b[39mif\u001b[39;00m artist\u001b[39m.\u001b[39mget_agg_filter() \u001b[39mis\u001b[39;00m \u001b[39mnot\u001b[39;00m \u001b[39mNone\u001b[39;00m:\n",
      "File \u001b[0;32m/usr/local/anaconda3/envs/factual-beam-search/lib/python3.8/site-packages/matplotlib/axes/_base.py:3091\u001b[0m, in \u001b[0;36m_AxesBase.draw\u001b[0;34m(self, renderer)\u001b[0m\n\u001b[1;32m   <a href='file:///usr/local/anaconda3/envs/factual-beam-search/lib/python3.8/site-packages/matplotlib/axes/_base.py?line=3087'>3088</a>\u001b[0m         a\u001b[39m.\u001b[39mdraw(renderer)\n\u001b[1;32m   <a href='file:///usr/local/anaconda3/envs/factual-beam-search/lib/python3.8/site-packages/matplotlib/axes/_base.py?line=3088'>3089</a>\u001b[0m     renderer\u001b[39m.\u001b[39mstop_rasterizing()\n\u001b[0;32m-> <a href='file:///usr/local/anaconda3/envs/factual-beam-search/lib/python3.8/site-packages/matplotlib/axes/_base.py?line=3090'>3091</a>\u001b[0m mimage\u001b[39m.\u001b[39;49m_draw_list_compositing_images(\n\u001b[1;32m   <a href='file:///usr/local/anaconda3/envs/factual-beam-search/lib/python3.8/site-packages/matplotlib/axes/_base.py?line=3091'>3092</a>\u001b[0m     renderer, \u001b[39mself\u001b[39;49m, artists, \u001b[39mself\u001b[39;49m\u001b[39m.\u001b[39;49mfigure\u001b[39m.\u001b[39;49msuppressComposite)\n\u001b[1;32m   <a href='file:///usr/local/anaconda3/envs/factual-beam-search/lib/python3.8/site-packages/matplotlib/axes/_base.py?line=3093'>3094</a>\u001b[0m renderer\u001b[39m.\u001b[39mclose_group(\u001b[39m'\u001b[39m\u001b[39maxes\u001b[39m\u001b[39m'\u001b[39m)\n\u001b[1;32m   <a href='file:///usr/local/anaconda3/envs/factual-beam-search/lib/python3.8/site-packages/matplotlib/axes/_base.py?line=3094'>3095</a>\u001b[0m \u001b[39mself\u001b[39m\u001b[39m.\u001b[39mstale \u001b[39m=\u001b[39m \u001b[39mFalse\u001b[39;00m\n",
      "File \u001b[0;32m/usr/local/anaconda3/envs/factual-beam-search/lib/python3.8/site-packages/matplotlib/image.py:132\u001b[0m, in \u001b[0;36m_draw_list_compositing_images\u001b[0;34m(renderer, parent, artists, suppress_composite)\u001b[0m\n\u001b[1;32m    <a href='file:///usr/local/anaconda3/envs/factual-beam-search/lib/python3.8/site-packages/matplotlib/image.py?line=129'>130</a>\u001b[0m \u001b[39mif\u001b[39;00m not_composite \u001b[39mor\u001b[39;00m \u001b[39mnot\u001b[39;00m has_images:\n\u001b[1;32m    <a href='file:///usr/local/anaconda3/envs/factual-beam-search/lib/python3.8/site-packages/matplotlib/image.py?line=130'>131</a>\u001b[0m     \u001b[39mfor\u001b[39;00m a \u001b[39min\u001b[39;00m artists:\n\u001b[0;32m--> <a href='file:///usr/local/anaconda3/envs/factual-beam-search/lib/python3.8/site-packages/matplotlib/image.py?line=131'>132</a>\u001b[0m         a\u001b[39m.\u001b[39;49mdraw(renderer)\n\u001b[1;32m    <a href='file:///usr/local/anaconda3/envs/factual-beam-search/lib/python3.8/site-packages/matplotlib/image.py?line=132'>133</a>\u001b[0m \u001b[39melse\u001b[39;00m:\n\u001b[1;32m    <a href='file:///usr/local/anaconda3/envs/factual-beam-search/lib/python3.8/site-packages/matplotlib/image.py?line=133'>134</a>\u001b[0m     \u001b[39m# Composite any adjacent images together\u001b[39;00m\n\u001b[1;32m    <a href='file:///usr/local/anaconda3/envs/factual-beam-search/lib/python3.8/site-packages/matplotlib/image.py?line=134'>135</a>\u001b[0m     image_group \u001b[39m=\u001b[39m []\n",
      "File \u001b[0;32m/usr/local/anaconda3/envs/factual-beam-search/lib/python3.8/site-packages/matplotlib/artist.py:50\u001b[0m, in \u001b[0;36mallow_rasterization.<locals>.draw_wrapper\u001b[0;34m(artist, renderer)\u001b[0m\n\u001b[1;32m     <a href='file:///usr/local/anaconda3/envs/factual-beam-search/lib/python3.8/site-packages/matplotlib/artist.py?line=46'>47</a>\u001b[0m     \u001b[39mif\u001b[39;00m artist\u001b[39m.\u001b[39mget_agg_filter() \u001b[39mis\u001b[39;00m \u001b[39mnot\u001b[39;00m \u001b[39mNone\u001b[39;00m:\n\u001b[1;32m     <a href='file:///usr/local/anaconda3/envs/factual-beam-search/lib/python3.8/site-packages/matplotlib/artist.py?line=47'>48</a>\u001b[0m         renderer\u001b[39m.\u001b[39mstart_filter()\n\u001b[0;32m---> <a href='file:///usr/local/anaconda3/envs/factual-beam-search/lib/python3.8/site-packages/matplotlib/artist.py?line=49'>50</a>\u001b[0m     \u001b[39mreturn\u001b[39;00m draw(artist, renderer)\n\u001b[1;32m     <a href='file:///usr/local/anaconda3/envs/factual-beam-search/lib/python3.8/site-packages/matplotlib/artist.py?line=50'>51</a>\u001b[0m \u001b[39mfinally\u001b[39;00m:\n\u001b[1;32m     <a href='file:///usr/local/anaconda3/envs/factual-beam-search/lib/python3.8/site-packages/matplotlib/artist.py?line=51'>52</a>\u001b[0m     \u001b[39mif\u001b[39;00m artist\u001b[39m.\u001b[39mget_agg_filter() \u001b[39mis\u001b[39;00m \u001b[39mnot\u001b[39;00m \u001b[39mNone\u001b[39;00m:\n",
      "File \u001b[0;32m/usr/local/anaconda3/envs/factual-beam-search/lib/python3.8/site-packages/matplotlib/axis.py:1159\u001b[0m, in \u001b[0;36mAxis.draw\u001b[0;34m(self, renderer, *args, **kwargs)\u001b[0m\n\u001b[1;32m   <a href='file:///usr/local/anaconda3/envs/factual-beam-search/lib/python3.8/site-packages/matplotlib/axis.py?line=1155'>1156</a>\u001b[0m renderer\u001b[39m.\u001b[39mopen_group(\u001b[39m__name__\u001b[39m, gid\u001b[39m=\u001b[39m\u001b[39mself\u001b[39m\u001b[39m.\u001b[39mget_gid())\n\u001b[1;32m   <a href='file:///usr/local/anaconda3/envs/factual-beam-search/lib/python3.8/site-packages/matplotlib/axis.py?line=1157'>1158</a>\u001b[0m ticks_to_draw \u001b[39m=\u001b[39m \u001b[39mself\u001b[39m\u001b[39m.\u001b[39m_update_ticks()\n\u001b[0;32m-> <a href='file:///usr/local/anaconda3/envs/factual-beam-search/lib/python3.8/site-packages/matplotlib/axis.py?line=1158'>1159</a>\u001b[0m ticklabelBoxes, ticklabelBoxes2 \u001b[39m=\u001b[39m \u001b[39mself\u001b[39;49m\u001b[39m.\u001b[39;49m_get_tick_bboxes(ticks_to_draw,\n\u001b[1;32m   <a href='file:///usr/local/anaconda3/envs/factual-beam-search/lib/python3.8/site-packages/matplotlib/axis.py?line=1159'>1160</a>\u001b[0m                                                         renderer)\n\u001b[1;32m   <a href='file:///usr/local/anaconda3/envs/factual-beam-search/lib/python3.8/site-packages/matplotlib/axis.py?line=1161'>1162</a>\u001b[0m \u001b[39mfor\u001b[39;00m tick \u001b[39min\u001b[39;00m ticks_to_draw:\n\u001b[1;32m   <a href='file:///usr/local/anaconda3/envs/factual-beam-search/lib/python3.8/site-packages/matplotlib/axis.py?line=1162'>1163</a>\u001b[0m     tick\u001b[39m.\u001b[39mdraw(renderer)\n",
      "File \u001b[0;32m/usr/local/anaconda3/envs/factual-beam-search/lib/python3.8/site-packages/matplotlib/axis.py:1085\u001b[0m, in \u001b[0;36mAxis._get_tick_bboxes\u001b[0;34m(self, ticks, renderer)\u001b[0m\n\u001b[1;32m   <a href='file:///usr/local/anaconda3/envs/factual-beam-search/lib/python3.8/site-packages/matplotlib/axis.py?line=1082'>1083</a>\u001b[0m \u001b[39mdef\u001b[39;00m \u001b[39m_get_tick_bboxes\u001b[39m(\u001b[39mself\u001b[39m, ticks, renderer):\n\u001b[1;32m   <a href='file:///usr/local/anaconda3/envs/factual-beam-search/lib/python3.8/site-packages/matplotlib/axis.py?line=1083'>1084</a>\u001b[0m     \u001b[39m\"\"\"Return lists of bboxes for ticks' label1's and label2's.\"\"\"\u001b[39;00m\n\u001b[0;32m-> <a href='file:///usr/local/anaconda3/envs/factual-beam-search/lib/python3.8/site-packages/matplotlib/axis.py?line=1084'>1085</a>\u001b[0m     \u001b[39mreturn\u001b[39;00m ([tick\u001b[39m.\u001b[39mlabel1\u001b[39m.\u001b[39mget_window_extent(renderer)\n\u001b[1;32m   <a href='file:///usr/local/anaconda3/envs/factual-beam-search/lib/python3.8/site-packages/matplotlib/axis.py?line=1085'>1086</a>\u001b[0m              \u001b[39mfor\u001b[39;00m tick \u001b[39min\u001b[39;00m ticks \u001b[39mif\u001b[39;00m tick\u001b[39m.\u001b[39mlabel1\u001b[39m.\u001b[39mget_visible()],\n\u001b[1;32m   <a href='file:///usr/local/anaconda3/envs/factual-beam-search/lib/python3.8/site-packages/matplotlib/axis.py?line=1086'>1087</a>\u001b[0m             [tick\u001b[39m.\u001b[39mlabel2\u001b[39m.\u001b[39mget_window_extent(renderer)\n\u001b[1;32m   <a href='file:///usr/local/anaconda3/envs/factual-beam-search/lib/python3.8/site-packages/matplotlib/axis.py?line=1087'>1088</a>\u001b[0m              \u001b[39mfor\u001b[39;00m tick \u001b[39min\u001b[39;00m ticks \u001b[39mif\u001b[39;00m tick\u001b[39m.\u001b[39mlabel2\u001b[39m.\u001b[39mget_visible()])\n",
      "File \u001b[0;32m/usr/local/anaconda3/envs/factual-beam-search/lib/python3.8/site-packages/matplotlib/axis.py:1085\u001b[0m, in \u001b[0;36m<listcomp>\u001b[0;34m(.0)\u001b[0m\n\u001b[1;32m   <a href='file:///usr/local/anaconda3/envs/factual-beam-search/lib/python3.8/site-packages/matplotlib/axis.py?line=1082'>1083</a>\u001b[0m \u001b[39mdef\u001b[39;00m \u001b[39m_get_tick_bboxes\u001b[39m(\u001b[39mself\u001b[39m, ticks, renderer):\n\u001b[1;32m   <a href='file:///usr/local/anaconda3/envs/factual-beam-search/lib/python3.8/site-packages/matplotlib/axis.py?line=1083'>1084</a>\u001b[0m     \u001b[39m\"\"\"Return lists of bboxes for ticks' label1's and label2's.\"\"\"\u001b[39;00m\n\u001b[0;32m-> <a href='file:///usr/local/anaconda3/envs/factual-beam-search/lib/python3.8/site-packages/matplotlib/axis.py?line=1084'>1085</a>\u001b[0m     \u001b[39mreturn\u001b[39;00m ([tick\u001b[39m.\u001b[39;49mlabel1\u001b[39m.\u001b[39;49mget_window_extent(renderer)\n\u001b[1;32m   <a href='file:///usr/local/anaconda3/envs/factual-beam-search/lib/python3.8/site-packages/matplotlib/axis.py?line=1085'>1086</a>\u001b[0m              \u001b[39mfor\u001b[39;00m tick \u001b[39min\u001b[39;00m ticks \u001b[39mif\u001b[39;00m tick\u001b[39m.\u001b[39mlabel1\u001b[39m.\u001b[39mget_visible()],\n\u001b[1;32m   <a href='file:///usr/local/anaconda3/envs/factual-beam-search/lib/python3.8/site-packages/matplotlib/axis.py?line=1086'>1087</a>\u001b[0m             [tick\u001b[39m.\u001b[39mlabel2\u001b[39m.\u001b[39mget_window_extent(renderer)\n\u001b[1;32m   <a href='file:///usr/local/anaconda3/envs/factual-beam-search/lib/python3.8/site-packages/matplotlib/axis.py?line=1087'>1088</a>\u001b[0m              \u001b[39mfor\u001b[39;00m tick \u001b[39min\u001b[39;00m ticks \u001b[39mif\u001b[39;00m tick\u001b[39m.\u001b[39mlabel2\u001b[39m.\u001b[39mget_visible()])\n",
      "File \u001b[0;32m/usr/local/anaconda3/envs/factual-beam-search/lib/python3.8/site-packages/matplotlib/text.py:910\u001b[0m, in \u001b[0;36mText.get_window_extent\u001b[0;34m(self, renderer, dpi)\u001b[0m\n\u001b[1;32m    <a href='file:///usr/local/anaconda3/envs/factual-beam-search/lib/python3.8/site-packages/matplotlib/text.py?line=906'>907</a>\u001b[0m     \u001b[39mraise\u001b[39;00m \u001b[39mRuntimeError\u001b[39;00m(\u001b[39m'\u001b[39m\u001b[39mCannot get window extent w/o renderer\u001b[39m\u001b[39m'\u001b[39m)\n\u001b[1;32m    <a href='file:///usr/local/anaconda3/envs/factual-beam-search/lib/python3.8/site-packages/matplotlib/text.py?line=908'>909</a>\u001b[0m \u001b[39mwith\u001b[39;00m cbook\u001b[39m.\u001b[39m_setattr_cm(\u001b[39mself\u001b[39m\u001b[39m.\u001b[39mfigure, dpi\u001b[39m=\u001b[39mdpi):\n\u001b[0;32m--> <a href='file:///usr/local/anaconda3/envs/factual-beam-search/lib/python3.8/site-packages/matplotlib/text.py?line=909'>910</a>\u001b[0m     bbox, info, descent \u001b[39m=\u001b[39m \u001b[39mself\u001b[39;49m\u001b[39m.\u001b[39;49m_get_layout(\u001b[39mself\u001b[39;49m\u001b[39m.\u001b[39;49m_renderer)\n\u001b[1;32m    <a href='file:///usr/local/anaconda3/envs/factual-beam-search/lib/python3.8/site-packages/matplotlib/text.py?line=910'>911</a>\u001b[0m     x, y \u001b[39m=\u001b[39m \u001b[39mself\u001b[39m\u001b[39m.\u001b[39mget_unitless_position()\n\u001b[1;32m    <a href='file:///usr/local/anaconda3/envs/factual-beam-search/lib/python3.8/site-packages/matplotlib/text.py?line=911'>912</a>\u001b[0m     x, y \u001b[39m=\u001b[39m \u001b[39mself\u001b[39m\u001b[39m.\u001b[39mget_transform()\u001b[39m.\u001b[39mtransform((x, y))\n",
      "File \u001b[0;32m/usr/local/anaconda3/envs/factual-beam-search/lib/python3.8/site-packages/matplotlib/text.py:309\u001b[0m, in \u001b[0;36mText._get_layout\u001b[0;34m(self, renderer)\u001b[0m\n\u001b[1;32m    <a href='file:///usr/local/anaconda3/envs/factual-beam-search/lib/python3.8/site-packages/matplotlib/text.py?line=305'>306</a>\u001b[0m ys \u001b[39m=\u001b[39m []\n\u001b[1;32m    <a href='file:///usr/local/anaconda3/envs/factual-beam-search/lib/python3.8/site-packages/matplotlib/text.py?line=307'>308</a>\u001b[0m \u001b[39m# Full vertical extent of font, including ascenders and descenders:\u001b[39;00m\n\u001b[0;32m--> <a href='file:///usr/local/anaconda3/envs/factual-beam-search/lib/python3.8/site-packages/matplotlib/text.py?line=308'>309</a>\u001b[0m _, lp_h, lp_d \u001b[39m=\u001b[39m renderer\u001b[39m.\u001b[39;49mget_text_width_height_descent(\n\u001b[1;32m    <a href='file:///usr/local/anaconda3/envs/factual-beam-search/lib/python3.8/site-packages/matplotlib/text.py?line=309'>310</a>\u001b[0m     \u001b[39m\"\u001b[39;49m\u001b[39mlp\u001b[39;49m\u001b[39m\"\u001b[39;49m, \u001b[39mself\u001b[39;49m\u001b[39m.\u001b[39;49m_fontproperties,\n\u001b[1;32m    <a href='file:///usr/local/anaconda3/envs/factual-beam-search/lib/python3.8/site-packages/matplotlib/text.py?line=310'>311</a>\u001b[0m     ismath\u001b[39m=\u001b[39;49m\u001b[39m\"\u001b[39;49m\u001b[39mTeX\u001b[39;49m\u001b[39m\"\u001b[39;49m \u001b[39mif\u001b[39;49;00m \u001b[39mself\u001b[39;49m\u001b[39m.\u001b[39;49mget_usetex() \u001b[39melse\u001b[39;49;00m \u001b[39mFalse\u001b[39;49;00m)\n\u001b[1;32m    <a href='file:///usr/local/anaconda3/envs/factual-beam-search/lib/python3.8/site-packages/matplotlib/text.py?line=311'>312</a>\u001b[0m min_dy \u001b[39m=\u001b[39m (lp_h \u001b[39m-\u001b[39m lp_d) \u001b[39m*\u001b[39m \u001b[39mself\u001b[39m\u001b[39m.\u001b[39m_linespacing\n\u001b[1;32m    <a href='file:///usr/local/anaconda3/envs/factual-beam-search/lib/python3.8/site-packages/matplotlib/text.py?line=313'>314</a>\u001b[0m \u001b[39mfor\u001b[39;00m i, line \u001b[39min\u001b[39;00m \u001b[39menumerate\u001b[39m(lines):\n",
      "File \u001b[0;32m/usr/local/anaconda3/envs/factual-beam-search/lib/python3.8/site-packages/matplotlib/backends/backend_agg.py:259\u001b[0m, in \u001b[0;36mRendererAgg.get_text_width_height_descent\u001b[0;34m(self, s, prop, ismath)\u001b[0m\n\u001b[1;32m    <a href='file:///usr/local/anaconda3/envs/factual-beam-search/lib/python3.8/site-packages/matplotlib/backends/backend_agg.py?line=256'>257</a>\u001b[0m     texmanager \u001b[39m=\u001b[39m \u001b[39mself\u001b[39m\u001b[39m.\u001b[39mget_texmanager()\n\u001b[1;32m    <a href='file:///usr/local/anaconda3/envs/factual-beam-search/lib/python3.8/site-packages/matplotlib/backends/backend_agg.py?line=257'>258</a>\u001b[0m     fontsize \u001b[39m=\u001b[39m prop\u001b[39m.\u001b[39mget_size_in_points()\n\u001b[0;32m--> <a href='file:///usr/local/anaconda3/envs/factual-beam-search/lib/python3.8/site-packages/matplotlib/backends/backend_agg.py?line=258'>259</a>\u001b[0m     w, h, d \u001b[39m=\u001b[39m texmanager\u001b[39m.\u001b[39;49mget_text_width_height_descent(\n\u001b[1;32m    <a href='file:///usr/local/anaconda3/envs/factual-beam-search/lib/python3.8/site-packages/matplotlib/backends/backend_agg.py?line=259'>260</a>\u001b[0m         s, fontsize, renderer\u001b[39m=\u001b[39;49m\u001b[39mself\u001b[39;49m)\n\u001b[1;32m    <a href='file:///usr/local/anaconda3/envs/factual-beam-search/lib/python3.8/site-packages/matplotlib/backends/backend_agg.py?line=260'>261</a>\u001b[0m     \u001b[39mreturn\u001b[39;00m w, h, d\n\u001b[1;32m    <a href='file:///usr/local/anaconda3/envs/factual-beam-search/lib/python3.8/site-packages/matplotlib/backends/backend_agg.py?line=262'>263</a>\u001b[0m \u001b[39mif\u001b[39;00m ismath:\n",
      "File \u001b[0;32m/usr/local/anaconda3/envs/factual-beam-search/lib/python3.8/site-packages/matplotlib/texmanager.py:338\u001b[0m, in \u001b[0;36mTexManager.get_text_width_height_descent\u001b[0;34m(self, tex, fontsize, renderer)\u001b[0m\n\u001b[1;32m    <a href='file:///usr/local/anaconda3/envs/factual-beam-search/lib/python3.8/site-packages/matplotlib/texmanager.py?line=335'>336</a>\u001b[0m dpi_fraction \u001b[39m=\u001b[39m renderer\u001b[39m.\u001b[39mpoints_to_pixels(\u001b[39m1.\u001b[39m) \u001b[39mif\u001b[39;00m renderer \u001b[39melse\u001b[39;00m \u001b[39m1\u001b[39m\n\u001b[1;32m    <a href='file:///usr/local/anaconda3/envs/factual-beam-search/lib/python3.8/site-packages/matplotlib/texmanager.py?line=336'>337</a>\u001b[0m \u001b[39mwith\u001b[39;00m dviread\u001b[39m.\u001b[39mDvi(dvifile, \u001b[39m72\u001b[39m \u001b[39m*\u001b[39m dpi_fraction) \u001b[39mas\u001b[39;00m dvi:\n\u001b[0;32m--> <a href='file:///usr/local/anaconda3/envs/factual-beam-search/lib/python3.8/site-packages/matplotlib/texmanager.py?line=337'>338</a>\u001b[0m     page, \u001b[39m=\u001b[39m dvi\n\u001b[1;32m    <a href='file:///usr/local/anaconda3/envs/factual-beam-search/lib/python3.8/site-packages/matplotlib/texmanager.py?line=338'>339</a>\u001b[0m \u001b[39m# A total height (including the descent) needs to be returned.\u001b[39;00m\n\u001b[1;32m    <a href='file:///usr/local/anaconda3/envs/factual-beam-search/lib/python3.8/site-packages/matplotlib/texmanager.py?line=339'>340</a>\u001b[0m \u001b[39mreturn\u001b[39;00m page\u001b[39m.\u001b[39mwidth, page\u001b[39m.\u001b[39mheight \u001b[39m+\u001b[39m page\u001b[39m.\u001b[39mdescent, page\u001b[39m.\u001b[39mdescent\n",
      "File \u001b[0;32m/usr/local/anaconda3/envs/factual-beam-search/lib/python3.8/site-packages/matplotlib/dviread.py:237\u001b[0m, in \u001b[0;36mDvi.__iter__\u001b[0;34m(self)\u001b[0m\n\u001b[1;32m    <a href='file:///usr/local/anaconda3/envs/factual-beam-search/lib/python3.8/site-packages/matplotlib/dviread.py?line=220'>221</a>\u001b[0m \u001b[39mdef\u001b[39;00m \u001b[39m__iter__\u001b[39m(\u001b[39mself\u001b[39m):\n\u001b[1;32m    <a href='file:///usr/local/anaconda3/envs/factual-beam-search/lib/python3.8/site-packages/matplotlib/dviread.py?line=221'>222</a>\u001b[0m     \u001b[39m\"\"\"\u001b[39;00m\n\u001b[1;32m    <a href='file:///usr/local/anaconda3/envs/factual-beam-search/lib/python3.8/site-packages/matplotlib/dviread.py?line=222'>223</a>\u001b[0m \u001b[39m    Iterate through the pages of the file.\u001b[39;00m\n\u001b[1;32m    <a href='file:///usr/local/anaconda3/envs/factual-beam-search/lib/python3.8/site-packages/matplotlib/dviread.py?line=223'>224</a>\u001b[0m \n\u001b[0;32m   (...)\u001b[0m\n\u001b[1;32m    <a href='file:///usr/local/anaconda3/envs/factual-beam-search/lib/python3.8/site-packages/matplotlib/dviread.py?line=234'>235</a>\u001b[0m \u001b[39m        integers.\u001b[39;00m\n\u001b[1;32m    <a href='file:///usr/local/anaconda3/envs/factual-beam-search/lib/python3.8/site-packages/matplotlib/dviread.py?line=235'>236</a>\u001b[0m \u001b[39m    \"\"\"\u001b[39;00m\n\u001b[0;32m--> <a href='file:///usr/local/anaconda3/envs/factual-beam-search/lib/python3.8/site-packages/matplotlib/dviread.py?line=236'>237</a>\u001b[0m     \u001b[39mwhile\u001b[39;00m \u001b[39mself\u001b[39;49m\u001b[39m.\u001b[39;49m_read():\n\u001b[1;32m    <a href='file:///usr/local/anaconda3/envs/factual-beam-search/lib/python3.8/site-packages/matplotlib/dviread.py?line=237'>238</a>\u001b[0m         \u001b[39myield\u001b[39;00m \u001b[39mself\u001b[39m\u001b[39m.\u001b[39m_output()\n",
      "File \u001b[0;32m/usr/local/anaconda3/envs/factual-beam-search/lib/python3.8/site-packages/matplotlib/dviread.py:316\u001b[0m, in \u001b[0;36mDvi._read\u001b[0;34m(self)\u001b[0m\n\u001b[1;32m    <a href='file:///usr/local/anaconda3/envs/factual-beam-search/lib/python3.8/site-packages/matplotlib/dviread.py?line=313'>314</a>\u001b[0m \u001b[39mwhile\u001b[39;00m \u001b[39mTrue\u001b[39;00m:\n\u001b[1;32m    <a href='file:///usr/local/anaconda3/envs/factual-beam-search/lib/python3.8/site-packages/matplotlib/dviread.py?line=314'>315</a>\u001b[0m     byte \u001b[39m=\u001b[39m \u001b[39mself\u001b[39m\u001b[39m.\u001b[39mfile\u001b[39m.\u001b[39mread(\u001b[39m1\u001b[39m)[\u001b[39m0\u001b[39m]\n\u001b[0;32m--> <a href='file:///usr/local/anaconda3/envs/factual-beam-search/lib/python3.8/site-packages/matplotlib/dviread.py?line=315'>316</a>\u001b[0m     \u001b[39mself\u001b[39;49m\u001b[39m.\u001b[39;49m_dtable[byte](\u001b[39mself\u001b[39;49m, byte)\n\u001b[1;32m    <a href='file:///usr/local/anaconda3/envs/factual-beam-search/lib/python3.8/site-packages/matplotlib/dviread.py?line=316'>317</a>\u001b[0m     name \u001b[39m=\u001b[39m \u001b[39mself\u001b[39m\u001b[39m.\u001b[39m_dtable[byte]\u001b[39m.\u001b[39m\u001b[39m__name__\u001b[39m\n\u001b[1;32m    <a href='file:///usr/local/anaconda3/envs/factual-beam-search/lib/python3.8/site-packages/matplotlib/dviread.py?line=317'>318</a>\u001b[0m     \u001b[39mif\u001b[39;00m name \u001b[39m==\u001b[39m \u001b[39m\"\u001b[39m\u001b[39m_push\u001b[39m\u001b[39m\"\u001b[39m:\n",
      "File \u001b[0;32m/usr/local/anaconda3/envs/factual-beam-search/lib/python3.8/site-packages/matplotlib/dviread.py:166\u001b[0m, in \u001b[0;36m_dispatch.<locals>.decorate.<locals>.wrapper\u001b[0;34m(self, byte)\u001b[0m\n\u001b[1;32m    <a href='file:///usr/local/anaconda3/envs/factual-beam-search/lib/python3.8/site-packages/matplotlib/dviread.py?line=163'>164</a>\u001b[0m \u001b[39mif\u001b[39;00m state \u001b[39mis\u001b[39;00m \u001b[39mnot\u001b[39;00m \u001b[39mNone\u001b[39;00m \u001b[39mand\u001b[39;00m \u001b[39mself\u001b[39m\u001b[39m.\u001b[39mstate \u001b[39m!=\u001b[39m state:\n\u001b[1;32m    <a href='file:///usr/local/anaconda3/envs/factual-beam-search/lib/python3.8/site-packages/matplotlib/dviread.py?line=164'>165</a>\u001b[0m     \u001b[39mraise\u001b[39;00m \u001b[39mValueError\u001b[39;00m(\u001b[39m\"\u001b[39m\u001b[39mstate precondition failed\u001b[39m\u001b[39m\"\u001b[39m)\n\u001b[0;32m--> <a href='file:///usr/local/anaconda3/envs/factual-beam-search/lib/python3.8/site-packages/matplotlib/dviread.py?line=165'>166</a>\u001b[0m \u001b[39mreturn\u001b[39;00m method(\u001b[39mself\u001b[39;49m, \u001b[39m*\u001b[39;49m[f(\u001b[39mself\u001b[39;49m, byte\u001b[39m-\u001b[39;49m\u001b[39mmin\u001b[39;49m) \u001b[39mfor\u001b[39;49;00m f \u001b[39min\u001b[39;49;00m get_args])\n",
      "File \u001b[0;32m/usr/local/anaconda3/envs/factual-beam-search/lib/python3.8/site-packages/matplotlib/dviread.py:467\u001b[0m, in \u001b[0;36mDvi._fnt_def\u001b[0;34m(self, k, c, s, d, a, l)\u001b[0m\n\u001b[1;32m    <a href='file:///usr/local/anaconda3/envs/factual-beam-search/lib/python3.8/site-packages/matplotlib/dviread.py?line=464'>465</a>\u001b[0m \u001b[39m@_dispatch\u001b[39m(\u001b[39mmin\u001b[39m\u001b[39m=\u001b[39m\u001b[39m243\u001b[39m, \u001b[39mmax\u001b[39m\u001b[39m=\u001b[39m\u001b[39m246\u001b[39m, args\u001b[39m=\u001b[39m(\u001b[39m'\u001b[39m\u001b[39molen1\u001b[39m\u001b[39m'\u001b[39m, \u001b[39m'\u001b[39m\u001b[39mu4\u001b[39m\u001b[39m'\u001b[39m, \u001b[39m'\u001b[39m\u001b[39mu4\u001b[39m\u001b[39m'\u001b[39m, \u001b[39m'\u001b[39m\u001b[39mu4\u001b[39m\u001b[39m'\u001b[39m, \u001b[39m'\u001b[39m\u001b[39mu1\u001b[39m\u001b[39m'\u001b[39m, \u001b[39m'\u001b[39m\u001b[39mu1\u001b[39m\u001b[39m'\u001b[39m))\n\u001b[1;32m    <a href='file:///usr/local/anaconda3/envs/factual-beam-search/lib/python3.8/site-packages/matplotlib/dviread.py?line=465'>466</a>\u001b[0m \u001b[39mdef\u001b[39;00m \u001b[39m_fnt_def\u001b[39m(\u001b[39mself\u001b[39m, k, c, s, d, a, l):\n\u001b[0;32m--> <a href='file:///usr/local/anaconda3/envs/factual-beam-search/lib/python3.8/site-packages/matplotlib/dviread.py?line=466'>467</a>\u001b[0m     \u001b[39mself\u001b[39;49m\u001b[39m.\u001b[39;49m_fnt_def_real(k, c, s, d, a, l)\n",
      "File \u001b[0;32m/usr/local/anaconda3/envs/factual-beam-search/lib/python3.8/site-packages/matplotlib/dviread.py:474\u001b[0m, in \u001b[0;36mDvi._fnt_def_real\u001b[0;34m(self, k, c, s, d, a, l)\u001b[0m\n\u001b[1;32m    <a href='file:///usr/local/anaconda3/envs/factual-beam-search/lib/python3.8/site-packages/matplotlib/dviread.py?line=471'>472</a>\u001b[0m tfm \u001b[39m=\u001b[39m _tfmfile(fontname)\n\u001b[1;32m    <a href='file:///usr/local/anaconda3/envs/factual-beam-search/lib/python3.8/site-packages/matplotlib/dviread.py?line=472'>473</a>\u001b[0m \u001b[39mif\u001b[39;00m tfm \u001b[39mis\u001b[39;00m \u001b[39mNone\u001b[39;00m:\n\u001b[0;32m--> <a href='file:///usr/local/anaconda3/envs/factual-beam-search/lib/python3.8/site-packages/matplotlib/dviread.py?line=473'>474</a>\u001b[0m     \u001b[39mraise\u001b[39;00m \u001b[39mFileNotFoundError\u001b[39;00m(\u001b[39m\"\u001b[39m\u001b[39mmissing font metrics file: \u001b[39m\u001b[39m%s\u001b[39;00m\u001b[39m\"\u001b[39m \u001b[39m%\u001b[39m fontname)\n\u001b[1;32m    <a href='file:///usr/local/anaconda3/envs/factual-beam-search/lib/python3.8/site-packages/matplotlib/dviread.py?line=474'>475</a>\u001b[0m \u001b[39mif\u001b[39;00m c \u001b[39m!=\u001b[39m \u001b[39m0\u001b[39m \u001b[39mand\u001b[39;00m tfm\u001b[39m.\u001b[39mchecksum \u001b[39m!=\u001b[39m \u001b[39m0\u001b[39m \u001b[39mand\u001b[39;00m c \u001b[39m!=\u001b[39m tfm\u001b[39m.\u001b[39mchecksum:\n\u001b[1;32m    <a href='file:///usr/local/anaconda3/envs/factual-beam-search/lib/python3.8/site-packages/matplotlib/dviread.py?line=475'>476</a>\u001b[0m     \u001b[39mraise\u001b[39;00m \u001b[39mValueError\u001b[39;00m(\u001b[39m'\u001b[39m\u001b[39mtfm checksum mismatch: \u001b[39m\u001b[39m%s\u001b[39;00m\u001b[39m'\u001b[39m \u001b[39m%\u001b[39m n)\n",
      "\u001b[0;31mFileNotFoundError\u001b[0m: missing font metrics file: ptmr7t"
     ]
    },
    {
     "data": {
      "text/plain": [
       "<Figure size 640x480 with 1 Axes>"
      ]
     },
     "metadata": {},
     "output_type": "display_data"
    }
   ],
   "source": [
    "import matplotlib.pyplot as plt\n",
    "import matplotlib.ticker as ticker\n",
    "\n",
    "fig, ax = plt.subplots()\n",
    "\n",
    "# Be sure to only pick integer tick locations.\n",
    "for axis in [ax.xaxis, ax.yaxis]:\n",
    "    axis.set_major_locator(ticker.MaxNLocator(integer=True))\n",
    "\n",
    "ax.plot(\n",
    "    df_clf.index,\n",
    "    df_clf.summary_factual,\n",
    "    label=\"BART + FBS\"\n",
    ")\n",
    "ax.plot(\n",
    "    df_oracle.index,\n",
    "    df_oracle.summary_factual,\n",
    "    label=\"BART + FBS Oracle\"\n",
    ")\n",
    "ax.margins(0.05)\n",
    "ax.axis('tight')\n",
    "fig.tight_layout()\n",
    "plt.ylabel(\"Factual Summaries\")\n",
    "plt.xlabel(\"Max number of Iterations\")\n",
    "plt.legend()\n",
    "# TODO change to histogram to show how many iterations it takes on average\n",
    "# Seaborn paper mode"
   ]
  },
  {
   "cell_type": "code",
   "execution_count": 91,
   "metadata": {},
   "outputs": [],
   "source": [
    "# sns.displot(df_clf.summary_factual, kind=\"ecdf\")"
   ]
  },
  {
   "cell_type": "code",
   "execution_count": 5,
   "metadata": {},
   "outputs": [
    {
     "data": {
      "application/vnd.plotly.v1+json": {
       "config": {
        "plotlyServerURL": "https://plot.ly"
       },
       "data": [
        {
         "link": {
          "source": [
           0,
           1,
           0,
           2,
           3,
           3
          ],
          "target": [
           2,
           3,
           3,
           4,
           4,
           5
          ],
          "value": [
           8,
           4,
           2,
           8,
           4,
           2
          ]
         },
         "node": {
          "color": "green",
          "label": [
           "Factual",
           "Non-Factual",
           "B1",
           "B2",
           "C1",
           "C2"
          ],
          "line": {
           "color": "black",
           "width": 0.5
          },
          "pad": 15,
          "thickness": 20
         },
         "type": "sankey"
        }
       ],
       "layout": {
        "font": {
         "size": 10
        },
        "template": {
         "data": {
          "bar": [
           {
            "error_x": {
             "color": "#2a3f5f"
            },
            "error_y": {
             "color": "#2a3f5f"
            },
            "marker": {
             "line": {
              "color": "#E5ECF6",
              "width": 0.5
             },
             "pattern": {
              "fillmode": "overlay",
              "size": 10,
              "solidity": 0.2
             }
            },
            "type": "bar"
           }
          ],
          "barpolar": [
           {
            "marker": {
             "line": {
              "color": "#E5ECF6",
              "width": 0.5
             },
             "pattern": {
              "fillmode": "overlay",
              "size": 10,
              "solidity": 0.2
             }
            },
            "type": "barpolar"
           }
          ],
          "carpet": [
           {
            "aaxis": {
             "endlinecolor": "#2a3f5f",
             "gridcolor": "white",
             "linecolor": "white",
             "minorgridcolor": "white",
             "startlinecolor": "#2a3f5f"
            },
            "baxis": {
             "endlinecolor": "#2a3f5f",
             "gridcolor": "white",
             "linecolor": "white",
             "minorgridcolor": "white",
             "startlinecolor": "#2a3f5f"
            },
            "type": "carpet"
           }
          ],
          "choropleth": [
           {
            "colorbar": {
             "outlinewidth": 0,
             "ticks": ""
            },
            "type": "choropleth"
           }
          ],
          "contour": [
           {
            "colorbar": {
             "outlinewidth": 0,
             "ticks": ""
            },
            "colorscale": [
             [
              0,
              "#0d0887"
             ],
             [
              0.1111111111111111,
              "#46039f"
             ],
             [
              0.2222222222222222,
              "#7201a8"
             ],
             [
              0.3333333333333333,
              "#9c179e"
             ],
             [
              0.4444444444444444,
              "#bd3786"
             ],
             [
              0.5555555555555556,
              "#d8576b"
             ],
             [
              0.6666666666666666,
              "#ed7953"
             ],
             [
              0.7777777777777778,
              "#fb9f3a"
             ],
             [
              0.8888888888888888,
              "#fdca26"
             ],
             [
              1,
              "#f0f921"
             ]
            ],
            "type": "contour"
           }
          ],
          "contourcarpet": [
           {
            "colorbar": {
             "outlinewidth": 0,
             "ticks": ""
            },
            "type": "contourcarpet"
           }
          ],
          "heatmap": [
           {
            "colorbar": {
             "outlinewidth": 0,
             "ticks": ""
            },
            "colorscale": [
             [
              0,
              "#0d0887"
             ],
             [
              0.1111111111111111,
              "#46039f"
             ],
             [
              0.2222222222222222,
              "#7201a8"
             ],
             [
              0.3333333333333333,
              "#9c179e"
             ],
             [
              0.4444444444444444,
              "#bd3786"
             ],
             [
              0.5555555555555556,
              "#d8576b"
             ],
             [
              0.6666666666666666,
              "#ed7953"
             ],
             [
              0.7777777777777778,
              "#fb9f3a"
             ],
             [
              0.8888888888888888,
              "#fdca26"
             ],
             [
              1,
              "#f0f921"
             ]
            ],
            "type": "heatmap"
           }
          ],
          "heatmapgl": [
           {
            "colorbar": {
             "outlinewidth": 0,
             "ticks": ""
            },
            "colorscale": [
             [
              0,
              "#0d0887"
             ],
             [
              0.1111111111111111,
              "#46039f"
             ],
             [
              0.2222222222222222,
              "#7201a8"
             ],
             [
              0.3333333333333333,
              "#9c179e"
             ],
             [
              0.4444444444444444,
              "#bd3786"
             ],
             [
              0.5555555555555556,
              "#d8576b"
             ],
             [
              0.6666666666666666,
              "#ed7953"
             ],
             [
              0.7777777777777778,
              "#fb9f3a"
             ],
             [
              0.8888888888888888,
              "#fdca26"
             ],
             [
              1,
              "#f0f921"
             ]
            ],
            "type": "heatmapgl"
           }
          ],
          "histogram": [
           {
            "marker": {
             "pattern": {
              "fillmode": "overlay",
              "size": 10,
              "solidity": 0.2
             }
            },
            "type": "histogram"
           }
          ],
          "histogram2d": [
           {
            "colorbar": {
             "outlinewidth": 0,
             "ticks": ""
            },
            "colorscale": [
             [
              0,
              "#0d0887"
             ],
             [
              0.1111111111111111,
              "#46039f"
             ],
             [
              0.2222222222222222,
              "#7201a8"
             ],
             [
              0.3333333333333333,
              "#9c179e"
             ],
             [
              0.4444444444444444,
              "#bd3786"
             ],
             [
              0.5555555555555556,
              "#d8576b"
             ],
             [
              0.6666666666666666,
              "#ed7953"
             ],
             [
              0.7777777777777778,
              "#fb9f3a"
             ],
             [
              0.8888888888888888,
              "#fdca26"
             ],
             [
              1,
              "#f0f921"
             ]
            ],
            "type": "histogram2d"
           }
          ],
          "histogram2dcontour": [
           {
            "colorbar": {
             "outlinewidth": 0,
             "ticks": ""
            },
            "colorscale": [
             [
              0,
              "#0d0887"
             ],
             [
              0.1111111111111111,
              "#46039f"
             ],
             [
              0.2222222222222222,
              "#7201a8"
             ],
             [
              0.3333333333333333,
              "#9c179e"
             ],
             [
              0.4444444444444444,
              "#bd3786"
             ],
             [
              0.5555555555555556,
              "#d8576b"
             ],
             [
              0.6666666666666666,
              "#ed7953"
             ],
             [
              0.7777777777777778,
              "#fb9f3a"
             ],
             [
              0.8888888888888888,
              "#fdca26"
             ],
             [
              1,
              "#f0f921"
             ]
            ],
            "type": "histogram2dcontour"
           }
          ],
          "mesh3d": [
           {
            "colorbar": {
             "outlinewidth": 0,
             "ticks": ""
            },
            "type": "mesh3d"
           }
          ],
          "parcoords": [
           {
            "line": {
             "colorbar": {
              "outlinewidth": 0,
              "ticks": ""
             }
            },
            "type": "parcoords"
           }
          ],
          "pie": [
           {
            "automargin": true,
            "type": "pie"
           }
          ],
          "scatter": [
           {
            "fillpattern": {
             "fillmode": "overlay",
             "size": 10,
             "solidity": 0.2
            },
            "type": "scatter"
           }
          ],
          "scatter3d": [
           {
            "line": {
             "colorbar": {
              "outlinewidth": 0,
              "ticks": ""
             }
            },
            "marker": {
             "colorbar": {
              "outlinewidth": 0,
              "ticks": ""
             }
            },
            "type": "scatter3d"
           }
          ],
          "scattercarpet": [
           {
            "marker": {
             "colorbar": {
              "outlinewidth": 0,
              "ticks": ""
             }
            },
            "type": "scattercarpet"
           }
          ],
          "scattergeo": [
           {
            "marker": {
             "colorbar": {
              "outlinewidth": 0,
              "ticks": ""
             }
            },
            "type": "scattergeo"
           }
          ],
          "scattergl": [
           {
            "marker": {
             "colorbar": {
              "outlinewidth": 0,
              "ticks": ""
             }
            },
            "type": "scattergl"
           }
          ],
          "scattermapbox": [
           {
            "marker": {
             "colorbar": {
              "outlinewidth": 0,
              "ticks": ""
             }
            },
            "type": "scattermapbox"
           }
          ],
          "scatterpolar": [
           {
            "marker": {
             "colorbar": {
              "outlinewidth": 0,
              "ticks": ""
             }
            },
            "type": "scatterpolar"
           }
          ],
          "scatterpolargl": [
           {
            "marker": {
             "colorbar": {
              "outlinewidth": 0,
              "ticks": ""
             }
            },
            "type": "scatterpolargl"
           }
          ],
          "scatterternary": [
           {
            "marker": {
             "colorbar": {
              "outlinewidth": 0,
              "ticks": ""
             }
            },
            "type": "scatterternary"
           }
          ],
          "surface": [
           {
            "colorbar": {
             "outlinewidth": 0,
             "ticks": ""
            },
            "colorscale": [
             [
              0,
              "#0d0887"
             ],
             [
              0.1111111111111111,
              "#46039f"
             ],
             [
              0.2222222222222222,
              "#7201a8"
             ],
             [
              0.3333333333333333,
              "#9c179e"
             ],
             [
              0.4444444444444444,
              "#bd3786"
             ],
             [
              0.5555555555555556,
              "#d8576b"
             ],
             [
              0.6666666666666666,
              "#ed7953"
             ],
             [
              0.7777777777777778,
              "#fb9f3a"
             ],
             [
              0.8888888888888888,
              "#fdca26"
             ],
             [
              1,
              "#f0f921"
             ]
            ],
            "type": "surface"
           }
          ],
          "table": [
           {
            "cells": {
             "fill": {
              "color": "#EBF0F8"
             },
             "line": {
              "color": "white"
             }
            },
            "header": {
             "fill": {
              "color": "#C8D4E3"
             },
             "line": {
              "color": "white"
             }
            },
            "type": "table"
           }
          ]
         },
         "layout": {
          "annotationdefaults": {
           "arrowcolor": "#2a3f5f",
           "arrowhead": 0,
           "arrowwidth": 1
          },
          "autotypenumbers": "strict",
          "coloraxis": {
           "colorbar": {
            "outlinewidth": 0,
            "ticks": ""
           }
          },
          "colorscale": {
           "diverging": [
            [
             0,
             "#8e0152"
            ],
            [
             0.1,
             "#c51b7d"
            ],
            [
             0.2,
             "#de77ae"
            ],
            [
             0.3,
             "#f1b6da"
            ],
            [
             0.4,
             "#fde0ef"
            ],
            [
             0.5,
             "#f7f7f7"
            ],
            [
             0.6,
             "#e6f5d0"
            ],
            [
             0.7,
             "#b8e186"
            ],
            [
             0.8,
             "#7fbc41"
            ],
            [
             0.9,
             "#4d9221"
            ],
            [
             1,
             "#276419"
            ]
           ],
           "sequential": [
            [
             0,
             "#0d0887"
            ],
            [
             0.1111111111111111,
             "#46039f"
            ],
            [
             0.2222222222222222,
             "#7201a8"
            ],
            [
             0.3333333333333333,
             "#9c179e"
            ],
            [
             0.4444444444444444,
             "#bd3786"
            ],
            [
             0.5555555555555556,
             "#d8576b"
            ],
            [
             0.6666666666666666,
             "#ed7953"
            ],
            [
             0.7777777777777778,
             "#fb9f3a"
            ],
            [
             0.8888888888888888,
             "#fdca26"
            ],
            [
             1,
             "#f0f921"
            ]
           ],
           "sequentialminus": [
            [
             0,
             "#0d0887"
            ],
            [
             0.1111111111111111,
             "#46039f"
            ],
            [
             0.2222222222222222,
             "#7201a8"
            ],
            [
             0.3333333333333333,
             "#9c179e"
            ],
            [
             0.4444444444444444,
             "#bd3786"
            ],
            [
             0.5555555555555556,
             "#d8576b"
            ],
            [
             0.6666666666666666,
             "#ed7953"
            ],
            [
             0.7777777777777778,
             "#fb9f3a"
            ],
            [
             0.8888888888888888,
             "#fdca26"
            ],
            [
             1,
             "#f0f921"
            ]
           ]
          },
          "colorway": [
           "#636efa",
           "#EF553B",
           "#00cc96",
           "#ab63fa",
           "#FFA15A",
           "#19d3f3",
           "#FF6692",
           "#B6E880",
           "#FF97FF",
           "#FECB52"
          ],
          "font": {
           "color": "#2a3f5f"
          },
          "geo": {
           "bgcolor": "white",
           "lakecolor": "white",
           "landcolor": "#E5ECF6",
           "showlakes": true,
           "showland": true,
           "subunitcolor": "white"
          },
          "hoverlabel": {
           "align": "left"
          },
          "hovermode": "closest",
          "mapbox": {
           "style": "light"
          },
          "paper_bgcolor": "white",
          "plot_bgcolor": "#E5ECF6",
          "polar": {
           "angularaxis": {
            "gridcolor": "white",
            "linecolor": "white",
            "ticks": ""
           },
           "bgcolor": "#E5ECF6",
           "radialaxis": {
            "gridcolor": "white",
            "linecolor": "white",
            "ticks": ""
           }
          },
          "scene": {
           "xaxis": {
            "backgroundcolor": "#E5ECF6",
            "gridcolor": "white",
            "gridwidth": 2,
            "linecolor": "white",
            "showbackground": true,
            "ticks": "",
            "zerolinecolor": "white"
           },
           "yaxis": {
            "backgroundcolor": "#E5ECF6",
            "gridcolor": "white",
            "gridwidth": 2,
            "linecolor": "white",
            "showbackground": true,
            "ticks": "",
            "zerolinecolor": "white"
           },
           "zaxis": {
            "backgroundcolor": "#E5ECF6",
            "gridcolor": "white",
            "gridwidth": 2,
            "linecolor": "white",
            "showbackground": true,
            "ticks": "",
            "zerolinecolor": "white"
           }
          },
          "shapedefaults": {
           "line": {
            "color": "#2a3f5f"
           }
          },
          "ternary": {
           "aaxis": {
            "gridcolor": "white",
            "linecolor": "white",
            "ticks": ""
           },
           "baxis": {
            "gridcolor": "white",
            "linecolor": "white",
            "ticks": ""
           },
           "bgcolor": "#E5ECF6",
           "caxis": {
            "gridcolor": "white",
            "linecolor": "white",
            "ticks": ""
           }
          },
          "title": {
           "x": 0.05
          },
          "xaxis": {
           "automargin": true,
           "gridcolor": "white",
           "linecolor": "white",
           "ticks": "",
           "title": {
            "standoff": 15
           },
           "zerolinecolor": "white",
           "zerolinewidth": 2
          },
          "yaxis": {
           "automargin": true,
           "gridcolor": "white",
           "linecolor": "white",
           "ticks": "",
           "title": {
            "standoff": 15
           },
           "zerolinecolor": "white",
           "zerolinewidth": 2
          }
         }
        },
        "title": {
         "text": "Entity Changes"
        }
       }
      }
     },
     "metadata": {},
     "output_type": "display_data"
    }
   ],
   "source": [
    "import plotly.graph_objects as go\n",
    "\n",
    "fig = go.Figure(data=[go.Sankey(\n",
    "    node = dict(\n",
    "      pad = 15,\n",
    "      thickness = 20,\n",
    "      line = dict(color = \"black\", width = 0.5),\n",
    "      label = [\"Factual\", \"Non-Factual\", \"B1\", \"B2\", \"C1\", \"C2\"],\n",
    "      color = \"green\"\n",
    "    ),\n",
    "    link = dict(\n",
    "      source = [0, 1, 0, 2, 3, 3], # indices correspond to labels, eg A1, A2, A1, B1, ...\n",
    "      target = [2, 3, 3, 4, 4, 5],\n",
    "      value = [8, 4, 2, 8, 4, 2]\n",
    "  ))])\n",
    "\n",
    "fig.update_layout(title_text=\"Entity Changes\", font_size=10)\n",
    "fig.show()"
   ]
  },
  {
   "cell_type": "code",
   "execution_count": 2,
   "metadata": {},
   "outputs": [
    {
     "name": "stdout",
     "output_type": "stream",
     "text": [
      "{'data': [{'type': 'sankey', 'domain': {'x': [0, 1], 'y': [0, 1]}, 'orientation': 'h', 'valueformat': '.0f', 'valuesuffix': 'TWh', 'node': {'pad': 15, 'thickness': 15, 'line': {'color': 'black', 'width': 0.5}, 'label': [\"Agricultural 'waste'\", 'Bio-conversion', 'Liquid', 'Losses', 'Solid', 'Gas', 'Biofuel imports', 'Biomass imports', 'Coal imports', 'Coal', 'Coal reserves', 'District heating', 'Industry', 'Heating and cooling - commercial', 'Heating and cooling - homes', 'Electricity grid', 'Over generation / exports', 'H2 conversion', 'Road transport', 'Agriculture', 'Rail transport', 'Lighting & appliances - commercial', 'Lighting & appliances - homes', 'Gas imports', 'Ngas', 'Gas reserves', 'Thermal generation', 'Geothermal', 'H2', 'Hydro', 'International shipping', 'Domestic aviation', 'International aviation', 'National navigation', 'Marine algae', 'Nuclear', 'Oil imports', 'Oil', 'Oil reserves', 'Other waste', 'Pumped heat', 'Solar PV', 'Solar Thermal', 'Solar', 'Tidal', 'UK land based bioenergy', 'Wave', 'Wind'], 'color': ['rgba(31, 119, 180, 0.8)', 'rgba(255, 127, 14, 0.8)', 'rgba(44, 160, 44, 0.8)', 'rgba(214, 39, 40, 0.8)', 'rgba(148, 103, 189, 0.8)', 'rgba(140, 86, 75, 0.8)', 'rgba(227, 119, 194, 0.8)', 'rgba(127, 127, 127, 0.8)', 'rgba(188, 189, 34, 0.8)', 'rgba(23, 190, 207, 0.8)', 'rgba(31, 119, 180, 0.8)', 'rgba(255, 127, 14, 0.8)', 'rgba(44, 160, 44, 0.8)', 'rgba(214, 39, 40, 0.8)', 'rgba(148, 103, 189, 0.8)', 'rgba(140, 86, 75, 0.8)', 'rgba(227, 119, 194, 0.8)', 'rgba(127, 127, 127, 0.8)', 'rgba(188, 189, 34, 0.8)', 'rgba(23, 190, 207, 0.8)', 'rgba(31, 119, 180, 0.8)', 'rgba(255, 127, 14, 0.8)', 'rgba(44, 160, 44, 0.8)', 'rgba(214, 39, 40, 0.8)', 'rgba(148, 103, 189, 0.8)', 'rgba(140, 86, 75, 0.8)', 'rgba(227, 119, 194, 0.8)', 'rgba(127, 127, 127, 0.8)', 'rgba(188, 189, 34, 0.8)', 'rgba(23, 190, 207, 0.8)', 'rgba(31, 119, 180, 0.8)', 'rgba(255, 127, 14, 0.8)', 'rgba(44, 160, 44, 0.8)', 'rgba(214, 39, 40, 0.8)', 'rgba(148, 103, 189, 0.8)', 'rgba(255,0,255, 0.8)', 'rgba(227, 119, 194, 0.8)', 'rgba(127, 127, 127, 0.8)', 'rgba(188, 189, 34, 0.8)', 'rgba(23, 190, 207, 0.8)', 'rgba(31, 119, 180, 0.8)', 'rgba(255, 127, 14, 0.8)', 'rgba(44, 160, 44, 0.8)', 'rgba(214, 39, 40, 0.8)', 'rgba(148, 103, 189, 0.8)', 'rgba(140, 86, 75, 0.8)', 'rgba(227, 119, 194, 0.8)', 'rgba(127, 127, 127, 0.8)']}, 'link': {'source': [0, 1, 1, 1, 1, 6, 7, 8, 10, 9, 11, 11, 11, 15, 15, 15, 15, 15, 15, 15, 15, 15, 15, 15, 23, 25, 5, 5, 5, 5, 5, 27, 17, 17, 28, 29, 2, 2, 2, 2, 2, 2, 2, 2, 34, 24, 35, 35, 36, 38, 37, 39, 39, 40, 40, 41, 42, 43, 43, 4, 4, 4, 26, 26, 26, 44, 45, 46, 47, 35, 35], 'target': [1, 2, 3, 4, 5, 2, 4, 9, 9, 4, 12, 13, 14, 16, 14, 17, 12, 18, 19, 13, 3, 20, 21, 22, 24, 24, 13, 3, 26, 19, 12, 15, 28, 3, 18, 15, 12, 30, 18, 31, 32, 19, 33, 20, 1, 5, 26, 26, 37, 37, 2, 4, 1, 14, 13, 15, 14, 42, 41, 19, 26, 12, 15, 3, 11, 15, 1, 15, 15, 26, 26], 'value': [124.729, 0.597, 26.862, 280.322, 81.144, 35, 35, 11.606, 63.965, 75.571, 10.639, 22.505, 46.184, 104.453, 113.726, 27.14, 342.165, 37.797, 4.412, 40.858, 56.691, 7.863, 90.008, 93.494, 40.719, 82.233, 0.129, 1.401, 151.891, 2.096, 48.58, 7.013, 20.897, 6.242, 20.897, 6.995, 121.066, 128.69, 135.835, 14.458, 206.267, 3.64, 33.218, 4.413, 14.375, 122.952, 500, 139.978, 504.287, 107.703, 611.99, 56.587, 77.81, 193.026, 70.672, 59.901, 19.263, 19.263, 59.901, 0.882, 400.12, 46.477, 525.531, 787.129, 79.329, 9.452, 182.01, 19.013, 289.366, 100, 100], 'color': ['rgba(31, 119, 180, 0.4)', 'rgba(255, 127, 14, 0.4)', 'rgba(255, 127, 14, 0.4)', 'rgba(255, 127, 14, 0.4)', 'rgba(255, 127, 14, 0.4)', 'rgba(227, 119, 194, 0.4)', 'rgba(127, 127, 127, 0.4)', 'rgba(188, 189, 34, 0.4)', 'rgba(31, 119, 180, 0.4)', 'rgba(23, 190, 207, 0.4)', 'rgba(255, 127, 14, 0.4)', 'rgba(255, 127, 14, 0.4)', 'rgba(255, 127, 14, 0.4)', 'rgba(140, 86, 75, 0.4)', 'rgba(140, 86, 75, 0.4)', 'rgba(140, 86, 75, 0.4)', 'rgba(140, 86, 75, 0.4)', 'rgba(140, 86, 75, 0.4)', 'rgba(140, 86, 75, 0.4)', 'rgba(140, 86, 75, 0.4)', 'rgba(140, 86, 75, 0.4)', 'rgba(140, 86, 75, 0.4)', 'rgba(140, 86, 75, 0.4)', 'rgba(140, 86, 75, 0.4)', 'rgba(214, 39, 40, 0.4)', 'rgba(140, 86, 75, 0.4)', 'rgba(140, 86, 75, 0.4)', 'rgba(140, 86, 75, 0.4)', 'rgba(140, 86, 75, 0.4)', 'rgba(140, 86, 75, 0.4)', 'rgba(140, 86, 75, 0.4)', 'rgba(127, 127, 127, 0.4)', 'rgba(127, 127, 127, 0.4)', 'rgba(127, 127, 127, 0.4)', 'rgba(188, 189, 34, 0.4)', 'rgba(23, 190, 207, 0.4)', 'rgba(44, 160, 44, 0.4)', 'rgba(44, 160, 44, 0.4)', 'rgba(44, 160, 44, 0.4)', 'rgba(44, 160, 44, 0.4)', 'rgba(44, 160, 44, 0.4)', 'rgba(44, 160, 44, 0.4)', 'rgba(44, 160, 44, 0.4)', 'rgba(44, 160, 44, 0.4)', 'rgba(148, 103, 189, 0.4)', 'rgba(148, 103, 189, 0.4)', 'rgba(255,0,255, 0.4)', 'rgba(255,0,255, 0.4)', 'rgba(227, 119, 194, 0.4)', 'rgba(188, 189, 34, 0.4)', 'rgba(127, 127, 127, 0.4)', 'rgba(23, 190, 207, 0.4)', 'rgba(23, 190, 207, 0.4)', 'rgba(31, 119, 180, 0.4)', 'rgba(31, 119, 180, 0.4)', 'rgba(255, 127, 14, 0.4)', 'rgba(44, 160, 44, 0.4)', 'rgba(214, 39, 40, 0.4)', 'rgba(214, 39, 40, 0.4)', 'rgba(148, 103, 189, 0.4)', 'rgba(148, 103, 189, 0.4)', 'rgba(148, 103, 189, 0.4)', 'rgba(227, 119, 194, 0.4)', 'rgba(227, 119, 194, 0.4)', 'rgba(227, 119, 194, 0.4)', 'rgba(148, 103, 189, 0.4)', 'rgba(140, 86, 75, 0.4)', 'rgba(227, 119, 194, 0.4)', 'rgba(127, 127, 127, 0.4)', 'rgba(255,0,255, 0.4)', 'rgba(255,0,255, 0.4)'], 'label': ['stream 1', '', '', '', 'stream 1', '', '', '', '', '', '', '', '', '', '', '', '', '', '', '', '', '', '', '', '', '', '', '', '', '', 'stream 1', '', '', '', '', '', '', '', '', '', '', '', '', '', '', '', 'Old generation plant (made-up)', 'New generation plant (made-up)', '', '', '', '', '', '', '', '', '', '', '', '', '', '', '', '', '', '', '', '', '', '', '']}}], 'layout': {'title': {'text': \"Energy forecast for 2050, UK — Department of Energy & Climate Change<br>Imperfect copy of <a href='https://bost.ocks.org/mike/sankey/'>Mike Bostock's example</a><br>with numerous <a href='https://plotly.com/javascript/'>Plotly</a> features\"}, 'width': 1118, 'height': 772, 'font': {'size': 10}, 'updatemenus': [{'y': 1, 'buttons': [{'label': 'Light', 'method': 'relayout', 'args': ['paper_bgcolor', 'white']}, {'label': 'Dark', 'method': 'relayout', 'args': ['paper_bgcolor', 'black']}]}, {'y': 0.9, 'buttons': [{'label': 'Thick', 'method': 'restyle', 'args': ['node.thickness', 15]}, {'label': 'Thin', 'method': 'restyle', 'args': ['node.thickness', 8]}]}, {'y': 0.8, 'buttons': [{'label': 'Small gap', 'method': 'restyle', 'args': ['node.pad', 15]}, {'label': 'Large gap', 'method': 'restyle', 'args': ['node.pad', 20]}]}, {'y': 0.7, 'buttons': [{'label': 'Snap', 'method': 'restyle', 'args': ['arrangement', 'snap']}, {'label': 'Perpendicular', 'method': 'restyle', 'args': ['arrangement', 'perpendicular']}, {'label': 'Freeform', 'method': 'restyle', 'args': ['arrangement', 'freeform']}, {'label': 'Fixed', 'method': 'restyle', 'args': ['arrangement', 'fixed']}]}, {'y': 0.6, 'buttons': [{'label': 'Horizontal', 'method': 'restyle', 'args': ['orientation', 'h']}, {'label': 'Vertical', 'method': 'restyle', 'args': ['orientation', 'v']}]}]}}\n"
     ]
    },
    {
     "data": {
      "application/vnd.plotly.v1+json": {
       "config": {
        "plotlyServerURL": "https://plot.ly"
       },
       "data": [
        {
         "link": {
          "color": [
           "rgba(31, 119, 180, 0.4)",
           "rgba(255, 127, 14, 0.4)",
           "rgba(255, 127, 14, 0.4)",
           "rgba(255, 127, 14, 0.4)",
           "rgba(255, 127, 14, 0.4)",
           "rgba(227, 119, 194, 0.4)",
           "rgba(127, 127, 127, 0.4)",
           "rgba(188, 189, 34, 0.4)",
           "rgba(31, 119, 180, 0.4)",
           "rgba(23, 190, 207, 0.4)",
           "rgba(255, 127, 14, 0.4)",
           "rgba(255, 127, 14, 0.4)",
           "rgba(255, 127, 14, 0.4)",
           "rgba(140, 86, 75, 0.4)",
           "rgba(140, 86, 75, 0.4)",
           "rgba(140, 86, 75, 0.4)",
           "rgba(140, 86, 75, 0.4)",
           "rgba(140, 86, 75, 0.4)",
           "rgba(140, 86, 75, 0.4)",
           "rgba(140, 86, 75, 0.4)",
           "rgba(140, 86, 75, 0.4)",
           "rgba(140, 86, 75, 0.4)",
           "rgba(140, 86, 75, 0.4)",
           "rgba(140, 86, 75, 0.4)",
           "rgba(214, 39, 40, 0.4)",
           "rgba(140, 86, 75, 0.4)",
           "rgba(140, 86, 75, 0.4)",
           "rgba(140, 86, 75, 0.4)",
           "rgba(140, 86, 75, 0.4)",
           "rgba(140, 86, 75, 0.4)",
           "rgba(140, 86, 75, 0.4)",
           "rgba(127, 127, 127, 0.4)",
           "rgba(127, 127, 127, 0.4)",
           "rgba(127, 127, 127, 0.4)",
           "rgba(188, 189, 34, 0.4)",
           "rgba(23, 190, 207, 0.4)",
           "rgba(44, 160, 44, 0.4)",
           "rgba(44, 160, 44, 0.4)",
           "rgba(44, 160, 44, 0.4)",
           "rgba(44, 160, 44, 0.4)",
           "rgba(44, 160, 44, 0.4)",
           "rgba(44, 160, 44, 0.4)",
           "rgba(44, 160, 44, 0.4)",
           "rgba(44, 160, 44, 0.4)",
           "rgba(148, 103, 189, 0.4)",
           "rgba(148, 103, 189, 0.4)",
           "rgba(255,0,255, 0.4)",
           "rgba(255,0,255, 0.4)",
           "rgba(227, 119, 194, 0.4)",
           "rgba(188, 189, 34, 0.4)",
           "rgba(127, 127, 127, 0.4)",
           "rgba(23, 190, 207, 0.4)",
           "rgba(23, 190, 207, 0.4)",
           "rgba(31, 119, 180, 0.4)",
           "rgba(31, 119, 180, 0.4)",
           "rgba(255, 127, 14, 0.4)",
           "rgba(44, 160, 44, 0.4)",
           "rgba(214, 39, 40, 0.4)",
           "rgba(214, 39, 40, 0.4)",
           "rgba(148, 103, 189, 0.4)",
           "rgba(148, 103, 189, 0.4)",
           "rgba(148, 103, 189, 0.4)",
           "rgba(227, 119, 194, 0.4)",
           "rgba(227, 119, 194, 0.4)",
           "rgba(227, 119, 194, 0.4)",
           "rgba(148, 103, 189, 0.4)",
           "rgba(140, 86, 75, 0.4)",
           "rgba(227, 119, 194, 0.4)",
           "rgba(127, 127, 127, 0.4)",
           "rgba(255,0,255, 0.4)",
           "rgba(255,0,255, 0.4)"
          ],
          "label": [
           "stream 1",
           "",
           "",
           "",
           "stream 1",
           "",
           "",
           "",
           "",
           "",
           "",
           "",
           "",
           "",
           "",
           "",
           "",
           "",
           "",
           "",
           "",
           "",
           "",
           "",
           "",
           "",
           "",
           "",
           "",
           "",
           "stream 1",
           "",
           "",
           "",
           "",
           "",
           "",
           "",
           "",
           "",
           "",
           "",
           "",
           "",
           "",
           "",
           "Old generation plant (made-up)",
           "New generation plant (made-up)",
           "",
           "",
           "",
           "",
           "",
           "",
           "",
           "",
           "",
           "",
           "",
           "",
           "",
           "",
           "",
           "",
           "",
           "",
           "",
           "",
           "",
           "",
           ""
          ],
          "source": [
           0,
           1,
           1,
           1,
           1,
           6,
           7,
           8,
           10,
           9,
           11,
           11,
           11,
           15,
           15,
           15,
           15,
           15,
           15,
           15,
           15,
           15,
           15,
           15,
           23,
           25,
           5,
           5,
           5,
           5,
           5,
           27,
           17,
           17,
           28,
           29,
           2,
           2,
           2,
           2,
           2,
           2,
           2,
           2,
           34,
           24,
           35,
           35,
           36,
           38,
           37,
           39,
           39,
           40,
           40,
           41,
           42,
           43,
           43,
           4,
           4,
           4,
           26,
           26,
           26,
           44,
           45,
           46,
           47,
           35,
           35
          ],
          "target": [
           1,
           2,
           3,
           4,
           5,
           2,
           4,
           9,
           9,
           4,
           12,
           13,
           14,
           16,
           14,
           17,
           12,
           18,
           19,
           13,
           3,
           20,
           21,
           22,
           24,
           24,
           13,
           3,
           26,
           19,
           12,
           15,
           28,
           3,
           18,
           15,
           12,
           30,
           18,
           31,
           32,
           19,
           33,
           20,
           1,
           5,
           26,
           26,
           37,
           37,
           2,
           4,
           1,
           14,
           13,
           15,
           14,
           42,
           41,
           19,
           26,
           12,
           15,
           3,
           11,
           15,
           1,
           15,
           15,
           26,
           26
          ],
          "value": [
           124.729,
           0.597,
           26.862,
           280.322,
           81.144,
           35,
           35,
           11.606,
           63.965,
           75.571,
           10.639,
           22.505,
           46.184,
           104.453,
           113.726,
           27.14,
           342.165,
           37.797,
           4.412,
           40.858,
           56.691,
           7.863,
           90.008,
           93.494,
           40.719,
           82.233,
           0.129,
           1.401,
           151.891,
           2.096,
           48.58,
           7.013,
           20.897,
           6.242,
           20.897,
           6.995,
           121.066,
           128.69,
           135.835,
           14.458,
           206.267,
           3.64,
           33.218,
           4.413,
           14.375,
           122.952,
           500,
           139.978,
           504.287,
           107.703,
           611.99,
           56.587,
           77.81,
           193.026,
           70.672,
           59.901,
           19.263,
           19.263,
           59.901,
           0.882,
           400.12,
           46.477,
           525.531,
           787.129,
           79.329,
           9.452,
           182.01,
           19.013,
           289.366,
           100,
           100
          ]
         },
         "node": {
          "color": [
           "rgba(31, 119, 180, 0.8)",
           "rgba(255, 127, 14, 0.8)",
           "rgba(44, 160, 44, 0.8)",
           "rgba(214, 39, 40, 0.8)",
           "rgba(148, 103, 189, 0.8)",
           "rgba(140, 86, 75, 0.8)",
           "rgba(227, 119, 194, 0.8)",
           "rgba(127, 127, 127, 0.8)",
           "rgba(188, 189, 34, 0.8)",
           "rgba(23, 190, 207, 0.8)",
           "rgba(31, 119, 180, 0.8)",
           "rgba(255, 127, 14, 0.8)",
           "rgba(44, 160, 44, 0.8)",
           "rgba(214, 39, 40, 0.8)",
           "rgba(148, 103, 189, 0.8)",
           "rgba(140, 86, 75, 0.8)",
           "rgba(227, 119, 194, 0.8)",
           "rgba(127, 127, 127, 0.8)",
           "rgba(188, 189, 34, 0.8)",
           "rgba(23, 190, 207, 0.8)",
           "rgba(31, 119, 180, 0.8)",
           "rgba(255, 127, 14, 0.8)",
           "rgba(44, 160, 44, 0.8)",
           "rgba(214, 39, 40, 0.8)",
           "rgba(148, 103, 189, 0.8)",
           "rgba(140, 86, 75, 0.8)",
           "rgba(227, 119, 194, 0.8)",
           "rgba(127, 127, 127, 0.8)",
           "rgba(188, 189, 34, 0.8)",
           "rgba(23, 190, 207, 0.8)",
           "rgba(31, 119, 180, 0.8)",
           "rgba(255, 127, 14, 0.8)",
           "rgba(44, 160, 44, 0.8)",
           "rgba(214, 39, 40, 0.8)",
           "rgba(148, 103, 189, 0.8)",
           "rgba(255,0,255, 0.8)",
           "rgba(227, 119, 194, 0.8)",
           "rgba(127, 127, 127, 0.8)",
           "rgba(188, 189, 34, 0.8)",
           "rgba(23, 190, 207, 0.8)",
           "rgba(31, 119, 180, 0.8)",
           "rgba(255, 127, 14, 0.8)",
           "rgba(44, 160, 44, 0.8)",
           "rgba(214, 39, 40, 0.8)",
           "rgba(148, 103, 189, 0.8)",
           "rgba(140, 86, 75, 0.8)",
           "rgba(227, 119, 194, 0.8)",
           "rgba(127, 127, 127, 0.8)"
          ],
          "label": [
           "Agricultural 'waste'",
           "Bio-conversion",
           "Liquid",
           "Losses",
           "Solid",
           "Gas",
           "Biofuel imports",
           "Biomass imports",
           "Coal imports",
           "Coal",
           "Coal reserves",
           "District heating",
           "Industry",
           "Heating and cooling - commercial",
           "Heating and cooling - homes",
           "Electricity grid",
           "Over generation / exports",
           "H2 conversion",
           "Road transport",
           "Agriculture",
           "Rail transport",
           "Lighting & appliances - commercial",
           "Lighting & appliances - homes",
           "Gas imports",
           "Ngas",
           "Gas reserves",
           "Thermal generation",
           "Geothermal",
           "H2",
           "Hydro",
           "International shipping",
           "Domestic aviation",
           "International aviation",
           "National navigation",
           "Marine algae",
           "Nuclear",
           "Oil imports",
           "Oil",
           "Oil reserves",
           "Other waste",
           "Pumped heat",
           "Solar PV",
           "Solar Thermal",
           "Solar",
           "Tidal",
           "UK land based bioenergy",
           "Wave",
           "Wind"
          ],
          "line": {
           "color": "black",
           "width": 0.5
          },
          "pad": 15,
          "thickness": 15
         },
         "type": "sankey",
         "valueformat": ".0f",
         "valuesuffix": "TWh"
        }
       ],
       "layout": {
        "font": {
         "size": 10
        },
        "template": {
         "data": {
          "bar": [
           {
            "error_x": {
             "color": "#2a3f5f"
            },
            "error_y": {
             "color": "#2a3f5f"
            },
            "marker": {
             "line": {
              "color": "#E5ECF6",
              "width": 0.5
             },
             "pattern": {
              "fillmode": "overlay",
              "size": 10,
              "solidity": 0.2
             }
            },
            "type": "bar"
           }
          ],
          "barpolar": [
           {
            "marker": {
             "line": {
              "color": "#E5ECF6",
              "width": 0.5
             },
             "pattern": {
              "fillmode": "overlay",
              "size": 10,
              "solidity": 0.2
             }
            },
            "type": "barpolar"
           }
          ],
          "carpet": [
           {
            "aaxis": {
             "endlinecolor": "#2a3f5f",
             "gridcolor": "white",
             "linecolor": "white",
             "minorgridcolor": "white",
             "startlinecolor": "#2a3f5f"
            },
            "baxis": {
             "endlinecolor": "#2a3f5f",
             "gridcolor": "white",
             "linecolor": "white",
             "minorgridcolor": "white",
             "startlinecolor": "#2a3f5f"
            },
            "type": "carpet"
           }
          ],
          "choropleth": [
           {
            "colorbar": {
             "outlinewidth": 0,
             "ticks": ""
            },
            "type": "choropleth"
           }
          ],
          "contour": [
           {
            "colorbar": {
             "outlinewidth": 0,
             "ticks": ""
            },
            "colorscale": [
             [
              0,
              "#0d0887"
             ],
             [
              0.1111111111111111,
              "#46039f"
             ],
             [
              0.2222222222222222,
              "#7201a8"
             ],
             [
              0.3333333333333333,
              "#9c179e"
             ],
             [
              0.4444444444444444,
              "#bd3786"
             ],
             [
              0.5555555555555556,
              "#d8576b"
             ],
             [
              0.6666666666666666,
              "#ed7953"
             ],
             [
              0.7777777777777778,
              "#fb9f3a"
             ],
             [
              0.8888888888888888,
              "#fdca26"
             ],
             [
              1,
              "#f0f921"
             ]
            ],
            "type": "contour"
           }
          ],
          "contourcarpet": [
           {
            "colorbar": {
             "outlinewidth": 0,
             "ticks": ""
            },
            "type": "contourcarpet"
           }
          ],
          "heatmap": [
           {
            "colorbar": {
             "outlinewidth": 0,
             "ticks": ""
            },
            "colorscale": [
             [
              0,
              "#0d0887"
             ],
             [
              0.1111111111111111,
              "#46039f"
             ],
             [
              0.2222222222222222,
              "#7201a8"
             ],
             [
              0.3333333333333333,
              "#9c179e"
             ],
             [
              0.4444444444444444,
              "#bd3786"
             ],
             [
              0.5555555555555556,
              "#d8576b"
             ],
             [
              0.6666666666666666,
              "#ed7953"
             ],
             [
              0.7777777777777778,
              "#fb9f3a"
             ],
             [
              0.8888888888888888,
              "#fdca26"
             ],
             [
              1,
              "#f0f921"
             ]
            ],
            "type": "heatmap"
           }
          ],
          "heatmapgl": [
           {
            "colorbar": {
             "outlinewidth": 0,
             "ticks": ""
            },
            "colorscale": [
             [
              0,
              "#0d0887"
             ],
             [
              0.1111111111111111,
              "#46039f"
             ],
             [
              0.2222222222222222,
              "#7201a8"
             ],
             [
              0.3333333333333333,
              "#9c179e"
             ],
             [
              0.4444444444444444,
              "#bd3786"
             ],
             [
              0.5555555555555556,
              "#d8576b"
             ],
             [
              0.6666666666666666,
              "#ed7953"
             ],
             [
              0.7777777777777778,
              "#fb9f3a"
             ],
             [
              0.8888888888888888,
              "#fdca26"
             ],
             [
              1,
              "#f0f921"
             ]
            ],
            "type": "heatmapgl"
           }
          ],
          "histogram": [
           {
            "marker": {
             "pattern": {
              "fillmode": "overlay",
              "size": 10,
              "solidity": 0.2
             }
            },
            "type": "histogram"
           }
          ],
          "histogram2d": [
           {
            "colorbar": {
             "outlinewidth": 0,
             "ticks": ""
            },
            "colorscale": [
             [
              0,
              "#0d0887"
             ],
             [
              0.1111111111111111,
              "#46039f"
             ],
             [
              0.2222222222222222,
              "#7201a8"
             ],
             [
              0.3333333333333333,
              "#9c179e"
             ],
             [
              0.4444444444444444,
              "#bd3786"
             ],
             [
              0.5555555555555556,
              "#d8576b"
             ],
             [
              0.6666666666666666,
              "#ed7953"
             ],
             [
              0.7777777777777778,
              "#fb9f3a"
             ],
             [
              0.8888888888888888,
              "#fdca26"
             ],
             [
              1,
              "#f0f921"
             ]
            ],
            "type": "histogram2d"
           }
          ],
          "histogram2dcontour": [
           {
            "colorbar": {
             "outlinewidth": 0,
             "ticks": ""
            },
            "colorscale": [
             [
              0,
              "#0d0887"
             ],
             [
              0.1111111111111111,
              "#46039f"
             ],
             [
              0.2222222222222222,
              "#7201a8"
             ],
             [
              0.3333333333333333,
              "#9c179e"
             ],
             [
              0.4444444444444444,
              "#bd3786"
             ],
             [
              0.5555555555555556,
              "#d8576b"
             ],
             [
              0.6666666666666666,
              "#ed7953"
             ],
             [
              0.7777777777777778,
              "#fb9f3a"
             ],
             [
              0.8888888888888888,
              "#fdca26"
             ],
             [
              1,
              "#f0f921"
             ]
            ],
            "type": "histogram2dcontour"
           }
          ],
          "mesh3d": [
           {
            "colorbar": {
             "outlinewidth": 0,
             "ticks": ""
            },
            "type": "mesh3d"
           }
          ],
          "parcoords": [
           {
            "line": {
             "colorbar": {
              "outlinewidth": 0,
              "ticks": ""
             }
            },
            "type": "parcoords"
           }
          ],
          "pie": [
           {
            "automargin": true,
            "type": "pie"
           }
          ],
          "scatter": [
           {
            "fillpattern": {
             "fillmode": "overlay",
             "size": 10,
             "solidity": 0.2
            },
            "type": "scatter"
           }
          ],
          "scatter3d": [
           {
            "line": {
             "colorbar": {
              "outlinewidth": 0,
              "ticks": ""
             }
            },
            "marker": {
             "colorbar": {
              "outlinewidth": 0,
              "ticks": ""
             }
            },
            "type": "scatter3d"
           }
          ],
          "scattercarpet": [
           {
            "marker": {
             "colorbar": {
              "outlinewidth": 0,
              "ticks": ""
             }
            },
            "type": "scattercarpet"
           }
          ],
          "scattergeo": [
           {
            "marker": {
             "colorbar": {
              "outlinewidth": 0,
              "ticks": ""
             }
            },
            "type": "scattergeo"
           }
          ],
          "scattergl": [
           {
            "marker": {
             "colorbar": {
              "outlinewidth": 0,
              "ticks": ""
             }
            },
            "type": "scattergl"
           }
          ],
          "scattermapbox": [
           {
            "marker": {
             "colorbar": {
              "outlinewidth": 0,
              "ticks": ""
             }
            },
            "type": "scattermapbox"
           }
          ],
          "scatterpolar": [
           {
            "marker": {
             "colorbar": {
              "outlinewidth": 0,
              "ticks": ""
             }
            },
            "type": "scatterpolar"
           }
          ],
          "scatterpolargl": [
           {
            "marker": {
             "colorbar": {
              "outlinewidth": 0,
              "ticks": ""
             }
            },
            "type": "scatterpolargl"
           }
          ],
          "scatterternary": [
           {
            "marker": {
             "colorbar": {
              "outlinewidth": 0,
              "ticks": ""
             }
            },
            "type": "scatterternary"
           }
          ],
          "surface": [
           {
            "colorbar": {
             "outlinewidth": 0,
             "ticks": ""
            },
            "colorscale": [
             [
              0,
              "#0d0887"
             ],
             [
              0.1111111111111111,
              "#46039f"
             ],
             [
              0.2222222222222222,
              "#7201a8"
             ],
             [
              0.3333333333333333,
              "#9c179e"
             ],
             [
              0.4444444444444444,
              "#bd3786"
             ],
             [
              0.5555555555555556,
              "#d8576b"
             ],
             [
              0.6666666666666666,
              "#ed7953"
             ],
             [
              0.7777777777777778,
              "#fb9f3a"
             ],
             [
              0.8888888888888888,
              "#fdca26"
             ],
             [
              1,
              "#f0f921"
             ]
            ],
            "type": "surface"
           }
          ],
          "table": [
           {
            "cells": {
             "fill": {
              "color": "#EBF0F8"
             },
             "line": {
              "color": "white"
             }
            },
            "header": {
             "fill": {
              "color": "#C8D4E3"
             },
             "line": {
              "color": "white"
             }
            },
            "type": "table"
           }
          ]
         },
         "layout": {
          "annotationdefaults": {
           "arrowcolor": "#2a3f5f",
           "arrowhead": 0,
           "arrowwidth": 1
          },
          "autotypenumbers": "strict",
          "coloraxis": {
           "colorbar": {
            "outlinewidth": 0,
            "ticks": ""
           }
          },
          "colorscale": {
           "diverging": [
            [
             0,
             "#8e0152"
            ],
            [
             0.1,
             "#c51b7d"
            ],
            [
             0.2,
             "#de77ae"
            ],
            [
             0.3,
             "#f1b6da"
            ],
            [
             0.4,
             "#fde0ef"
            ],
            [
             0.5,
             "#f7f7f7"
            ],
            [
             0.6,
             "#e6f5d0"
            ],
            [
             0.7,
             "#b8e186"
            ],
            [
             0.8,
             "#7fbc41"
            ],
            [
             0.9,
             "#4d9221"
            ],
            [
             1,
             "#276419"
            ]
           ],
           "sequential": [
            [
             0,
             "#0d0887"
            ],
            [
             0.1111111111111111,
             "#46039f"
            ],
            [
             0.2222222222222222,
             "#7201a8"
            ],
            [
             0.3333333333333333,
             "#9c179e"
            ],
            [
             0.4444444444444444,
             "#bd3786"
            ],
            [
             0.5555555555555556,
             "#d8576b"
            ],
            [
             0.6666666666666666,
             "#ed7953"
            ],
            [
             0.7777777777777778,
             "#fb9f3a"
            ],
            [
             0.8888888888888888,
             "#fdca26"
            ],
            [
             1,
             "#f0f921"
            ]
           ],
           "sequentialminus": [
            [
             0,
             "#0d0887"
            ],
            [
             0.1111111111111111,
             "#46039f"
            ],
            [
             0.2222222222222222,
             "#7201a8"
            ],
            [
             0.3333333333333333,
             "#9c179e"
            ],
            [
             0.4444444444444444,
             "#bd3786"
            ],
            [
             0.5555555555555556,
             "#d8576b"
            ],
            [
             0.6666666666666666,
             "#ed7953"
            ],
            [
             0.7777777777777778,
             "#fb9f3a"
            ],
            [
             0.8888888888888888,
             "#fdca26"
            ],
            [
             1,
             "#f0f921"
            ]
           ]
          },
          "colorway": [
           "#636efa",
           "#EF553B",
           "#00cc96",
           "#ab63fa",
           "#FFA15A",
           "#19d3f3",
           "#FF6692",
           "#B6E880",
           "#FF97FF",
           "#FECB52"
          ],
          "font": {
           "color": "#2a3f5f"
          },
          "geo": {
           "bgcolor": "white",
           "lakecolor": "white",
           "landcolor": "#E5ECF6",
           "showlakes": true,
           "showland": true,
           "subunitcolor": "white"
          },
          "hoverlabel": {
           "align": "left"
          },
          "hovermode": "closest",
          "mapbox": {
           "style": "light"
          },
          "paper_bgcolor": "white",
          "plot_bgcolor": "#E5ECF6",
          "polar": {
           "angularaxis": {
            "gridcolor": "white",
            "linecolor": "white",
            "ticks": ""
           },
           "bgcolor": "#E5ECF6",
           "radialaxis": {
            "gridcolor": "white",
            "linecolor": "white",
            "ticks": ""
           }
          },
          "scene": {
           "xaxis": {
            "backgroundcolor": "#E5ECF6",
            "gridcolor": "white",
            "gridwidth": 2,
            "linecolor": "white",
            "showbackground": true,
            "ticks": "",
            "zerolinecolor": "white"
           },
           "yaxis": {
            "backgroundcolor": "#E5ECF6",
            "gridcolor": "white",
            "gridwidth": 2,
            "linecolor": "white",
            "showbackground": true,
            "ticks": "",
            "zerolinecolor": "white"
           },
           "zaxis": {
            "backgroundcolor": "#E5ECF6",
            "gridcolor": "white",
            "gridwidth": 2,
            "linecolor": "white",
            "showbackground": true,
            "ticks": "",
            "zerolinecolor": "white"
           }
          },
          "shapedefaults": {
           "line": {
            "color": "#2a3f5f"
           }
          },
          "ternary": {
           "aaxis": {
            "gridcolor": "white",
            "linecolor": "white",
            "ticks": ""
           },
           "baxis": {
            "gridcolor": "white",
            "linecolor": "white",
            "ticks": ""
           },
           "bgcolor": "#E5ECF6",
           "caxis": {
            "gridcolor": "white",
            "linecolor": "white",
            "ticks": ""
           }
          },
          "title": {
           "x": 0.05
          },
          "xaxis": {
           "automargin": true,
           "gridcolor": "white",
           "linecolor": "white",
           "ticks": "",
           "title": {
            "standoff": 15
           },
           "zerolinecolor": "white",
           "zerolinewidth": 2
          },
          "yaxis": {
           "automargin": true,
           "gridcolor": "white",
           "linecolor": "white",
           "ticks": "",
           "title": {
            "standoff": 15
           },
           "zerolinecolor": "white",
           "zerolinewidth": 2
          }
         }
        },
        "title": {
         "text": "Energy forecast for 2050<br>Source: Department of Energy & Climate Change, Tom Counsell via <a href='https://bost.ocks.org/mike/sankey/'>Mike Bostock</a>"
        }
       }
      }
     },
     "metadata": {},
     "output_type": "display_data"
    }
   ],
   "source": [
    "import plotly.graph_objects as go\n",
    "import urllib, json\n",
    "\n",
    "url = 'https://raw.githubusercontent.com/plotly/plotly.js/master/test/image/mocks/sankey_energy.json'\n",
    "response = urllib.request.urlopen(url)\n",
    "data = json.loads(response.read())\n",
    "\n",
    "# override gray link colors with 'source' colors\n",
    "opacity = 0.4\n",
    "# change 'magenta' to its 'rgba' value to add opacity\n",
    "data['data'][0]['node']['color'] = ['rgba(255,0,255, 0.8)' if color == \"magenta\" else color for color in data['data'][0]['node']['color']]\n",
    "data['data'][0]['link']['color'] = [data['data'][0]['node']['color'][src].replace(\"0.8\", str(opacity))\n",
    "                                    for src in data['data'][0]['link']['source']]\n",
    "print(data)\n",
    "fig = go.Figure(data=[go.Sankey(\n",
    "    valueformat = \".0f\",\n",
    "    valuesuffix = \"TWh\",\n",
    "    # Define nodes\n",
    "    node = dict(\n",
    "      pad = 15,\n",
    "      thickness = 15,\n",
    "      line = dict(color = \"black\", width = 0.5),\n",
    "      label =  data['data'][0]['node']['label'],\n",
    "      color =  data['data'][0]['node']['color']\n",
    "    ),\n",
    "    # Add links\n",
    "    link = dict(\n",
    "      source =  data['data'][0]['link']['source'],\n",
    "      target =  data['data'][0]['link']['target'],\n",
    "      value =  data['data'][0]['link']['value'],\n",
    "      label =  data['data'][0]['link']['label'],\n",
    "      color =  data['data'][0]['link']['color']\n",
    "))])\n",
    "\n",
    "fig.update_layout(title_text=\"Energy forecast for 2050<br>Source: Department of Energy & Climate Change, Tom Counsell via <a href='https://bost.ocks.org/mike/sankey/'>Mike Bostock</a>\",\n",
    "                  font_size=10)\n",
    "fig.show()"
   ]
  }
 ],
 "metadata": {
  "interpreter": {
   "hash": "3f3fe5eacab954956417c9014984aac9d559687fff881692b0d4e46fa0e895bd"
  },
  "kernelspec": {
   "display_name": "Python 3.8.13 ('factual-beam-search')",
   "language": "python",
   "name": "python3"
  },
  "language_info": {
   "codemirror_mode": {
    "name": "ipython",
    "version": 3
   },
   "file_extension": ".py",
   "mimetype": "text/x-python",
   "name": "python",
   "nbconvert_exporter": "python",
   "pygments_lexer": "ipython3",
   "version": "3.8.13"
  },
  "orig_nbformat": 4
 },
 "nbformat": 4,
 "nbformat_minor": 2
}
