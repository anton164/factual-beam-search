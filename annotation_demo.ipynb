{
 "cells": [
  {
   "cell_type": "code",
   "execution_count": 4,
   "metadata": {},
   "outputs": [
    {
     "name": "stderr",
     "output_type": "stream",
     "text": [
      "Using custom data configuration default\n",
      "Reusing dataset xsum (/Users/anton164/.cache/huggingface/datasets/xsum/default/1.2.0/32c23220eadddb1149b16ed2e9430a05293768cfffbdfd151058697d4c11f934)\n"
     ]
    },
    {
     "data": {
      "application/vnd.jupyter.widget-view+json": {
       "model_id": "c96979c9fa984f888e034b167236eb81",
       "version_major": 2,
       "version_minor": 0
      },
      "text/plain": [
       "  0%|          | 0/3 [00:00<?, ?it/s]"
      ]
     },
     "metadata": {},
     "output_type": "display_data"
    },
    {
     "name": "stdout",
     "output_type": "stream",
     "text": [
      "Data subset: bart-test-extrinsic\n",
      "Annotating 111 summaries\n"
     ]
    },
    {
     "name": "stderr",
     "output_type": "stream",
     "text": [
      " 67%|██████▋   | 74/111 [00:05<00:03, 10.86it/s]"
     ]
    },
    {
     "name": "stdout",
     "output_type": "stream",
     "text": [
      "----XSUM ID 37362341----\n",
      "They found the link after analysing observational studies involving more than 300,000 people.\n",
      "UK experts said people with long-term illnesses and undiagnosed diabetes often felt tired during the day.\n",
      "But they said there was no evidence that napping caused or increased the risk of diabetes.\n",
      "The large study, carried out by scientists at the University of Tokyo, is being presented at a meeting of the European Association for the Study of Diabetes in Munich.\n",
      "Their research found there was a link between long daytime naps of more than 60 minutes and a 45% increased risk of type-2 diabetes, compared with no daytime napping - but there was no link with naps of less than 40 minutes.\n",
      "The researchers said long naps could be a result of disturbed sleep at night, potentially caused by sleep apnoea.\n",
      "And this sleeping disorder could increase the risk of heart attacks, stroke, cardiovascular problems and other metabolic disorders, including type-2 diabetes.\n",
      "Sleep deprivation, caused by work or social life patterns, could also lead to increased appetite, which could increase the risk of type-2 diabetes.\n",
      "But it was also possible that people who were less healthy or in the early stages of diabetes were more likely to nap for longer during the day.\n",
      "Shorter naps, in contrast, were more likely to increase alertness and motor skills, the authors said.\n",
      "Naveed Sattar, professor of metabolic medicine at the University of Glasgow, said there was now a lot of evidence of some kind of link between sleep disturbances and diabetes.\n",
      "\"It's likely that risk factors which lead to diabetes also cause napping. This could include slightly high sugar levels, meaning napping may be an early warning sign of diabetes,\" he said.\n",
      "But proper trials were needed to determine whether sleeping patterns made a difference to \"real health outcomes\".\n",
      "Dr Benjamin Cairns, from the cancer epidemiology unit at the University of Oxford, said the findings should be treated with caution.\n",
      "\"In general, it is not possible to make conclusions about cause and effect based on observational studies alone, because usually they cannot rule out alternative explanations for their findings,\" he said.\n",
      "\n",
      "GT summary: Napping for more than an hour during the day could be a warning sign for type-2 diabetes, Japanese researchers suggest.\n",
      "----\n",
      "Google search for article: https://www.google.com/search?q=bbc+37362341\n",
      "Generated summary: Napping for more than 60 minutes during the day may increase the risk of type-2 diabetes, according to researchers in Japan.\n",
      "What is the label of 'more than 60 minutes (pos 12:32)? In source: True\n"
     ]
    },
    {
     "name": "stderr",
     "output_type": "stream",
     "text": [
      " 68%|██████▊   | 75/111 [00:28<00:13,  2.66it/s]\n"
     ]
    },
    {
     "ename": "KeyboardInterrupt",
     "evalue": "Interrupted by user",
     "output_type": "error",
     "traceback": [
      "\u001b[0;31m---------------------------------------------------------------------------\u001b[0m",
      "\u001b[0;31mKeyboardInterrupt\u001b[0m                         Traceback (most recent call last)",
      "\u001b[1;32m/Users/anton164/git/factual-beam-search/annotation_demo.ipynb Cell 1'\u001b[0m in \u001b[0;36m<cell line: 3>\u001b[0;34m()\u001b[0m\n\u001b[1;32m      <a href='vscode-notebook-cell:/Users/anton164/git/factual-beam-search/annotation_demo.ipynb#ch0000000?line=0'>1</a>\u001b[0m \u001b[39mfrom\u001b[39;00m \u001b[39mannotate_summaries\u001b[39;00m \u001b[39mimport\u001b[39;00m annotate_summaries\n\u001b[0;32m----> <a href='vscode-notebook-cell:/Users/anton164/git/factual-beam-search/annotation_demo.ipynb#ch0000000?line=2'>3</a>\u001b[0m annotate_summaries(\n\u001b[1;32m      <a href='vscode-notebook-cell:/Users/anton164/git/factual-beam-search/annotation_demo.ipynb#ch0000000?line=3'>4</a>\u001b[0m     \u001b[39m\"\u001b[39;49m\u001b[39mbart-test-extrinsic\u001b[39;49m\u001b[39m\"\u001b[39;49m,\n\u001b[1;32m      <a href='vscode-notebook-cell:/Users/anton164/git/factual-beam-search/annotation_demo.ipynb#ch0000000?line=4'>5</a>\u001b[0m     test_size\u001b[39m=\u001b[39;49m\u001b[39m111\u001b[39;49m\n\u001b[1;32m      <a href='vscode-notebook-cell:/Users/anton164/git/factual-beam-search/annotation_demo.ipynb#ch0000000?line=5'>6</a>\u001b[0m )\n",
      "File \u001b[0;32m~/git/factual-beam-search/annotate_summaries.py:65\u001b[0m, in \u001b[0;36mannotate_summaries\u001b[0;34m(data_subset, test_size, model_filter, entity_label_match)\u001b[0m\n\u001b[1;32m     <a href='file:///Users/anton164/git/factual-beam-search/annotate_summaries.py?line=62'>63</a>\u001b[0m \u001b[39mfor\u001b[39;00m model_label, summary \u001b[39min\u001b[39;00m sums_by_model\u001b[39m.\u001b[39mitems():\n\u001b[1;32m     <a href='file:///Users/anton164/git/factual-beam-search/annotate_summaries.py?line=63'>64</a>\u001b[0m     should_annotate \u001b[39m=\u001b[39m \u001b[39m\"\u001b[39m\u001b[39mgold\u001b[39m\u001b[39m\"\u001b[39m \u001b[39mnot\u001b[39;00m \u001b[39min\u001b[39;00m model_label\n\u001b[0;32m---> <a href='file:///Users/anton164/git/factual-beam-search/annotate_summaries.py?line=64'>65</a>\u001b[0m     get_labeled_entities(\n\u001b[1;32m     <a href='file:///Users/anton164/git/factual-beam-search/annotate_summaries.py?line=65'>66</a>\u001b[0m         {sum_id: summary},\n\u001b[1;32m     <a href='file:///Users/anton164/git/factual-beam-search/annotate_summaries.py?line=66'>67</a>\u001b[0m         {},\n\u001b[1;32m     <a href='file:///Users/anton164/git/factual-beam-search/annotate_summaries.py?line=67'>68</a>\u001b[0m         gold_metadata,\n\u001b[1;32m     <a href='file:///Users/anton164/git/factual-beam-search/annotate_summaries.py?line=68'>69</a>\u001b[0m         xsum_test,\n\u001b[1;32m     <a href='file:///Users/anton164/git/factual-beam-search/annotate_summaries.py?line=69'>70</a>\u001b[0m         should_annotate\u001b[39m=\u001b[39;49mshould_annotate,\n\u001b[1;32m     <a href='file:///Users/anton164/git/factual-beam-search/annotate_summaries.py?line=70'>71</a>\u001b[0m         entity_match_type\u001b[39m=\u001b[39;49mentity_label_match,\n\u001b[1;32m     <a href='file:///Users/anton164/git/factual-beam-search/annotate_summaries.py?line=71'>72</a>\u001b[0m         force_annotation_flow\u001b[39m=\u001b[39;49mshould_annotate,\n\u001b[1;32m     <a href='file:///Users/anton164/git/factual-beam-search/annotate_summaries.py?line=72'>73</a>\u001b[0m     )\n",
      "File \u001b[0;32m~/git/factual-beam-search/src/evaluation/factuality.py:39\u001b[0m, in \u001b[0;36mget_labeled_entities\u001b[0;34m(sums_by_id, sum_ents_by_id, gold_metadata, xsum_test, should_annotate, entity_match_type, force_annotation_flow)\u001b[0m\n\u001b[1;32m     <a href='file:///Users/anton164/git/factual-beam-search/src/evaluation/factuality.py?line=33'>34</a>\u001b[0m unknown_entities \u001b[39m=\u001b[39m filter_entities(\n\u001b[1;32m     <a href='file:///Users/anton164/git/factual-beam-search/src/evaluation/factuality.py?line=34'>35</a>\u001b[0m     \u001b[39mlambda\u001b[39;00m x: x[\u001b[39m\"\u001b[39m\u001b[39mlabel\u001b[39m\u001b[39m\"\u001b[39m] \u001b[39m==\u001b[39m ANNOTATION_LABELS[\u001b[39m\"\u001b[39m\u001b[39mUnknown\u001b[39m\u001b[39m\"\u001b[39m],\n\u001b[1;32m     <a href='file:///Users/anton164/git/factual-beam-search/src/evaluation/factuality.py?line=35'>36</a>\u001b[0m     labeled_ents,\n\u001b[1;32m     <a href='file:///Users/anton164/git/factual-beam-search/src/evaluation/factuality.py?line=36'>37</a>\u001b[0m )\n\u001b[1;32m     <a href='file:///Users/anton164/git/factual-beam-search/src/evaluation/factuality.py?line=37'>38</a>\u001b[0m \u001b[39mif\u001b[39;00m should_annotate \u001b[39mand\u001b[39;00m count_entities(unknown_entities) \u001b[39m>\u001b[39m \u001b[39m0\u001b[39m:\n\u001b[0;32m---> <a href='file:///Users/anton164/git/factual-beam-search/src/evaluation/factuality.py?line=38'>39</a>\u001b[0m     result \u001b[39m=\u001b[39m prompt_annotation_flow(\n\u001b[1;32m     <a href='file:///Users/anton164/git/factual-beam-search/src/evaluation/factuality.py?line=39'>40</a>\u001b[0m         unknown_entities,\n\u001b[1;32m     <a href='file:///Users/anton164/git/factual-beam-search/src/evaluation/factuality.py?line=40'>41</a>\u001b[0m         xsum_test,\n\u001b[1;32m     <a href='file:///Users/anton164/git/factual-beam-search/src/evaluation/factuality.py?line=41'>42</a>\u001b[0m         sums_by_id,\n\u001b[1;32m     <a href='file:///Users/anton164/git/factual-beam-search/src/evaluation/factuality.py?line=42'>43</a>\u001b[0m         gold_metadata,\n\u001b[1;32m     <a href='file:///Users/anton164/git/factual-beam-search/src/evaluation/factuality.py?line=43'>44</a>\u001b[0m         force_annotation_flow\n\u001b[1;32m     <a href='file:///Users/anton164/git/factual-beam-search/src/evaluation/factuality.py?line=44'>45</a>\u001b[0m     )\n\u001b[1;32m     <a href='file:///Users/anton164/git/factual-beam-search/src/evaluation/factuality.py?line=45'>46</a>\u001b[0m     \u001b[39mif\u001b[39;00m result \u001b[39mis\u001b[39;00m \u001b[39mnot\u001b[39;00m \u001b[39mFalse\u001b[39;00m:\n\u001b[1;32m     <a href='file:///Users/anton164/git/factual-beam-search/src/evaluation/factuality.py?line=46'>47</a>\u001b[0m         labeled_ents \u001b[39m=\u001b[39m oracle_label_entities(\n\u001b[1;32m     <a href='file:///Users/anton164/git/factual-beam-search/src/evaluation/factuality.py?line=47'>48</a>\u001b[0m             sum_ents_by_id,\n\u001b[1;32m     <a href='file:///Users/anton164/git/factual-beam-search/src/evaluation/factuality.py?line=48'>49</a>\u001b[0m             get_entity_annotations(sum_ents_by_id\u001b[39m.\u001b[39mkeys(), gold_metadata),\n\u001b[1;32m     <a href='file:///Users/anton164/git/factual-beam-search/src/evaluation/factuality.py?line=49'>50</a>\u001b[0m             entity_match_type\n\u001b[1;32m     <a href='file:///Users/anton164/git/factual-beam-search/src/evaluation/factuality.py?line=50'>51</a>\u001b[0m         )\n",
      "File \u001b[0;32m~/git/factual-beam-search/src/annotation.py:105\u001b[0m, in \u001b[0;36mprompt_annotation_flow\u001b[0;34m(unknown_entities, xsum_test, sums_by_id, metadata, force_annotation_flow)\u001b[0m\n\u001b[1;32m    <a href='file:///Users/anton164/git/factual-beam-search/src/annotation.py?line=102'>103</a>\u001b[0m     valid_input \u001b[39m=\u001b[39m response \u001b[39min\u001b[39;00m [\u001b[39m\"\u001b[39m\u001b[39my\u001b[39m\u001b[39m\"\u001b[39m, \u001b[39m\"\u001b[39m\u001b[39mn\u001b[39m\u001b[39m\"\u001b[39m]\n\u001b[1;32m    <a href='file:///Users/anton164/git/factual-beam-search/src/annotation.py?line=103'>104</a>\u001b[0m \u001b[39mif\u001b[39;00m response \u001b[39m==\u001b[39m \u001b[39m\"\u001b[39m\u001b[39my\u001b[39m\u001b[39m\"\u001b[39m \u001b[39mor\u001b[39;00m force_annotation_flow:\n\u001b[0;32m--> <a href='file:///Users/anton164/git/factual-beam-search/src/annotation.py?line=104'>105</a>\u001b[0m     updated_annotations \u001b[39m=\u001b[39m annotate_entities(unknown_entities, xsum_test, sums_by_id)\n\u001b[1;32m    <a href='file:///Users/anton164/git/factual-beam-search/src/annotation.py?line=105'>106</a>\u001b[0m     summary_gold_metadata \u001b[39m=\u001b[39m persist_updated_annotations(\n\u001b[1;32m    <a href='file:///Users/anton164/git/factual-beam-search/src/annotation.py?line=106'>107</a>\u001b[0m         metadata,\n\u001b[1;32m    <a href='file:///Users/anton164/git/factual-beam-search/src/annotation.py?line=107'>108</a>\u001b[0m         updated_annotations,\n\u001b[1;32m    <a href='file:///Users/anton164/git/factual-beam-search/src/annotation.py?line=108'>109</a>\u001b[0m         sums_by_id,\n\u001b[1;32m    <a href='file:///Users/anton164/git/factual-beam-search/src/annotation.py?line=109'>110</a>\u001b[0m     )\n\u001b[1;32m    <a href='file:///Users/anton164/git/factual-beam-search/src/annotation.py?line=110'>111</a>\u001b[0m     \u001b[39mreturn\u001b[39;00m updated_annotations, summary_gold_metadata\n",
      "File \u001b[0;32m~/git/factual-beam-search/src/annotation.py:56\u001b[0m, in \u001b[0;36mannotate_entities\u001b[0;34m(entity_lookup, xsum_test, generated_summaries)\u001b[0m\n\u001b[1;32m     <a href='file:///Users/anton164/git/factual-beam-search/src/annotation.py?line=53'>54</a>\u001b[0m user_input \u001b[39m=\u001b[39m \u001b[39m\"\u001b[39m\u001b[39m\"\u001b[39m\n\u001b[1;32m     <a href='file:///Users/anton164/git/factual-beam-search/src/annotation.py?line=54'>55</a>\u001b[0m \u001b[39mwhile\u001b[39;00m user_input \u001b[39mnot\u001b[39;00m \u001b[39min\u001b[39;00m [\u001b[39m\"\u001b[39m\u001b[39m0\u001b[39m\u001b[39m\"\u001b[39m, \u001b[39m\"\u001b[39m\u001b[39m1\u001b[39m\u001b[39m\"\u001b[39m, \u001b[39m\"\u001b[39m\u001b[39mI\u001b[39m\u001b[39m\"\u001b[39m, \u001b[39m\"\u001b[39m\u001b[39mU\u001b[39m\u001b[39m\"\u001b[39m, \u001b[39m\"\u001b[39m\u001b[39mS\u001b[39m\u001b[39m\"\u001b[39m, \u001b[39m\"\u001b[39m\u001b[39mE\u001b[39m\u001b[39m\"\u001b[39m]:\n\u001b[0;32m---> <a href='file:///Users/anton164/git/factual-beam-search/src/annotation.py?line=55'>56</a>\u001b[0m     user_input \u001b[39m=\u001b[39m \u001b[39minput\u001b[39;49m(\n\u001b[1;32m     <a href='file:///Users/anton164/git/factual-beam-search/src/annotation.py?line=56'>57</a>\u001b[0m         \u001b[39m\"\u001b[39;49m\u001b[39mNon-factual (0), Factual (1), Intrinsic Non-factual (I), Extrinsic Non-factual (E), Unknown (U) or Skip & save annotations (S)\u001b[39;49m\u001b[39m\\n\u001b[39;49;00m\u001b[39m\"\u001b[39;49m\n\u001b[1;32m     <a href='file:///Users/anton164/git/factual-beam-search/src/annotation.py?line=57'>58</a>\u001b[0m     )\n\u001b[1;32m     <a href='file:///Users/anton164/git/factual-beam-search/src/annotation.py?line=59'>60</a>\u001b[0m \u001b[39mif\u001b[39;00m user_input \u001b[39m==\u001b[39m \u001b[39m\"\u001b[39m\u001b[39mS\u001b[39m\u001b[39m\"\u001b[39m:\n\u001b[1;32m     <a href='file:///Users/anton164/git/factual-beam-search/src/annotation.py?line=60'>61</a>\u001b[0m     \u001b[39mreturn\u001b[39;00m updated_annotations\n",
      "File \u001b[0;32m/usr/local/anaconda3/envs/factual-beam-search/lib/python3.8/site-packages/ipykernel/kernelbase.py:1161\u001b[0m, in \u001b[0;36mKernel.raw_input\u001b[0;34m(self, prompt)\u001b[0m\n\u001b[1;32m   <a href='file:///usr/local/anaconda3/envs/factual-beam-search/lib/python3.8/site-packages/ipykernel/kernelbase.py?line=1156'>1157</a>\u001b[0m \u001b[39mif\u001b[39;00m \u001b[39mnot\u001b[39;00m \u001b[39mself\u001b[39m\u001b[39m.\u001b[39m_allow_stdin:\n\u001b[1;32m   <a href='file:///usr/local/anaconda3/envs/factual-beam-search/lib/python3.8/site-packages/ipykernel/kernelbase.py?line=1157'>1158</a>\u001b[0m     \u001b[39mraise\u001b[39;00m StdinNotImplementedError(\n\u001b[1;32m   <a href='file:///usr/local/anaconda3/envs/factual-beam-search/lib/python3.8/site-packages/ipykernel/kernelbase.py?line=1158'>1159</a>\u001b[0m         \u001b[39m\"\u001b[39m\u001b[39mraw_input was called, but this frontend does not support input requests.\u001b[39m\u001b[39m\"\u001b[39m\n\u001b[1;32m   <a href='file:///usr/local/anaconda3/envs/factual-beam-search/lib/python3.8/site-packages/ipykernel/kernelbase.py?line=1159'>1160</a>\u001b[0m     )\n\u001b[0;32m-> <a href='file:///usr/local/anaconda3/envs/factual-beam-search/lib/python3.8/site-packages/ipykernel/kernelbase.py?line=1160'>1161</a>\u001b[0m \u001b[39mreturn\u001b[39;00m \u001b[39mself\u001b[39;49m\u001b[39m.\u001b[39;49m_input_request(\n\u001b[1;32m   <a href='file:///usr/local/anaconda3/envs/factual-beam-search/lib/python3.8/site-packages/ipykernel/kernelbase.py?line=1161'>1162</a>\u001b[0m     \u001b[39mstr\u001b[39;49m(prompt),\n\u001b[1;32m   <a href='file:///usr/local/anaconda3/envs/factual-beam-search/lib/python3.8/site-packages/ipykernel/kernelbase.py?line=1162'>1163</a>\u001b[0m     \u001b[39mself\u001b[39;49m\u001b[39m.\u001b[39;49m_parent_ident[\u001b[39m\"\u001b[39;49m\u001b[39mshell\u001b[39;49m\u001b[39m\"\u001b[39;49m],\n\u001b[1;32m   <a href='file:///usr/local/anaconda3/envs/factual-beam-search/lib/python3.8/site-packages/ipykernel/kernelbase.py?line=1163'>1164</a>\u001b[0m     \u001b[39mself\u001b[39;49m\u001b[39m.\u001b[39;49mget_parent(\u001b[39m\"\u001b[39;49m\u001b[39mshell\u001b[39;49m\u001b[39m\"\u001b[39;49m),\n\u001b[1;32m   <a href='file:///usr/local/anaconda3/envs/factual-beam-search/lib/python3.8/site-packages/ipykernel/kernelbase.py?line=1164'>1165</a>\u001b[0m     password\u001b[39m=\u001b[39;49m\u001b[39mFalse\u001b[39;49;00m,\n\u001b[1;32m   <a href='file:///usr/local/anaconda3/envs/factual-beam-search/lib/python3.8/site-packages/ipykernel/kernelbase.py?line=1165'>1166</a>\u001b[0m )\n",
      "File \u001b[0;32m/usr/local/anaconda3/envs/factual-beam-search/lib/python3.8/site-packages/ipykernel/kernelbase.py:1205\u001b[0m, in \u001b[0;36mKernel._input_request\u001b[0;34m(self, prompt, ident, parent, password)\u001b[0m\n\u001b[1;32m   <a href='file:///usr/local/anaconda3/envs/factual-beam-search/lib/python3.8/site-packages/ipykernel/kernelbase.py?line=1201'>1202</a>\u001b[0m             \u001b[39mbreak\u001b[39;00m\n\u001b[1;32m   <a href='file:///usr/local/anaconda3/envs/factual-beam-search/lib/python3.8/site-packages/ipykernel/kernelbase.py?line=1202'>1203</a>\u001b[0m \u001b[39mexcept\u001b[39;00m \u001b[39mKeyboardInterrupt\u001b[39;00m:\n\u001b[1;32m   <a href='file:///usr/local/anaconda3/envs/factual-beam-search/lib/python3.8/site-packages/ipykernel/kernelbase.py?line=1203'>1204</a>\u001b[0m     \u001b[39m# re-raise KeyboardInterrupt, to truncate traceback\u001b[39;00m\n\u001b[0;32m-> <a href='file:///usr/local/anaconda3/envs/factual-beam-search/lib/python3.8/site-packages/ipykernel/kernelbase.py?line=1204'>1205</a>\u001b[0m     \u001b[39mraise\u001b[39;00m \u001b[39mKeyboardInterrupt\u001b[39;00m(\u001b[39m\"\u001b[39m\u001b[39mInterrupted by user\u001b[39m\u001b[39m\"\u001b[39m) \u001b[39mfrom\u001b[39;00m \u001b[39mNone\u001b[39m\n\u001b[1;32m   <a href='file:///usr/local/anaconda3/envs/factual-beam-search/lib/python3.8/site-packages/ipykernel/kernelbase.py?line=1205'>1206</a>\u001b[0m \u001b[39mexcept\u001b[39;00m \u001b[39mException\u001b[39;00m:\n\u001b[1;32m   <a href='file:///usr/local/anaconda3/envs/factual-beam-search/lib/python3.8/site-packages/ipykernel/kernelbase.py?line=1206'>1207</a>\u001b[0m     \u001b[39mself\u001b[39m\u001b[39m.\u001b[39mlog\u001b[39m.\u001b[39mwarning(\u001b[39m\"\u001b[39m\u001b[39mInvalid Message:\u001b[39m\u001b[39m\"\u001b[39m, exc_info\u001b[39m=\u001b[39m\u001b[39mTrue\u001b[39;00m)\n",
      "\u001b[0;31mKeyboardInterrupt\u001b[0m: Interrupted by user"
     ]
    }
   ],
   "source": [
    "from annotate_summaries import annotate_summaries\n",
    "\n",
    "annotate_summaries(\n",
    "    \"bart-test-extrinsic\",\n",
    "    test_size=111\n",
    ")"
   ]
  }
 ],
 "metadata": {
  "interpreter": {
   "hash": "3f3fe5eacab954956417c9014984aac9d559687fff881692b0d4e46fa0e895bd"
  },
  "kernelspec": {
   "display_name": "Python 3.8.13 ('factual-beam-search')",
   "language": "python",
   "name": "python3"
  },
  "language_info": {
   "codemirror_mode": {
    "name": "ipython",
    "version": 3
   },
   "file_extension": ".py",
   "mimetype": "text/x-python",
   "name": "python",
   "nbconvert_exporter": "python",
   "pygments_lexer": "ipython3",
   "version": "3.8.13"
  },
  "orig_nbformat": 4
 },
 "nbformat": 4,
 "nbformat_minor": 2
}
