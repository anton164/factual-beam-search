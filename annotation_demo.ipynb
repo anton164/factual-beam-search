{
 "cells": [
  {
   "cell_type": "code",
   "execution_count": 1,
   "metadata": {},
   "outputs": [
    {
     "name": "stderr",
     "output_type": "stream",
     "text": [
      "Using custom data configuration default\n",
      "Reusing dataset xsum (/Users/anton164/.cache/huggingface/datasets/xsum/default/1.2.0/32c23220eadddb1149b16ed2e9430a05293768cfffbdfd151058697d4c11f934)\n"
     ]
    },
    {
     "data": {
      "application/vnd.jupyter.widget-view+json": {
       "model_id": "8d9078cb86634dde8e597a0bb8d4e583",
       "version_major": 2,
       "version_minor": 0
      },
      "text/plain": [
       "  0%|          | 0/3 [00:00<?, ?it/s]"
      ]
     },
     "metadata": {},
     "output_type": "display_data"
    },
    {
     "name": "stdout",
     "output_type": "stream",
     "text": [
      "Data subset: bart-test-extrinsic\n",
      "Annotating 111 summaries\n"
     ]
    },
    {
     "name": "stderr",
     "output_type": "stream",
     "text": [
      " 67%|██████▋   | 74/111 [00:05<00:02, 13.67it/s]"
     ]
    },
    {
     "name": "stdout",
     "output_type": "stream",
     "text": [
      "----XSUM ID 37362341----\n",
      "They found the link after analysing observational studies involving more than 300,000 people.\n",
      "UK experts said people with long-term illnesses and undiagnosed diabetes often felt tired during the day.\n",
      "But they said there was no evidence that napping caused or increased the risk of diabetes.\n",
      "The large study, carried out by scientists at the University of Tokyo, is being presented at a meeting of the European Association for the Study of Diabetes in Munich.\n",
      "Their research found there was a link between long daytime naps of more than 60 minutes and a 45% increased risk of type-2 diabetes, compared with no daytime napping - but there was no link with naps of less than 40 minutes.\n",
      "The researchers said long naps could be a result of disturbed sleep at night, potentially caused by sleep apnoea.\n",
      "And this sleeping disorder could increase the risk of heart attacks, stroke, cardiovascular problems and other metabolic disorders, including type-2 diabetes.\n",
      "Sleep deprivation, caused by work or social life patterns, could also lead to increased appetite, which could increase the risk of type-2 diabetes.\n",
      "But it was also possible that people who were less healthy or in the early stages of diabetes were more likely to nap for longer during the day.\n",
      "Shorter naps, in contrast, were more likely to increase alertness and motor skills, the authors said.\n",
      "Naveed Sattar, professor of metabolic medicine at the University of Glasgow, said there was now a lot of evidence of some kind of link between sleep disturbances and diabetes.\n",
      "\"It's likely that risk factors which lead to diabetes also cause napping. This could include slightly high sugar levels, meaning napping may be an early warning sign of diabetes,\" he said.\n",
      "But proper trials were needed to determine whether sleeping patterns made a difference to \"real health outcomes\".\n",
      "Dr Benjamin Cairns, from the cancer epidemiology unit at the University of Oxford, said the findings should be treated with caution.\n",
      "\"In general, it is not possible to make conclusions about cause and effect based on observational studies alone, because usually they cannot rule out alternative explanations for their findings,\" he said.\n",
      "\n",
      "GT summary: Napping for more than an hour during the day could be a warning sign for type-2 diabetes, Japanese researchers suggest.\n",
      "----\n",
      "Google search for article: https://www.google.com/search?q=bbc+37362341\n",
      "Generated summary: Napping for more than 60 minutes during the day may increase the risk of type-2 diabetes, according to researchers in Japan.\n",
      "What is the label of 'more than 60 minutes (pos 12:32)? In source: True\n"
     ]
    }
   ],
   "source": [
    "from annotate_summaries import annotate_summaries\n",
    "\n",
    "annotate_summaries(\n",
    "    \"bart-test-extrinsic\",\n",
    "    test_size=111\n",
    ")"
   ]
  }
 ],
 "metadata": {
  "interpreter": {
   "hash": "3f3fe5eacab954956417c9014984aac9d559687fff881692b0d4e46fa0e895bd"
  },
  "kernelspec": {
   "display_name": "Python 3.8.13 ('factual-beam-search')",
   "language": "python",
   "name": "python3"
  },
  "language_info": {
   "codemirror_mode": {
    "name": "ipython",
    "version": 3
   },
   "file_extension": ".py",
   "mimetype": "text/x-python",
   "name": "python",
   "nbconvert_exporter": "python",
   "pygments_lexer": "ipython3",
   "version": "3.8.13"
  },
  "orig_nbformat": 4
 },
 "nbformat": 4,
 "nbformat_minor": 2
}
