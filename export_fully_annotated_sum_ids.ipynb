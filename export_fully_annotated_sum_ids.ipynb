{
 "cells": [
  {
   "cell_type": "code",
   "execution_count": 1,
   "metadata": {},
   "outputs": [
    {
     "name": "stderr",
     "output_type": "stream",
     "text": [
      "Using custom data configuration default\n",
      "Reusing dataset xsum (/Users/anton164/.cache/huggingface/datasets/xsum/default/1.2.0/32c23220eadddb1149b16ed2e9430a05293768cfffbdfd151058697d4c11f934)\n"
     ]
    },
    {
     "data": {
      "application/vnd.jupyter.widget-view+json": {
       "model_id": "f0c88c2f29d04a1889e6c7a276c3c70d",
       "version_major": 2,
       "version_minor": 0
      },
      "text/plain": [
       "  0%|          | 0/3 [00:00<?, ?it/s]"
      ]
     },
     "metadata": {},
     "output_type": "display_data"
    }
   ],
   "source": [
    "from src.data_utils import load_xsum_dict, load_shuffled_test_split\n",
    "\n",
    "xsum_test = load_xsum_dict(\"test\")\n",
    "bart_test_extrinsic = load_shuffled_test_split(xsum_test, \"bart-test-extrinsic\", len(xsum_test))"
   ]
  },
  {
   "cell_type": "code",
   "execution_count": 2,
   "metadata": {},
   "outputs": [
    {
     "data": {
      "text/plain": [
       "11334"
      ]
     },
     "execution_count": 2,
     "metadata": {},
     "output_type": "execute_result"
    }
   ],
   "source": [
    "from src.data_utils import load_summaries_from_logs\n",
    "\n",
    "sums_by_id, sum_ents_by_id, failed_sums_by_id = load_summaries_from_logs(\n",
    "    f\"results/gef-logs/bart-full-classifier-knnv1.json\",\n",
    "    max_iterations=5,\n",
    ")\n",
    "len(sums_by_id)"
   ]
  },
  {
   "cell_type": "code",
   "execution_count": 11,
   "metadata": {},
   "outputs": [],
   "source": [
    "from src.detect_entities import detect_entities\n",
    "from src.entity_utils import filter_entities\n",
    "from src.entity_factuality import (\n",
    "    ANNOTATION_LABELS,\n",
    ")\n",
    "from src.data_utils import get_gold_xsum_data\n",
    "from src.oracle import oracle_label_entities, get_entity_annotations\n",
    "from sumtool.storage import get_summaries\n",
    "\n",
    "gold_sums, gold_metadata = get_gold_xsum_data()\n",
    "\n",
    "\n",
    "for sum_id, summary in sums_by_id.items():\n",
    "    if sum_id not in sum_ents_by_id:\n",
    "        sum_ents_by_id[sum_id] = detect_entities(\n",
    "            summary, xsum_test[sum_id][\"document\"]\n",
    "        )\n",
    "labeled_ents = oracle_label_entities(\n",
    "    sum_ents_by_id,\n",
    "    get_entity_annotations(sum_ents_by_id.keys(), gold_metadata),\n",
    "    \"strict_all\",\n",
    ")\n",
    "unknown_entities = filter_entities(\n",
    "    lambda x: x[\"label\"] == ANNOTATION_LABELS[\"Unknown\"],\n",
    "    labeled_ents,\n",
    ")\n",
    "\n",
    "baseline_dataset = get_summaries(\"xsum\", \"facebook-bart-large-xsum\")\n",
    "baseline_sums_by_id = {sum_id: x[\"summary\"] for sum_id, x in baseline_dataset.items()}\n",
    "baseline_sum_ents_by_id = {}\n",
    "for sum_id, summary in baseline_sums_by_id.items():\n",
    "    if sum_id not in baseline_sum_ents_by_id:\n",
    "        baseline_sum_ents_by_id[sum_id] = detect_entities(\n",
    "            summary, xsum_test[sum_id][\"document\"]\n",
    "        )\n",
    "\n",
    "baseline_labeled_ents = oracle_label_entities(\n",
    "    baseline_sum_ents_by_id,\n",
    "    get_entity_annotations(sum_ents_by_id.keys(), gold_metadata),\n",
    "    \"strict_all\",\n",
    ")\n",
    "baseline_unknown_entities = filter_entities(\n",
    "    lambda x: x[\"label\"] == ANNOTATION_LABELS[\"Unknown\"],\n",
    "    baseline_labeled_ents,\n",
    ")"
   ]
  },
  {
   "cell_type": "code",
   "execution_count": 13,
   "metadata": {},
   "outputs": [
    {
     "name": "stdout",
     "output_type": "stream",
     "text": [
      "139\n"
     ]
    }
   ],
   "source": [
    "import json\n",
    "\n",
    "xsum_extrinsic_fully_annotated = []\n",
    "for sum_id, unknown_ents in unknown_entities.items():\n",
    "    if len(unknown_ents) == 0 and len(baseline_unknown_entities[sum_id]) == 0 and sum_id in bart_test_extrinsic:\n",
    "        xsum_extrinsic_fully_annotated.append(sum_id)\n",
    "\n",
    "print(len(xsum_extrinsic_fully_annotated))\n",
    "with open(\"./data/xsum_fully_annotated_test_splits.json\", \"w\") as f:\n",
    "    json.dump({\n",
    "        \"bart-extrinsic-fully-annotated\": xsum_extrinsic_fully_annotated\n",
    "    }, f)"
   ]
  }
 ],
 "metadata": {
  "interpreter": {
   "hash": "3f3fe5eacab954956417c9014984aac9d559687fff881692b0d4e46fa0e895bd"
  },
  "kernelspec": {
   "display_name": "Python 3.8.13 ('factual-beam-search')",
   "language": "python",
   "name": "python3"
  },
  "language_info": {
   "codemirror_mode": {
    "name": "ipython",
    "version": 3
   },
   "file_extension": ".py",
   "mimetype": "text/x-python",
   "name": "python",
   "nbconvert_exporter": "python",
   "pygments_lexer": "ipython3",
   "version": "3.8.13"
  },
  "orig_nbformat": 4
 },
 "nbformat": 4,
 "nbformat_minor": 2
}
